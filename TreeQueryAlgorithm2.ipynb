{
  "cells": [
    {
      "cell_type": "markdown",
      "metadata": {
        "id": "gTIZUJaKaVXU"
      },
      "source": [
        "La siguiente clase funciona para implementar un arbol de busqueda binario a partir de una lista ordenada, completar para regresar el subarbol correspondiente"
      ]
    },
    {
      "cell_type": "code",
      "execution_count": 4,
      "metadata": {
        "id": "imSa60-CIVFF"
      },
      "outputs": [],
      "source": [
        "class Node:\n",
        "    def __init__(self, value):\n",
        "        self.value = value\n",
        "        self.left = None\n",
        "        self.right = None\n",
        "\n",
        "    def __repr__(self) -> str:\n",
        "        return f\"Node({self.value})\"\n",
        "\n",
        "    def add_children(self, nodes_left,nodes_right):\n",
        "        if nodes_left:\n",
        "            i_left=len(nodes_left)//2\n",
        "            self.left=Node(nodes_left[i_left])\n",
        "            self.left.add_children(nodes_left[:i_left], nodes_left[i_left+1:])\n",
        "        if nodes_right:\n",
        "            i_right=len(nodes_right)//2\n",
        "            self.right=Node(nodes_right[i_right])\n",
        "            self.right.add_children(nodes_right[:i_right], nodes_right[i_right+1:])\n",
        "            \n",
        "    def report_subtree(self):\n",
        "        ''' regresa todos los valores en el subarbol\n",
        "            Input: None\n",
        "            Output: todos los hijos del nodo\n",
        "        '''\n",
        "        result = [self.value]\n",
        "        if self.left:\n",
        "            result += self.left.report_subtree()\n",
        "        if self.right:\n",
        "            result += self.right.report_subtree()\n",
        "        return result\n"
      ]
    },
    {
      "cell_type": "markdown",
      "metadata": {
        "id": "qZLeDnXoFXhd"
      },
      "source": [
        "Implementar usando el BST la consulta de la lista P en el rango [a,b] , medir para numeros pequenos que el algoritmo este funcionando correctamente con casos generados por la siguiente celda.\n",
        "Generar una funcion que dados unos puntos y un intervalo a,b regrese la consulta de los puntos en el conjunto que se encuentran dentro del intervalo"
      ]
    },
    {
      "cell_type": "code",
      "execution_count": 9,
      "metadata": {
        "id": "A7W4m7uOjHrD"
      },
      "outputs": [],
      "source": [
        "import random\n",
        "def gen_puntos_consulta1d(n):\n",
        "\n",
        "  P=[(random.uniform(-100, 100),random.uniform(-100, 100)) for _ in range(n)]\n",
        "  a=random.uniform(-100, 100)\n",
        "  b=random.uniform(a, 100)\n",
        "  return P, a, b\n",
        "\n",
        "def gen_puntos_consulta2d(n):\n",
        "\n",
        "  P=[(random.uniform(-100, 100),random.uniform(-100, 100)) for _ in range(n)]\n",
        "  a=random.uniform(-100, 100)\n",
        "  b=random.uniform(a, 100)\n",
        "  c=random.uniform(-100, 100)\n",
        "  d=random.uniform(c, 100)\n",
        "  return P, a, b, c, d\n",
        "\n",
        "def nodeIsLeaf(node):\n",
        "  '''Funcion que verifica si un nodo es una hoja\n",
        "     Input: nodo\n",
        "     Output: True si el nodo es una hoja, False en otro caso\n",
        "  '''\n",
        "  return node.left == None and node.right == None\n",
        "\n",
        "def findSplitNode(node, a, b):\n",
        "  '''Funcion que encuentra el nodo que divide el intervalo [a,b]\n",
        "     Input: nodo, a, b\n",
        "     Output: nodo que divide el intervalo [a,b]\n",
        "  '''\n",
        "  v = node\n",
        "  while not nodeIsLeaf(v) and (v.value[0] < a or v.value[0] > b):\n",
        "    if v.value[0] < a:\n",
        "      v = v.right\n",
        "    else:\n",
        "      v = v.left\n",
        "  return v\n",
        "\n",
        "\n",
        "def consulta_pts_intervalo(puntos, a, b):\n",
        "  '''Funcion que genera una consulta de puntos en dimension 1\n",
        "     Input: puntos, a, b\n",
        "     Output: puntos en el conjunto dentro del intervalo [a,b]\n",
        "  '''\n",
        "  result = []\n",
        "  puntos.sort()\n",
        "  tmpBST = Node(puntos[len(puntos)//2])\n",
        "  tmpBST.add_children(puntos[:len(puntos)//2], puntos[len(puntos)//2+1:])\n",
        "  v_split = findSplitNode(tmpBST, a, b)\n",
        "  if nodeIsLeaf(v_split):\n",
        "    if v_split.value[0] >= a and v_split.value[0] <= b:\n",
        "      result.append(v_split.value)\n",
        "  else:\n",
        "    v = v_split.left\n",
        "    while not nodeIsLeaf(v):\n",
        "      if a <= v.value[0]:\n",
        "        # Reportar subarbol derecho\n",
        "        result.append(v.value[0])\n",
        "        if v.right:\n",
        "          result += v.right.report_subtree()\n",
        "        v = v.left\n",
        "      else:\n",
        "        v = v.right\n",
        "      \n",
        "    return result\n",
        "\n",
        "\n",
        "    \n",
        "  \n",
        "##recordar que para esta consulta es util ir guardando la region corresponiente a cada nodo\n",
        "#para esto se puede modificar el objeto nodo y en la implementacion 2d ir guardando la correspondiente region\n",
        "def consulta_2d(puntos, a, b, c, d):\n",
        "  '''Funcion que genera una consulta de puntos en dimension 1\n",
        "     Input: puntos, a, b, c, d\n",
        "     Output: puntos en el conjunto dentro del intervalo [a,b]X[c,d]\n",
        "  '''\n",
        "  return None"
      ]
    },
    {
      "cell_type": "code",
      "execution_count": 10,
      "metadata": {},
      "outputs": [
        {
          "name": "stdout",
          "output_type": "stream",
          "text": [
            "[(-21.221584094415903, 67.71548873493052), (-68.03693875926734, 56.49044597916421), (-56.71465180444719, 45.40988953550274), (-71.3706758790328, 16.207689445878827), (-99.00660210256527, 16.406371042967578), (7.014520724759549, 29.223556846898703), (20.798946250364622, 23.431612497976488), (99.49797388310256, -54.4497319730723), (9.316766476109933, 72.69477036455072), (-20.65339257749696, 99.94616471457613)]\n",
            "52.1675965675075\n",
            "64.64244864944914\n",
            "None\n"
          ]
        }
      ],
      "source": [
        "# Pruebas de la funcion consulta_pts_intervalo\n",
        "P, a, b = gen_puntos_consulta1d(10)\n",
        "\n",
        "print(P)\n",
        "print(a)\n",
        "print(b)\n",
        "print(consulta_pts_intervalo(P, a, b))"
      ]
    },
    {
      "cell_type": "markdown",
      "metadata": {
        "id": "rjBBV0N_c3DQ"
      },
      "source": [
        "Crear un arbol balanceado de busqueda binario para puntos en 3d usando la funcion de generacion de puntos, verificar que se este generando de manera correcta."
      ]
    },
    {
      "cell_type": "code",
      "execution_count": null,
      "metadata": {
        "id": "eo-dF6SOcwTe"
      },
      "outputs": [],
      "source": [
        "def gen_random_3dpoints(n):\n",
        "\n",
        "  P=[(random.uniform(-100, 100),random.uniform(-100, 100), random.uniform(-100, 100)) for _ in range(n)]\n",
        "  return P"
      ]
    },
    {
      "cell_type": "markdown",
      "metadata": {
        "id": "h1enNmBD7H5a"
      },
      "source": [
        "medir el tiempo de ejecucion del algoritmo en 1d,\n",
        "medir el tiempo de ejecucion del algoritmo implementado en 2d. Comparar estos reslutados con lo teorico"
      ]
    },
    {
      "cell_type": "code",
      "execution_count": 5,
      "metadata": {
        "id": "XULSF2pJL0a9"
      },
      "outputs": [],
      "source": [
        "import time\n",
        "def tiempo_ejecucion_1d(func, points, a,b):\n",
        "  start_time = time.time()\n",
        "  result = func(points, a, b)\n",
        "  end_time = time.time()\n",
        "  execution_time = end_time - start_time\n",
        "  return result, execution_time\n",
        "def tiempo_ejecucion_2d(func, points, a,b, c,d):\n",
        "  '''Mide el tiempo de ejecucion del algoritmo de consulta en el cubo [a,b]x[c,d]\n",
        "     Input: funcion de ejecucion de consulta, valores a, b, c, d del cubo\n",
        "     Output: tiempo de ejecucion de la consulta\n",
        "  '''\n",
        "  start_time = time.time()\n",
        "  result = func(points, a, b)\n",
        "  end_time = time.time()\n",
        "  execution_time = end_time - start_time\n",
        "  return result, execution_time\n",
        "\n",
        "\n"
      ]
    }
  ],
  "metadata": {
    "colab": {
      "provenance": []
    },
    "kernelspec": {
      "display_name": "Python 3",
      "name": "python3"
    },
    "language_info": {
      "codemirror_mode": {
        "name": "ipython",
        "version": 3
      },
      "file_extension": ".py",
      "mimetype": "text/x-python",
      "name": "python",
      "nbconvert_exporter": "python",
      "pygments_lexer": "ipython3",
      "version": "3.10.6"
    }
  },
  "nbformat": 4,
  "nbformat_minor": 0
}
