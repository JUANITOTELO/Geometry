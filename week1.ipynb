{
 "cells": [
  {
   "cell_type": "markdown",
   "metadata": {},
   "source": [
    "# Lecture 1"
   ]
  },
  {
   "cell_type": "code",
   "execution_count": 1,
   "metadata": {},
   "outputs": [],
   "source": [
    "def orientation(a, b, c):\n",
    "    ob = (b[0]-a[0], b[1]-a[1])\n",
    "    oc = (c[0]-a[0], c[1]-a[1])\n",
    "    det = ob[0]*oc[1]-ob[1]*oc[0]\n",
    "    return -1 if det<0 else 1 if det>0 else 0"
   ]
  },
  {
   "cell_type": "markdown",
   "metadata": {},
   "source": [
    "# Lecture 2"
   ]
  },
  {
   "cell_type": "code",
   "execution_count": 2,
   "metadata": {},
   "outputs": [],
   "source": [
    "# Checks if the point b its on the segment ac\n",
    "def onSegment(a,b,c):\n",
    "    on_x_proyection = b[0]<=max(a[0],c[0]) and b[0]>= min(a[0],c[0])\n",
    "    print(f\"pr_x: {on_x_proyection}\")\n",
    "    on_y_proyection = b[1]<=max(a[1],c[1]) and b[1]>= min(a[1],c[1])\n",
    "    print(f\"pr_y: {on_y_proyection}\")\n",
    "    if(on_x_proyection and on_y_proyection): return True\n",
    "    return False\n",
    "\n",
    "def doIntersect(a,b,c,d):\n",
    "    # Orientations between segment and the other points\n",
    "    o_c_segment_ab = orientation(a,b,c)\n",
    "    o_d_segment_ab = orientation(a,b,d)\n",
    "    o_a_segment_cd = orientation(c,d,a)\n",
    "    o_b_segment_cd = orientation(c,d,b)\n",
    "\n",
    "    # Case 1\n",
    "    if(o_c_segment_ab != o_d_segment_ab and o_a_segment_cd != o_b_segment_cd):\n",
    "        return True\n",
    "    \n",
    "    # Special cases when they are colinear\n",
    "    print(\"Case 1\")\n",
    "    if(o_c_segment_ab == 0 and onSegment(a,c,b)): return True\n",
    "    print(\"Case 2\")\n",
    "    if(o_d_segment_ab == 0 and onSegment(a,d,b)): return True\n",
    "    print(\"Case 3\")\n",
    "    if(o_a_segment_cd == 0 and onSegment(c,a,d)): return True\n",
    "    print(\"Case 4\")\n",
    "    if(o_b_segment_cd == 0 and onSegment(c,b,d)): return True\n",
    "\n",
    "    return False\n",
    "\n",
    "\n",
    "\n"
   ]
  },
  {
   "cell_type": "markdown",
   "metadata": {},
   "source": [
    "# Lecture 3"
   ]
  },
  {
   "cell_type": "code",
   "execution_count": 3,
   "metadata": {},
   "outputs": [],
   "source": [
    "from math import atan2\n",
    "\n",
    "def get_convex_hull(p):\n",
    "    n = len(p)\n",
    "    if n<3: return\n",
    "    hull = []\n",
    "    s_y = min(p, key=lambda x: x[1])\n",
    "    p.sort(key=lambda x: (atan2(x[1]-s_y[1], x[0]-s_y[0]), -x[1], x[0]))\n",
    "    for point in p:\n",
    "        while len(hull)>=2 and orientation(hull[-2], hull[-1], point) <= 0:\n",
    "            hull.pop()\n",
    "        hull.append(point)\n",
    "    return hull"
   ]
  },
  {
   "cell_type": "code",
   "execution_count": 4,
   "metadata": {},
   "outputs": [
    {
     "name": "stdout",
     "output_type": "stream",
     "text": [
      "[(8, 1), (9, 7), (9, 9), (2, 8), (3, 6)]\n"
     ]
    },
    {
     "data": {
      "image/png": "[encoded data removed]",
      "text/plain": [
       "<Figure size 640x480 with 1 Axes>"
      ]
     },
     "metadata": {},
     "output_type": "display_data"
    }
   ],
   "source": [
    "import matplotlib.pyplot as plt\n",
    "import random as r\n",
    "p = [x for x in zip([r.randint(0,10) for _ in range(10)],[r.randint(0,10) for _ in range(10)])]\n",
    "hull = get_convex_hull(p)\n",
    "print(hull)\n",
    "\n",
    "for i in range(len(hull)):\n",
    "    plt.plot([hull[i][0],hull[(i+1)%len(hull)][0]],[hull[i][1],hull[(i+1)%len(hull)][1]],'b')\n",
    "for i in range(len(p)):\n",
    "    plt.plot(p[i][0],p[i][1],'ro')\n",
    "plt.show()\n",
    "\n"
   ]
  }
 ],
 "metadata": {
  "kernelspec": {
   "display_name": "Python 3",
   "language": "python",
   "name": "python3"
  },
  "language_info": {
   "codemirror_mode": {
    "name": "ipython",
    "version": 3
   },
   "file_extension": ".py",
   "mimetype": "text/x-python",
   "name": "python",
   "nbconvert_exporter": "python",
   "pygments_lexer": "ipython3",
   "version": "3.10.6"
  }
 },
 "nbformat": 4,
 "nbformat_minor": 2
}
