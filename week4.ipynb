{
 "cells": [
  {
   "cell_type": "markdown",
   "metadata": {},
   "source": [
    "# Lecture 1"
   ]
  },
  {
   "cell_type": "code",
   "execution_count": null,
   "metadata": {},
   "outputs": [],
   "source": [
    "# DCEL\n",
    "\n",
    "class Vertex:\n",
    "    def __init__(self, x, y):\n",
    "        self.x = x\n",
    "        self.y = y\n",
    "        self.incident_edge = None\n",
    "\n",
    "class Edge:\n",
    "    def __init__(self):\n",
    "        self.origin = None\n",
    "        self.twin = None\n",
    "        self.face = None\n",
    "        self.next = None\n",
    "        self.prev = None\n",
    "\n",
    "class Face:\n",
    "    def __init__(self):\n",
    "        self.incident_edge = None\n",
    "\n",
    "class DCEL:\n",
    "    def __init__(self):\n",
    "        self.vertices = []\n",
    "        self.edges = []\n",
    "        self.faces = []\n",
    "    \n",
    "    def add_vertex(self, x, y):\n",
    "        self.vertices.append(Vertex(x, y))\n",
    "    \n",
    "    def add_edge(self, origin, twin):\n",
    "        edge = Edge()\n",
    "        edge.origin = origin\n",
    "        edge.twin = twin\n",
    "        self.edges.append(edge)\n",
    "        return edge\n",
    "    \n",
    "    def add_face(self):\n",
    "        face = Face()\n",
    "        self.faces.append(face)\n",
    "        return face"
   ]
  },
  {
   "cell_type": "markdown",
   "metadata": {},
   "source": [
    "# Lecture 2"
   ]
  },
  {
   "cell_type": "code",
   "execution_count": null,
   "metadata": {},
   "outputs": [],
   "source": [
    "# Triangulation of a simple polygon"
   ]
  }
 ],
 "metadata": {
  "language_info": {
   "name": "python"
  }
 },
 "nbformat": 4,
 "nbformat_minor": 2
}
