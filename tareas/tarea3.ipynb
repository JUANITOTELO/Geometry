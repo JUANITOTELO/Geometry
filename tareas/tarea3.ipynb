{
 "cells": [
  {
   "cell_type": "markdown",
   "metadata": {},
   "source": [
    "# Algorithm for finding the closest pair of points in a set of 3D points"
   ]
  },
  {
   "cell_type": "code",
   "execution_count": 10,
   "metadata": {},
   "outputs": [],
   "source": [
    "# Algorithm for finding the closest pair of points in a set of 3D points\n",
    "# Using a divide and conquer approach\n",
    "\n",
    "import numpy as np\n",
    "import math\n",
    "import sys\n",
    "import time\n",
    "\n",
    "class Point:\n",
    "    def __init__(self, x, y, z):\n",
    "        self.x = x\n",
    "        self.y = y\n",
    "        self.z = z\n",
    "    \n",
    "    def __str__(self):\n",
    "        return f\"({self.x}, {self.y}, {self.z})\"\n",
    "    \n",
    "    def __repr__(self):\n",
    "        return f\"({self.x}, {self.y}, {self.z})\"\n",
    "\n",
    "def distance(p1, p2):\n",
    "    return math.sqrt((p1.x - p2.x)**2 + (p1.y - p2.y)**2 + (p1.z - p2.z)**2)\n",
    "\n",
    "def closest_pair(points):\n",
    "    # Sort points by x-coordinate\n",
    "    points.sort(key=lambda p: p.x)\n",
    "    points.sort(key=lambda p: p.y)\n",
    "    return closest_pair_rec(points)\n",
    "\n",
    "def closest_pair_rec(points):\n",
    "    n = len(points)\n",
    "    if n <= 3:\n",
    "        return brute_force(points)\n",
    "\n",
    "    mid = n // 2\n",
    "\n",
    "    left = points[:mid]\n",
    "    right = points[mid:]\n",
    "\n",
    "    left_pair = closest_pair_rec(left)\n",
    "    right_pair = closest_pair_rec(right)\n",
    "\n",
    "    delta = min(left_pair[0], right_pair[0])\n",
    "\n",
    "    split_pair = closest_pair_split(points, delta)\n",
    "\n",
    "    if split_pair is not None:\n",
    "        return split_pair\n",
    "    elif left_pair[0] < right_pair[0]:\n",
    "        return left_pair\n",
    "    else:\n",
    "        return right_pair\n",
    "    \n",
    "\n",
    "def brute_force(points):\n",
    "    n = len(points)\n",
    "    best = sys.maxsize\n",
    "    best_pair = None\n",
    "    for i in range(n):\n",
    "        for j in range(i+1, n):\n",
    "            p1 = points[i]\n",
    "            p2 = points[j]\n",
    "            d = distance(p1, p2)\n",
    "            if d < best:\n",
    "                best = d\n",
    "                best_pair = (d, p1, p2)\n",
    "\n",
    "    return best_pair\n",
    "\n",
    "def closest_pair_split(points, delta):\n",
    "    n = len(points)\n",
    "    mid = n // 2\n",
    "    mid_x = points[mid].x\n",
    "\n",
    "    # Create a list of points within delta distance of the middle x-coordinate\n",
    "    strip = [p for p in points if abs(p.x - mid_x) < delta]\n",
    "\n",
    "    # Sort points by y-coordinate\n",
    "    strip.sort(key=lambda p: p.y)\n",
    "\n",
    "    best = delta\n",
    "    best_pair = None\n",
    "    for i in range(len(strip)):\n",
    "        for j in range(i+1, min(i+8, len(strip))):\n",
    "            p1 = strip[i]\n",
    "            p2 = strip[j]\n",
    "            d = distance(p1, p2)\n",
    "            if d < best:\n",
    "                best = d\n",
    "                best_pair = (d, p1, p2)\n",
    "\n",
    "    return best_pair"
   ]
  },
  {
   "cell_type": "code",
   "execution_count": 5,
   "metadata": {},
   "outputs": [],
   "source": [
    "%matplotlib qt"
   ]
  },
  {
   "cell_type": "code",
   "execution_count": 13,
   "metadata": {},
   "outputs": [
    {
     "name": "stdout",
     "output_type": "stream",
     "text": [
      "[(89, 23, 28), (87, 28, 12), (32, 90, 14), (44, 1, 71), (32, 25, 89), (86, 17, 96), (92, 65, 63), (69, 86, 13), (71, 26, 17), (42, 18, 0), (81, 83, 7), (37, 86, 91), (50, 61, 78), (11, 89, 9), (83, 97, 37), (37, 47, 10), (17, 34, 18), (59, 35, 47), (96, 94, 48), (36, 73, 67), (55, 10, 0), (95, 1, 80), (95, 77, 92), (87, 50, 82), (33, 72, 72), (66, 27, 17), (94, 13, 22), (16, 35, 84), (96, 78, 56), (41, 56, 16), (1, 74, 45), (90, 14, 20), (44, 73, 78), (35, 92, 17), (65, 86, 61), (37, 17, 46), (43, 98, 30), (49, 18, 3), (63, 9, 98), (91, 39, 94), (10, 54, 34), (82, 32, 7), (21, 50, 13), (26, 99, 67), (86, 61, 35), (23, 71, 72), (97, 59, 41), (51, 69, 11), (48, 24, 69), (99, 67, 58)]\n",
      "Closest pair: (94, 13, 22) and (90, 14, 20) with distance 4.58257569495584\n",
      "Time: 0.00042176246643066406\n"
     ]
    }
   ],
   "source": [
    "import matplotlib.pyplot as plt\n",
    "\n",
    "points = [Point(np.random.randint(0, 100), np.random.randint(0, 100), np.random.randint(0, 100)) for _ in range(50)]\n",
    "print(points)\n",
    "# Show 3D points\n",
    "fig = plt.figure()\n",
    "ax = fig.add_subplot(111, projection='3d')\n",
    "for p in points:\n",
    "    ax.scatter(p.x, p.y, p.z)\n",
    "\n",
    "start = time.time()\n",
    "min_dist, p1, p2 = closest_pair(points)\n",
    "end = time.time()\n",
    "print(f\"Closest pair: {p1} and {p2} with distance {min_dist}\")\n",
    "print(f\"Time: {end - start}\")\n",
    "ax.plot([p1.x, p2.x], [p1.y, p2.y], [p1.z, p2.z], color='red')\n",
    "plt.show()\n"
   ]
  }
 ],
 "metadata": {
  "kernelspec": {
   "display_name": "Python 3",
   "language": "python",
   "name": "python3"
  },
  "language_info": {
   "codemirror_mode": {
    "name": "ipython",
    "version": 3
   },
   "file_extension": ".py",
   "mimetype": "text/x-python",
   "name": "python",
   "nbconvert_exporter": "python",
   "pygments_lexer": "ipython3",
   "version": "3.10.6"
  }
 },
 "nbformat": 4,
 "nbformat_minor": 2
}
