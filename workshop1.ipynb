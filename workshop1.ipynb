{
 "cells": [
  {
   "cell_type": "markdown",
   "metadata": {},
   "source": [
    "# Taller 1"
   ]
  },
  {
   "cell_type": "markdown",
   "metadata": {},
   "source": [
    "Vamos a implementar un Doubly Connected Edge List (DCEL) para representar una partición de un plano en caras."
   ]
  },
  {
   "cell_type": "code",
   "execution_count": 2,
   "metadata": {},
   "outputs": [],
   "source": [
    "# Basic classes for a DCEL\n",
    "class vertex:\n",
    "    def __init__(self, vertex_id:int, coordinates:tuple):\n",
    "        self.vertex_id = vertex_id\n",
    "        self.coordinates = coordinates\n",
    "\n",
    "class half_edge:\n",
    "    def __init__(self, half_edge_id:tuple, origin:vertex, twin, face, next_edge, prev_edge):\n",
    "        self.half_edge_id = half_edge_id\n",
    "        self.origin = origin\n",
    "        self.twin = twin\n",
    "        self.face = face\n",
    "        self.next_edge = next_edge\n",
    "        self.prev_edge = prev_edge\n",
    "\n",
    "class face:\n",
    "    def __init__(self, face_id:int, outer_component:half_edge, inner_components:list):\n",
    "        self.face_id = face_id\n",
    "        self.outer_component = outer_component\n",
    "        self.inner_components = inner_components\n"
   ]
  },
  {
   "cell_type": "code",
   "execution_count": 75,
   "metadata": {},
   "outputs": [
    {
     "name": "stdout",
     "output_type": "stream",
     "text": [
      "{0: <__main__.vertex object at 0x7f3f0cd52740>, 1: <__main__.vertex object at 0x7f3f476810f0>, 2: <__main__.vertex object at 0x7f3f47482650>, 3: <__main__.vertex object at 0x7f3f0d18ffd0>, 4: <__main__.vertex object at 0x7f3f0d18fe80>, 5: <__main__.vertex object at 0x7f3f0d18c100>, 6: <__main__.vertex object at 0x7f3f0d18dc30>, 7: <__main__.vertex object at 0x7f3f0d18e5c0>, 8: <__main__.vertex object at 0x7f3f0d18ee90>, 9: <__main__.vertex object at 0x7f3f0d18d390>}\n",
      "{(0, 0): <__main__.half_edge object at 0x7f3f476800a0>, (1, 1): <__main__.half_edge object at 0x7f3f0f76ba90>, (2, 2): <__main__.half_edge object at 0x7f3f475c86a0>, (3, 3): <__main__.half_edge object at 0x7f3f0d18dd50>, (4, 4): <__main__.half_edge object at 0x7f3f0d18f6a0>, (5, 5): <__main__.half_edge object at 0x7f3f0d18c250>, (6, 6): <__main__.half_edge object at 0x7f3f0d18f400>, (7, 7): <__main__.half_edge object at 0x7f3f0d18cfd0>, (8, 8): <__main__.half_edge object at 0x7f3f0d18c970>, (9, 9): <__main__.half_edge object at 0x7f3f0d18f2e0>}\n"
     ]
    }
   ],
   "source": [
    "# Doubly Connected Edge List (DCEL)\n",
    "class DCEL:\n",
    "    def __init__(self, vertexs:dict, half_edges:dict, faces:dict):\n",
    "        self.vertexs = vertexs\n",
    "        self.half_edges = half_edges\n",
    "        self.faces = faces\n",
    "\n",
    "    def add_vertex(self, vertex:vertex):\n",
    "        self.vertexs[vertex.vertex_id] = vertex\n",
    "\n",
    "    def add_half_edge(self, half_edge:half_edge):\n",
    "        self.half_edges[half_edge.half_edge_id] = half_edge\n",
    "\n",
    "    def add_face(self, face:face):\n",
    "        self.faces[face.face_id] = face\n",
    "\n",
    "    def remove_vertex(self, vertex_id:int):\n",
    "        del self.vertexs[vertex_id]\n",
    "\n",
    "    def remove_half_edge(self, half_edge_id:tuple):\n",
    "        del self.half_edges[half_edge_id]\n",
    "\n",
    "    def remove_face(self, face_id:int):\n",
    "        del self.faces[face_id]\n",
    "\n",
    "    def get_vertex(self, vertex_id:int):\n",
    "        return self.vertexs[vertex_id]\n",
    "\n",
    "    def get_half_edge(self, half_edge_id:tuple):\n",
    "        return self.half_edges[half_edge_id]\n",
    "\n",
    "    def get_face(self, face_id:int):\n",
    "        return self.faces[face_id]\n",
    "\n",
    "    def get_vertexs(self):\n",
    "        return self.vertexs\n",
    "\n",
    "    def get_half_edges(self):\n",
    "        return self.half_edges\n",
    "\n",
    "    def get_faces(self):\n",
    "        return self.faces\n",
    "\n",
    "    def get_incident_half_edges(self, vertex_id:int):\n",
    "        incident_half_edges = []\n",
    "        for half_edge_id, half_edge in self.half_edges.items():\n",
    "            if half_edge.origin.vertex_id == vertex_id:\n",
    "                incident_half_edges.append(half_edge)\n",
    "        return incident_half_edges\n",
    "\n",
    "    def get_incident_faces(self, half_edge_id:tuple):\n",
    "        incident_faces = []\n",
    "        for face_id, face in self.faces.items():\n",
    "            if face.outer_component.half_edge_id == half_edge_id:\n",
    "                incident_faces.append(face)\n",
    "            else:\n",
    "                for inner_component in face.inner_components:\n",
    "                    if inner_component.half_edge_id == half_edge_id:\n",
    "                        incident_faces.append(face)\n",
    "        return incident_faces\n",
    "\n",
    "    def get_incident_half_edges(self, face_id:int):\n",
    "        incident_half_edges = []\n",
    "        for half_edge_id, half_edge in self.half_edges.items():\n",
    "            if half_edge.face.face_id == face_id:\n",
    "                incident_half_edges.append(half_edge)\n",
    "        return incident_half_edges\n",
    "\n",
    "    def get_incident_faces(self, half_edge_id:tuple):\n",
    "        incident_faces = []\n",
    "        for face_id, face in self.faces.items():\n",
    "            if face.outer_component.half_edge_id == half_edge_id:\n",
    "                incident_faces.append(face)\n",
    "            else:\n",
    "                for inner_component in face.inner_components:\n",
    "                    if inner_component.half_edge_id == half_edge_id:\n",
    "                        incident_faces.append(face)\n",
    "        return incident_faces\n",
    "    \n",
    "    def get_incident_half_edges(self, face_id:int):\n",
    "        incident_half_edges = []\n",
    "        for half_edge_id, half_edge in self.half_edges.items():\n",
    "            if half_edge.face.face_id == face_id:\n",
    "                incident_half_edges.append(half_edge)\n",
    "        return incident_half_edges\n",
    "\n",
    "myDCEL = DCEL({}, {}, {})\n",
    "for i in range(10):\n",
    "    myDCEL.add_vertex(vertex(i, (i, i)))\n",
    "    myDCEL.add_half_edge(half_edge((i, i), myDCEL.get_vertex(i), None, None, None, None))\n",
    "    myDCEL.add_face(face(i, myDCEL.get_half_edge((i, i)), []))\n",
    "print(myDCEL.get_vertexs())\n",
    "print(myDCEL.get_half_edges())\n"
   ]
  }
 ],
 "metadata": {
  "kernelspec": {
   "display_name": "Python 3",
   "language": "python",
   "name": "python3"
  },
  "language_info": {
   "codemirror_mode": {
    "name": "ipython",
    "version": 3
   },
   "file_extension": ".py",
   "mimetype": "text/x-python",
   "name": "python",
   "nbconvert_exporter": "python",
   "pygments_lexer": "ipython3",
   "version": "3.10.6"
  }
 },
 "nbformat": 4,
 "nbformat_minor": 2
}
