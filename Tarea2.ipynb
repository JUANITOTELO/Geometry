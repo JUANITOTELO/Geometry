{
  "cells": [
    {
      "cell_type": "markdown",
      "source": [
        "Tarea 2 Camilo Silva"
      ],
      "metadata": {
        "id": "AD-0LmARyc0O"
      }
    },
    {
      "cell_type": "markdown",
      "metadata": {
        "id": "kPsok7wP6zVJ"
      },
      "source": [
        "##Cosas iniciales"
      ]
    },
    {
      "cell_type": "code",
      "execution_count": 1,
      "metadata": {
        "id": "puKkGGAwaqAx"
      },
      "outputs": [],
      "source": [
        "import numpy as np\n",
        "import pandas as pd"
      ]
    },
    {
      "cell_type": "code",
      "execution_count": 2,
      "metadata": {
        "id": "2wsZTj8ChrjU"
      },
      "outputs": [],
      "source": [
        "class punto:\n",
        "    def __init__(self, x1, y1):\n",
        "        self.x = x1\n",
        "        self.y = y1\n",
        "    def __str__(self):\n",
        "        return ('('+str(self.x)+','+str(self.y)+')')\n",
        "    def __repr__(self):\n",
        "        return self.__str__()\n",
        "    def __gt__(self, other):\n",
        "      if(self.y < other.y or (self.y == other.y and self.x > other.x)):\n",
        "          return True\n",
        "      else:\n",
        "          return False\n",
        "def productoCruz2D(p0, p1, p2):\n",
        "  det = ((p1.x-p0.x)*(p2.y-p0.y))-((p2.x-p0.x)*(p1.y-p0.y))\n",
        "  if(det<0):\n",
        "    print(\"p1 esta rotado en sentido antihorario respecto a p2\")\n",
        "    return(\"h\")\n",
        "  elif(det>0):\n",
        "    print(\"p1 esta rotado en sentido horario respecto a p2\")\n",
        "    return(\"ah\")\n",
        "  else:\n",
        "    print(\"colineales\")\n"
      ]
    },
    {
      "cell_type": "code",
      "execution_count": 3,
      "metadata": {
        "id": "1b3jFvdHKfyW"
      },
      "outputs": [],
      "source": [
        "def encontrarMenorNodo(listaNodos):\n",
        "  \"\"\"A continuacion se ordenaran los Nodos segun\n",
        "  su coordenada en X, si dos Nodos tienen coordenada\n",
        "  x igual se elige el de mayor coord Y\"\"\"\n",
        "  tmpNodo = listaNodos[0]\n",
        "  menorNodo = listaNodos[0]\n",
        "  count = -1\n",
        "  indiceMenor = 0\n",
        "  for Nodo in listaNodos:\n",
        "    count+=1\n",
        "    if (Nodo.coordenadas.x == menorNodo.coordenadas.x):\n",
        "      if(Nodo.coordenadas.y < menorNodo.coordenadas.y):\n",
        "        menorNodo = Nodo\n",
        "        indiceMenor = count\n",
        "    elif(Nodo.coordenadas.x < menorNodo.coordenadas.x):\n",
        "        menorNodo = Nodo\n",
        "        indiceMenor = count\n",
        "  return menorNodo, indiceMenor"
      ]
    },
    {
      "cell_type": "code",
      "execution_count": 4,
      "metadata": {
        "id": "n91yuGveh3IT"
      },
      "outputs": [],
      "source": [
        "listaPuntos = [\n",
        "    punto(9.0, -1.0),\n",
        "    punto(8.0, 6.0),\n",
        "    punto(7.0, -3.0),\n",
        "    punto(6.0, 3.0),\n",
        "    punto(4.0, -4.0),\n",
        "    punto(2.0, -4.0),\n",
        "    punto(3.0, 4.0),\n",
        "    punto(4.0, 2.5),\n",
        "    punto(5.0, 12.0),\n",
        "    punto(7.0, 12.0),\n",
        "    punto(10.0, 6.0),\n",
        "    punto(9.5, 11.0),\n",
        "    punto(11.0, 15.0),\n",
        "    punto(13.0, 15.0),\n",
        "    punto(12.0, 10.0),\n",
        "    punto(13.0, 3.0),\n",
        "    punto(11.0, 4.0),\n",
        "    punto(10.0, -1.0),\n",
        "]\n",
        "\n",
        "#listaPuntos = [punto(5,1), punto(8,3), punto(5,-2), punto(2,2), punto(-1, -1), punto(1,5)]\n",
        "#listaPuntos = [punto(0, 4), punto(2, 4), punto(2,2), punto(0,1)]\n",
        "#listaPuntos = [punto(2,2), punto(-2, 1), punto(-2, -1), punto(2, -1)]\n",
        "#listaPuntos = [punto(0,2), punto(-1,1), punto(-1.2,5), punto(-2,4), punto(-3, 5), punto(-4.5 ,3.5), punto(-3.5, 2), punto(-4, 0), punto(-5,1.5), punto(-6.5, -3), punto(-6,-4), punto(-5,-3.5), punto(-2,-6), punto(-3.5,-2), punto(-0.3, -3)]"
      ]
    },
    {
      "cell_type": "markdown",
      "source": [
        "##Primer punto"
      ],
      "metadata": {
        "id": "e3NLit-TiGV0"
      }
    },
    {
      "cell_type": "markdown",
      "metadata": {
        "id": "HEhub7ALK7aQ"
      },
      "source": [
        "Primer punto: a continuación determinaremos si el polígono está en sentido horario o antihorario, para tal fin tomaremos el punto que está más a la izquierda y evaluaremos su giro"
      ]
    },
    {
      "cell_type": "code",
      "execution_count": 5,
      "metadata": {
        "id": "huEu4AG6JMaU"
      },
      "outputs": [],
      "source": [
        "def encontrarMenorPunto(listaPuntos):\n",
        "  \"\"\"A continuacion se ordenaran los puntos segun\n",
        "  su coordenada en X, si dos puntos tienen coordenada\n",
        "  x igual se elige el de mayor coord Y\"\"\"\n",
        "  tmpPunto = listaPuntos[0]\n",
        "  menorPunto = listaPuntos[0]\n",
        "  count = -1\n",
        "  indiceMenor = 0\n",
        "  for punto in listaPuntos:\n",
        "    count+=1\n",
        "    if (punto.x == menorPunto.x):\n",
        "      if(punto.y < menorPunto.y):\n",
        "        menorPunto = punto\n",
        "        indiceMenor = count\n",
        "    elif(punto.x < menorPunto.x):\n",
        "        menorPunto = punto\n",
        "        indiceMenor = count\n",
        "  return menorPunto, indiceMenor"
      ]
    },
    {
      "cell_type": "code",
      "execution_count": 6,
      "metadata": {
        "id": "RhMTU33FJicc"
      },
      "outputs": [],
      "source": [
        "def retornarAntiHorario(listaPuntos):\n",
        "  menorPunto, indiceMenor = encontrarMenorPunto(listaPuntos)\n",
        "  p0 = listaPuntos[indiceMenor-1]\n",
        "  p1 = listaPuntos[indiceMenor]\n",
        "  p2 = listaPuntos[indiceMenor+1]\n",
        "  if productoCruz2D(p0, p1, p2)==\"h\":\n",
        "    listaPuntos.reverse()\n",
        "    print(\"esta en sentido horario\")\n",
        "    print(\"cambiando el sentido....\")\n",
        "    return listaPuntos\n",
        "  else:\n",
        "    print(\"sentido antihorario\")\n",
        "    return listaPuntos"
      ]
    },
    {
      "cell_type": "code",
      "execution_count": 7,
      "metadata": {
        "colab": {
          "base_uri": "https://localhost:8080/"
        },
        "id": "YGkaiDz-LGcV",
        "outputId": "370703dc-d356-4143-db9f-0dac843863df"
      },
      "outputs": [
        {
          "output_type": "stream",
          "name": "stdout",
          "text": [
            "p1 esta rotado en sentido antihorario respecto a p2\n",
            "esta en sentido horario\n",
            "cambiando el sentido....\n"
          ]
        }
      ],
      "source": [
        "listaPuntos = retornarAntiHorario(listaPuntos)"
      ]
    },
    {
      "cell_type": "markdown",
      "source": [
        "Fin primer punto"
      ],
      "metadata": {
        "id": "6p_iiSrUosO3"
      }
    },
    {
      "cell_type": "code",
      "execution_count": 8,
      "metadata": {
        "colab": {
          "base_uri": "https://localhost:8080/"
        },
        "id": "rtrOxb_cMWX9",
        "outputId": "cadf756f-7804-4bec-b854-e5ad79377d18"
      },
      "outputs": [
        {
          "output_type": "stream",
          "name": "stdout",
          "text": [
            "[(10.0,-1.0), (11.0,4.0), (13.0,3.0), (12.0,10.0), (13.0,15.0), (11.0,15.0), (9.5,11.0), (10.0,6.0), (7.0,12.0), (5.0,12.0), (4.0,2.5), (3.0,4.0), (2.0,-4.0), (4.0,-4.0), (6.0,3.0), (7.0,-3.0), (8.0,6.0), (9.0,-1.0)]\n"
          ]
        }
      ],
      "source": [
        "print(listaPuntos)"
      ]
    },
    {
      "cell_type": "code",
      "execution_count": 9,
      "metadata": {
        "colab": {
          "base_uri": "https://localhost:8080/",
          "height": 0
        },
        "id": "KnYml_Skg3-P",
        "outputId": "e409e394-9fec-44b1-f41b-cdb80ef0158e"
      },
      "outputs": [
        {
          "output_type": "execute_result",
          "data": {
            "text/plain": [
              "(-1.0, 14.0)"
            ]
          },
          "metadata": {},
          "execution_count": 9
        },
        {
          "output_type": "display_data",
          "data": {
            "text/plain": [
              "<Figure size 640x480 with 1 Axes>"
            ],
            "image/png": "[encoded data removed]"
          },
          "metadata": {}
        }
      ],
      "source": [
        "from matplotlib.patches import Polygon\n",
        "import matplotlib.pyplot as plt\n",
        "parche = []\n",
        "for i in listaPuntos:\n",
        "  parche.append((i.x,i.y))\n",
        "polygon = Polygon(parche)\n",
        "listaPuntosGraficaX = []\n",
        "listaPuntosGraficaY = []\n",
        "for i in listaPuntos:\n",
        "  listaPuntosGraficaX.append(i.x)\n",
        "  listaPuntosGraficaY.append(i.y)\n",
        "fig, ax = plt.subplots(1,1)\n",
        "ax.add_patch(polygon)\n",
        "plt.scatter(listaPuntosGraficaX, listaPuntosGraficaY, c =\"yellow\")\n",
        "plt.ylim(-7,17)\n",
        "plt.xlim(-1,14)"
      ]
    },
    {
      "cell_type": "markdown",
      "metadata": {
        "id": "1kDl_5bA6sEy"
      },
      "source": [
        "##Vamos a encontrar la lista de aristas doblemente conectadas del poligono"
      ]
    },
    {
      "cell_type": "code",
      "execution_count": 10,
      "metadata": {
        "id": "Vp758oUWjwVS"
      },
      "outputs": [],
      "source": [
        "class Nodo():\n",
        "    def __init__(self, nombre, coordenadas, aristaIncidente):\n",
        "        self.nombre = nombre\n",
        "        self.coordenadas = coordenadas\n",
        "        self.aristaIncidente = aristaIncidente\n",
        "    def __repr__(self):\n",
        "      return f\"{self.nombre, self.coordenadas, self.aristaIncidente}\""
      ]
    },
    {
      "cell_type": "code",
      "execution_count": 11,
      "metadata": {
        "id": "APMSfyVCokTO"
      },
      "outputs": [],
      "source": [
        "listaNodos = []\n",
        "for n in range(len(listaPuntos)):\n",
        "  listaNodos.append(Nodo(\"n\"+str(n),\n",
        "                    listaPuntos[n],\n",
        "                    \"e\"+str(n)+str(1)))"
      ]
    },
    {
      "cell_type": "code",
      "execution_count": 12,
      "metadata": {
        "id": "ptjsoDnHpAXg"
      },
      "outputs": [],
      "source": [
        "paraDataFrame = []\n",
        "for n in range(len(listaPuntos)):\n",
        "\n",
        "  paraDataFrame.append([listaNodos[n].nombre, listaNodos[n].coordenadas, listaNodos[n].aristaIncidente])"
      ]
    },
    {
      "cell_type": "code",
      "execution_count": 13,
      "metadata": {
        "id": "0odeoQ0yaVBK"
      },
      "outputs": [],
      "source": [
        "X = np.array(paraDataFrame, dtype=object)"
      ]
    },
    {
      "cell_type": "code",
      "execution_count": 14,
      "metadata": {
        "id": "bBJ-voZlbafv"
      },
      "outputs": [],
      "source": [
        "df_nodos = pd.DataFrame(X, columns = ['Nodos', 'Coordenadas', 'Arista incidente'])\n",
        "df_nodos.set_index('Nodos', inplace = True)\n",
        "\n"
      ]
    },
    {
      "cell_type": "code",
      "execution_count": 15,
      "metadata": {
        "id": "5iIVHpb0dBEc"
      },
      "outputs": [],
      "source": [
        "def twin(x):\n",
        "  if x[-1] == \"1\":\n",
        "    return str(x[:-1]+ \"2\")\n",
        "  else:\n",
        "    return x[:-1] + \"1\""
      ]
    },
    {
      "cell_type": "code",
      "execution_count": 16,
      "metadata": {
        "id": "3uGOJfBcpc3h"
      },
      "outputs": [],
      "source": [
        "class semiArista():\n",
        "  def __init__(self, nombre,  origen, coordenadas, gemelo, siguiente, previo, caraIncidente):\n",
        "        self.nombre = nombre\n",
        "        self.coordenadas = coordenadas\n",
        "        self.origen = origen\n",
        "        self.gemelo = gemelo\n",
        "        self.siguiente = siguiente\n",
        "        self.previo = previo\n",
        "        self.caraIncidente = caraIncidente\n",
        "        self.clasificacionOrigen = None\n",
        "        self.helper = None\n",
        "        self.poligonoLado = None\n",
        "        self.color =None\n",
        "  def __repr__(self):\n",
        "    return f\"{self.nombre, self.origen, self.coordenadas ,self.gemelo, self.siguiente, self.previo, self.caraIncidente, self.clasificacionOrigen, self.helper, self.poligonoLado, self.color}\""
      ]
    },
    {
      "cell_type": "code",
      "execution_count": 17,
      "metadata": {
        "id": "TAkwiA09ebFb"
      },
      "outputs": [],
      "source": [
        "class cara():\n",
        "  def __init__(self, cara, incidenteExterior, incidenteInterior):\n",
        "        self.cara = cara\n",
        "        self.incidenteExterior = incidenteExterior\n",
        "        self.incidenteInterior = incidenteInterior\n",
        "  def __repr__(self):\n",
        "    return f\"{self.cara, self.incidenteExterior, self.incidenteInterior}\""
      ]
    },
    {
      "cell_type": "markdown",
      "metadata": {
        "id": "bLYVHoWISsY2"
      },
      "source": [
        "Encontremos la cara incidente"
      ]
    },
    {
      "cell_type": "code",
      "execution_count": 18,
      "metadata": {
        "id": "m58mBHw8SrkS"
      },
      "outputs": [],
      "source": [
        "def asociarCara(semiaristas):\n",
        "  menorNodo = encontrarMenorNodo(semiaristas)\n",
        "  p0 = semiaristas[menorNodo[1]-1].coordenadas\n",
        "  p1 = semiaristas[menorNodo[1]].coordenadas\n",
        "  p2 = semiaristas[(menorNodo[1]+1)%len(listaPuntos)].coordenadas\n",
        "  tmp = productoCruz2D(p0, p1, p2)\n",
        "  if tmp == 'h':\n",
        "    return (semiaristas[menorNodo[1]].nombre, \"fInterior\")\n",
        "  if tmp == 'ah':\n",
        "    return (semiaristas[menorNodo[1]].nombre, \"fExterior\")"
      ]
    },
    {
      "cell_type": "code",
      "execution_count": 19,
      "metadata": {
        "id": "EuNrRtPJdU2A"
      },
      "outputs": [],
      "source": [
        "semiaristas = []\n",
        "semiaristasTwins = []\n",
        "for n in range(len(listaPuntos)-1):\n",
        "  semiaristas.append(semiArista(listaNodos[n].aristaIncidente,\n",
        "                                 listaNodos[n].nombre,\n",
        "                                 listaNodos[n].coordenadas,\n",
        "                                 twin(listaNodos[n].aristaIncidente),\n",
        "                                      listaNodos[n+1].aristaIncidente, #next\n",
        "                                      listaNodos[n-1].aristaIncidente, #prev\n",
        "                                      None))\n",
        "\n",
        "\n",
        "semiaristas.append(semiArista(listaNodos[-1].aristaIncidente,\n",
        "                                 listaNodos[-1].nombre,\n",
        "                                 listaNodos[-1].coordenadas,\n",
        "                                 twin(listaNodos[-1].aristaIncidente),\n",
        "                                      listaNodos[0].aristaIncidente, #next\n",
        "                                      listaNodos[-2].aristaIncidente, #prev\n",
        "                                      None))\n",
        "for n in range(len(listaPuntos)-1):\n",
        "  semiaristasTwins.append(semiArista(twin(semiaristas[n].nombre),#nombre\n",
        "                                 semiaristas[n+1].origen,#origen\n",
        "                                 semiaristas[n+1].coordenadas,#coordenadas,\n",
        "                                 semiaristas[n].nombre,#gemelo,\n",
        "                                      twin(semiaristas[n].previo), #next\n",
        "                                      twin(semiaristas[n].siguiente), #prev\n",
        "                                      None))\n",
        "semiaristasTwins.append(semiArista(twin(semiaristas[-1].nombre),\n",
        "                                 semiaristas[0].origen,\n",
        "                                 semiaristas[0].coordenadas,\n",
        "                                 semiaristas[-1].nombre,\n",
        "                                      twin(semiaristas[-1].previo), #next\n",
        "                                      twin(semiaristas[-1].siguiente), #prev\n",
        "                                      None))\n"
      ]
    },
    {
      "cell_type": "markdown",
      "metadata": {
        "id": "46-fZDOOd8Dr"
      },
      "source": [
        "Recorrer el poligono funcion que toma una lista de semiaristas y las ordena de tal forma que la semiarista n+1 en la posicion j en la lista es la siguiente de la semiarista n en la posicion j-1"
      ]
    },
    {
      "cell_type": "code",
      "execution_count": 20,
      "metadata": {
        "id": "eBRfk41Qd8Dt"
      },
      "outputs": [],
      "source": [
        "def recorrerPoligono(semiaristas):\n",
        "  recorrido = []\n",
        "  primeraArista = semiaristas[0]\n",
        "  primera = semiaristas[0].nombre\n",
        "  siguiente = semiaristas[0].siguiente\n",
        "  recorrido.append(primeraArista)\n",
        "  semiaristas.pop(0)\n",
        "  while (siguiente != primera):\n",
        "    for i in range(0, len(semiaristas)):\n",
        "      if semiaristas[i].nombre == siguiente:\n",
        "        recorrido.append(semiaristas[i])\n",
        "        siguiente = semiaristas[i].siguiente\n",
        "        semiaristas.pop(i)\n",
        "        break\n",
        "  return semiaristas, recorrido"
      ]
    },
    {
      "cell_type": "code",
      "execution_count": 21,
      "metadata": {
        "colab": {
          "base_uri": "https://localhost:8080/"
        },
        "id": "ccYXnhMJbLyP",
        "outputId": "9fd83514-0b48-40cc-af3c-a6002153e097"
      },
      "outputs": [
        {
          "output_type": "execute_result",
          "data": {
            "text/plain": [
              "[('e01', 'n0', (10.0,-1.0), 'e02', 'e11', 'e171', None, None, None, None, None),\n",
              " ('e11', 'n1', (11.0,4.0), 'e12', 'e21', 'e01', None, None, None, None, None),\n",
              " ('e21', 'n2', (13.0,3.0), 'e22', 'e31', 'e11', None, None, None, None, None),\n",
              " ('e31', 'n3', (12.0,10.0), 'e32', 'e41', 'e21', None, None, None, None, None),\n",
              " ('e41', 'n4', (13.0,15.0), 'e42', 'e51', 'e31', None, None, None, None, None),\n",
              " ('e51', 'n5', (11.0,15.0), 'e52', 'e61', 'e41', None, None, None, None, None),\n",
              " ('e61', 'n6', (9.5,11.0), 'e62', 'e71', 'e51', None, None, None, None, None),\n",
              " ('e71', 'n7', (10.0,6.0), 'e72', 'e81', 'e61', None, None, None, None, None),\n",
              " ('e81', 'n8', (7.0,12.0), 'e82', 'e91', 'e71', None, None, None, None, None),\n",
              " ('e91', 'n9', (5.0,12.0), 'e92', 'e101', 'e81', None, None, None, None, None),\n",
              " ('e101', 'n10', (4.0,2.5), 'e102', 'e111', 'e91', None, None, None, None, None),\n",
              " ('e111', 'n11', (3.0,4.0), 'e112', 'e121', 'e101', None, None, None, None, None),\n",
              " ('e121', 'n12', (2.0,-4.0), 'e122', 'e131', 'e111', None, None, None, None, None),\n",
              " ('e131', 'n13', (4.0,-4.0), 'e132', 'e141', 'e121', None, None, None, None, None),\n",
              " ('e141', 'n14', (6.0,3.0), 'e142', 'e151', 'e131', None, None, None, None, None),\n",
              " ('e151', 'n15', (7.0,-3.0), 'e152', 'e161', 'e141', None, None, None, None, None),\n",
              " ('e161', 'n16', (8.0,6.0), 'e162', 'e171', 'e151', None, None, None, None, None),\n",
              " ('e171', 'n17', (9.0,-1.0), 'e172', 'e01', 'e161', None, None, None, None, None),\n",
              " ('e02', 'n1', (11.0,4.0), 'e01', 'e172', 'e12', None, None, None, None, None),\n",
              " ('e12', 'n2', (13.0,3.0), 'e11', 'e02', 'e22', None, None, None, None, None),\n",
              " ('e22', 'n3', (12.0,10.0), 'e21', 'e12', 'e32', None, None, None, None, None),\n",
              " ('e32', 'n4', (13.0,15.0), 'e31', 'e22', 'e42', None, None, None, None, None),\n",
              " ('e42', 'n5', (11.0,15.0), 'e41', 'e32', 'e52', None, None, None, None, None),\n",
              " ('e52', 'n6', (9.5,11.0), 'e51', 'e42', 'e62', None, None, None, None, None),\n",
              " ('e62', 'n7', (10.0,6.0), 'e61', 'e52', 'e72', None, None, None, None, None),\n",
              " ('e72', 'n8', (7.0,12.0), 'e71', 'e62', 'e82', None, None, None, None, None),\n",
              " ('e82', 'n9', (5.0,12.0), 'e81', 'e72', 'e92', None, None, None, None, None),\n",
              " ('e92', 'n10', (4.0,2.5), 'e91', 'e82', 'e102', None, None, None, None, None),\n",
              " ('e102', 'n11', (3.0,4.0), 'e101', 'e92', 'e112', None, None, None, None, None),\n",
              " ('e112', 'n12', (2.0,-4.0), 'e111', 'e102', 'e122', None, None, None, None, None),\n",
              " ('e122', 'n13', (4.0,-4.0), 'e121', 'e112', 'e132', None, None, None, None, None),\n",
              " ('e132', 'n14', (6.0,3.0), 'e131', 'e122', 'e142', None, None, None, None, None),\n",
              " ('e142', 'n15', (7.0,-3.0), 'e141', 'e132', 'e152', None, None, None, None, None),\n",
              " ('e152', 'n16', (8.0,6.0), 'e151', 'e142', 'e162', None, None, None, None, None),\n",
              " ('e162', 'n17', (9.0,-1.0), 'e161', 'e152', 'e172', None, None, None, None, None),\n",
              " ('e172', 'n0', (10.0,-1.0), 'e171', 'e162', 'e02', None, None, None, None, None)]"
            ]
          },
          "metadata": {},
          "execution_count": 21
        }
      ],
      "source": [
        "listaSemiarista = semiaristas+semiaristasTwins\n",
        "listaSemiarista"
      ]
    },
    {
      "cell_type": "code",
      "execution_count": 22,
      "metadata": {
        "id": "VgmfzocHgM6K"
      },
      "outputs": [],
      "source": [
        "listaFinal = []\n",
        "listaListasFinal = []\n",
        "while len(listaSemiarista) != 0:\n",
        "  tmp = recorrerPoligono(listaSemiarista)\n",
        "  listaSemiarista = tmp[0]\n",
        "  listaListasFinal.append(tmp[1])\n",
        "  listaFinal = listaFinal + tmp[1]\n"
      ]
    },
    {
      "cell_type": "code",
      "execution_count": 23,
      "metadata": {
        "colab": {
          "base_uri": "https://localhost:8080/"
        },
        "id": "4YrE--f4cyjX",
        "outputId": "3a0d0556-9900-4aac-9c35-a30f7caf5e5a"
      },
      "outputs": [
        {
          "output_type": "execute_result",
          "data": {
            "text/plain": [
              "[('e01', 'n0', (10.0,-1.0), 'e02', 'e11', 'e171', None, None, None, None, None),\n",
              " ('e11', 'n1', (11.0,4.0), 'e12', 'e21', 'e01', None, None, None, None, None),\n",
              " ('e21', 'n2', (13.0,3.0), 'e22', 'e31', 'e11', None, None, None, None, None),\n",
              " ('e31', 'n3', (12.0,10.0), 'e32', 'e41', 'e21', None, None, None, None, None),\n",
              " ('e41', 'n4', (13.0,15.0), 'e42', 'e51', 'e31', None, None, None, None, None),\n",
              " ('e51', 'n5', (11.0,15.0), 'e52', 'e61', 'e41', None, None, None, None, None),\n",
              " ('e61', 'n6', (9.5,11.0), 'e62', 'e71', 'e51', None, None, None, None, None),\n",
              " ('e71', 'n7', (10.0,6.0), 'e72', 'e81', 'e61', None, None, None, None, None),\n",
              " ('e81', 'n8', (7.0,12.0), 'e82', 'e91', 'e71', None, None, None, None, None),\n",
              " ('e91', 'n9', (5.0,12.0), 'e92', 'e101', 'e81', None, None, None, None, None),\n",
              " ('e101', 'n10', (4.0,2.5), 'e102', 'e111', 'e91', None, None, None, None, None),\n",
              " ('e111', 'n11', (3.0,4.0), 'e112', 'e121', 'e101', None, None, None, None, None),\n",
              " ('e121', 'n12', (2.0,-4.0), 'e122', 'e131', 'e111', None, None, None, None, None),\n",
              " ('e131', 'n13', (4.0,-4.0), 'e132', 'e141', 'e121', None, None, None, None, None),\n",
              " ('e141', 'n14', (6.0,3.0), 'e142', 'e151', 'e131', None, None, None, None, None),\n",
              " ('e151', 'n15', (7.0,-3.0), 'e152', 'e161', 'e141', None, None, None, None, None),\n",
              " ('e161', 'n16', (8.0,6.0), 'e162', 'e171', 'e151', None, None, None, None, None),\n",
              " ('e171', 'n17', (9.0,-1.0), 'e172', 'e01', 'e161', None, None, None, None, None),\n",
              " ('e02', 'n1', (11.0,4.0), 'e01', 'e172', 'e12', None, None, None, None, None),\n",
              " ('e172', 'n0', (10.0,-1.0), 'e171', 'e162', 'e02', None, None, None, None, None),\n",
              " ('e162', 'n17', (9.0,-1.0), 'e161', 'e152', 'e172', None, None, None, None, None),\n",
              " ('e152', 'n16', (8.0,6.0), 'e151', 'e142', 'e162', None, None, None, None, None),\n",
              " ('e142', 'n15', (7.0,-3.0), 'e141', 'e132', 'e152', None, None, None, None, None),\n",
              " ('e132', 'n14', (6.0,3.0), 'e131', 'e122', 'e142', None, None, None, None, None),\n",
              " ('e122', 'n13', (4.0,-4.0), 'e121', 'e112', 'e132', None, None, None, None, None),\n",
              " ('e112', 'n12', (2.0,-4.0), 'e111', 'e102', 'e122', None, None, None, None, None),\n",
              " ('e102', 'n11', (3.0,4.0), 'e101', 'e92', 'e112', None, None, None, None, None),\n",
              " ('e92', 'n10', (4.0,2.5), 'e91', 'e82', 'e102', None, None, None, None, None),\n",
              " ('e82', 'n9', (5.0,12.0), 'e81', 'e72', 'e92', None, None, None, None, None),\n",
              " ('e72', 'n8', (7.0,12.0), 'e71', 'e62', 'e82', None, None, None, None, None),\n",
              " ('e62', 'n7', (10.0,6.0), 'e61', 'e52', 'e72', None, None, None, None, None),\n",
              " ('e52', 'n6', (9.5,11.0), 'e51', 'e42', 'e62', None, None, None, None, None),\n",
              " ('e42', 'n5', (11.0,15.0), 'e41', 'e32', 'e52', None, None, None, None, None),\n",
              " ('e32', 'n4', (13.0,15.0), 'e31', 'e22', 'e42', None, None, None, None, None),\n",
              " ('e22', 'n3', (12.0,10.0), 'e21', 'e12', 'e32', None, None, None, None, None),\n",
              " ('e12', 'n2', (13.0,3.0), 'e11', 'e02', 'e22', None, None, None, None, None)]"
            ]
          },
          "metadata": {},
          "execution_count": 23
        }
      ],
      "source": [
        "listaFinal"
      ]
    },
    {
      "cell_type": "code",
      "execution_count": 24,
      "metadata": {
        "colab": {
          "base_uri": "https://localhost:8080/"
        },
        "id": "1uEBb42HtZlR",
        "outputId": "b69df164-95d1-40f6-9a47-7e685eef9810"
      },
      "outputs": [
        {
          "output_type": "execute_result",
          "data": {
            "text/plain": [
              "[('e01', 'n0', (10.0,-1.0), 'e02', 'e11', 'e171', None, None, None, None, None),\n",
              " ('e11', 'n1', (11.0,4.0), 'e12', 'e21', 'e01', None, None, None, None, None),\n",
              " ('e21', 'n2', (13.0,3.0), 'e22', 'e31', 'e11', None, None, None, None, None),\n",
              " ('e31', 'n3', (12.0,10.0), 'e32', 'e41', 'e21', None, None, None, None, None),\n",
              " ('e41', 'n4', (13.0,15.0), 'e42', 'e51', 'e31', None, None, None, None, None),\n",
              " ('e51', 'n5', (11.0,15.0), 'e52', 'e61', 'e41', None, None, None, None, None),\n",
              " ('e61', 'n6', (9.5,11.0), 'e62', 'e71', 'e51', None, None, None, None, None),\n",
              " ('e71', 'n7', (10.0,6.0), 'e72', 'e81', 'e61', None, None, None, None, None),\n",
              " ('e81', 'n8', (7.0,12.0), 'e82', 'e91', 'e71', None, None, None, None, None),\n",
              " ('e91', 'n9', (5.0,12.0), 'e92', 'e101', 'e81', None, None, None, None, None),\n",
              " ('e101', 'n10', (4.0,2.5), 'e102', 'e111', 'e91', None, None, None, None, None),\n",
              " ('e111', 'n11', (3.0,4.0), 'e112', 'e121', 'e101', None, None, None, None, None),\n",
              " ('e121', 'n12', (2.0,-4.0), 'e122', 'e131', 'e111', None, None, None, None, None),\n",
              " ('e131', 'n13', (4.0,-4.0), 'e132', 'e141', 'e121', None, None, None, None, None),\n",
              " ('e141', 'n14', (6.0,3.0), 'e142', 'e151', 'e131', None, None, None, None, None),\n",
              " ('e151', 'n15', (7.0,-3.0), 'e152', 'e161', 'e141', None, None, None, None, None),\n",
              " ('e161', 'n16', (8.0,6.0), 'e162', 'e171', 'e151', None, None, None, None, None),\n",
              " ('e171', 'n17', (9.0,-1.0), 'e172', 'e01', 'e161', None, None, None, None, None),\n",
              " ('e02', 'n1', (11.0,4.0), 'e01', 'e172', 'e12', None, None, None, None, None),\n",
              " ('e172', 'n0', (10.0,-1.0), 'e171', 'e162', 'e02', None, None, None, None, None),\n",
              " ('e162', 'n17', (9.0,-1.0), 'e161', 'e152', 'e172', None, None, None, None, None),\n",
              " ('e152', 'n16', (8.0,6.0), 'e151', 'e142', 'e162', None, None, None, None, None),\n",
              " ('e142', 'n15', (7.0,-3.0), 'e141', 'e132', 'e152', None, None, None, None, None),\n",
              " ('e132', 'n14', (6.0,3.0), 'e131', 'e122', 'e142', None, None, None, None, None),\n",
              " ('e122', 'n13', (4.0,-4.0), 'e121', 'e112', 'e132', None, None, None, None, None),\n",
              " ('e112', 'n12', (2.0,-4.0), 'e111', 'e102', 'e122', None, None, None, None, None),\n",
              " ('e102', 'n11', (3.0,4.0), 'e101', 'e92', 'e112', None, None, None, None, None),\n",
              " ('e92', 'n10', (4.0,2.5), 'e91', 'e82', 'e102', None, None, None, None, None),\n",
              " ('e82', 'n9', (5.0,12.0), 'e81', 'e72', 'e92', None, None, None, None, None),\n",
              " ('e72', 'n8', (7.0,12.0), 'e71', 'e62', 'e82', None, None, None, None, None),\n",
              " ('e62', 'n7', (10.0,6.0), 'e61', 'e52', 'e72', None, None, None, None, None),\n",
              " ('e52', 'n6', (9.5,11.0), 'e51', 'e42', 'e62', None, None, None, None, None),\n",
              " ('e42', 'n5', (11.0,15.0), 'e41', 'e32', 'e52', None, None, None, None, None),\n",
              " ('e32', 'n4', (13.0,15.0), 'e31', 'e22', 'e42', None, None, None, None, None),\n",
              " ('e22', 'n3', (12.0,10.0), 'e21', 'e12', 'e32', None, None, None, None, None),\n",
              " ('e12', 'n2', (13.0,3.0), 'e11', 'e02', 'e22', None, None, None, None, None)]"
            ]
          },
          "metadata": {},
          "execution_count": 24
        }
      ],
      "source": [
        "listaFinal"
      ]
    },
    {
      "cell_type": "code",
      "execution_count": 25,
      "metadata": {
        "colab": {
          "base_uri": "https://localhost:8080/"
        },
        "id": "NfElx8fh2gVa",
        "outputId": "f70980b0-9d10-48e7-edc6-36a73da628b4"
      },
      "outputs": [
        {
          "output_type": "execute_result",
          "data": {
            "text/plain": [
              "2"
            ]
          },
          "metadata": {},
          "execution_count": 25
        }
      ],
      "source": [
        "len(listaListasFinal)"
      ]
    },
    {
      "cell_type": "code",
      "execution_count": 26,
      "metadata": {
        "colab": {
          "base_uri": "https://localhost:8080/",
          "height": 0
        },
        "id": "K-qhwqkh5p-l",
        "outputId": "3f162d8d-08fe-4dfb-bbc5-9f96c174d980"
      },
      "outputs": [
        {
          "output_type": "stream",
          "name": "stdout",
          "text": [
            "p1 esta rotado en sentido horario respecto a p2\n"
          ]
        },
        {
          "output_type": "execute_result",
          "data": {
            "text/plain": [
              "'e121'"
            ],
            "application/vnd.google.colaboratory.intrinsic+json": {
              "type": "string"
            }
          },
          "metadata": {},
          "execution_count": 26
        }
      ],
      "source": [
        "asociarCara(listaListasFinal[0])[0]"
      ]
    },
    {
      "cell_type": "code",
      "execution_count": 27,
      "metadata": {
        "colab": {
          "base_uri": "https://localhost:8080/"
        },
        "id": "OU69TWxaabVJ",
        "outputId": "aeb601df-89a0-4633-931e-27d129ff810a"
      },
      "outputs": [
        {
          "output_type": "stream",
          "name": "stdout",
          "text": [
            "p1 esta rotado en sentido horario respecto a p2\n",
            "p1 esta rotado en sentido antihorario respecto a p2\n"
          ]
        }
      ],
      "source": [
        "caras = []\n",
        "for i in range(0, len(listaListasFinal)):\n",
        "  carasTupla = asociarCara(listaListasFinal[i])\n",
        "  caraa = carasTupla[1]+str(i)\n",
        "  caras.append((carasTupla[0], caraa))\n",
        "  for j in listaListasFinal[i]:\n",
        "    j.caraIncidente = caraa"
      ]
    },
    {
      "cell_type": "code",
      "execution_count": 28,
      "metadata": {
        "colab": {
          "base_uri": "https://localhost:8080/"
        },
        "id": "3Yc9PcLr2LVE",
        "outputId": "cb5d7400-755d-42fe-d928-f37e7c2dbd9a"
      },
      "outputs": [
        {
          "output_type": "execute_result",
          "data": {
            "text/plain": [
              "[[('e01', 'n0', (10.0,-1.0), 'e02', 'e11', 'e171', 'fExterior0', None, None, None, None),\n",
              "  ('e11', 'n1', (11.0,4.0), 'e12', 'e21', 'e01', 'fExterior0', None, None, None, None),\n",
              "  ('e21', 'n2', (13.0,3.0), 'e22', 'e31', 'e11', 'fExterior0', None, None, None, None),\n",
              "  ('e31', 'n3', (12.0,10.0), 'e32', 'e41', 'e21', 'fExterior0', None, None, None, None),\n",
              "  ('e41', 'n4', (13.0,15.0), 'e42', 'e51', 'e31', 'fExterior0', None, None, None, None),\n",
              "  ('e51', 'n5', (11.0,15.0), 'e52', 'e61', 'e41', 'fExterior0', None, None, None, None),\n",
              "  ('e61', 'n6', (9.5,11.0), 'e62', 'e71', 'e51', 'fExterior0', None, None, None, None),\n",
              "  ('e71', 'n7', (10.0,6.0), 'e72', 'e81', 'e61', 'fExterior0', None, None, None, None),\n",
              "  ('e81', 'n8', (7.0,12.0), 'e82', 'e91', 'e71', 'fExterior0', None, None, None, None),\n",
              "  ('e91', 'n9', (5.0,12.0), 'e92', 'e101', 'e81', 'fExterior0', None, None, None, None),\n",
              "  ('e101', 'n10', (4.0,2.5), 'e102', 'e111', 'e91', 'fExterior0', None, None, None, None),\n",
              "  ('e111', 'n11', (3.0,4.0), 'e112', 'e121', 'e101', 'fExterior0', None, None, None, None),\n",
              "  ('e121', 'n12', (2.0,-4.0), 'e122', 'e131', 'e111', 'fExterior0', None, None, None, None),\n",
              "  ('e131', 'n13', (4.0,-4.0), 'e132', 'e141', 'e121', 'fExterior0', None, None, None, None),\n",
              "  ('e141', 'n14', (6.0,3.0), 'e142', 'e151', 'e131', 'fExterior0', None, None, None, None),\n",
              "  ('e151', 'n15', (7.0,-3.0), 'e152', 'e161', 'e141', 'fExterior0', None, None, None, None),\n",
              "  ('e161', 'n16', (8.0,6.0), 'e162', 'e171', 'e151', 'fExterior0', None, None, None, None),\n",
              "  ('e171', 'n17', (9.0,-1.0), 'e172', 'e01', 'e161', 'fExterior0', None, None, None, None)],\n",
              " [('e02', 'n1', (11.0,4.0), 'e01', 'e172', 'e12', 'fInterior1', None, None, None, None),\n",
              "  ('e172', 'n0', (10.0,-1.0), 'e171', 'e162', 'e02', 'fInterior1', None, None, None, None),\n",
              "  ('e162', 'n17', (9.0,-1.0), 'e161', 'e152', 'e172', 'fInterior1', None, None, None, None),\n",
              "  ('e152', 'n16', (8.0,6.0), 'e151', 'e142', 'e162', 'fInterior1', None, None, None, None),\n",
              "  ('e142', 'n15', (7.0,-3.0), 'e141', 'e132', 'e152', 'fInterior1', None, None, None, None),\n",
              "  ('e132', 'n14', (6.0,3.0), 'e131', 'e122', 'e142', 'fInterior1', None, None, None, None),\n",
              "  ('e122', 'n13', (4.0,-4.0), 'e121', 'e112', 'e132', 'fInterior1', None, None, None, None),\n",
              "  ('e112', 'n12', (2.0,-4.0), 'e111', 'e102', 'e122', 'fInterior1', None, None, None, None),\n",
              "  ('e102', 'n11', (3.0,4.0), 'e101', 'e92', 'e112', 'fInterior1', None, None, None, None),\n",
              "  ('e92', 'n10', (4.0,2.5), 'e91', 'e82', 'e102', 'fInterior1', None, None, None, None),\n",
              "  ('e82', 'n9', (5.0,12.0), 'e81', 'e72', 'e92', 'fInterior1', None, None, None, None),\n",
              "  ('e72', 'n8', (7.0,12.0), 'e71', 'e62', 'e82', 'fInterior1', None, None, None, None),\n",
              "  ('e62', 'n7', (10.0,6.0), 'e61', 'e52', 'e72', 'fInterior1', None, None, None, None),\n",
              "  ('e52', 'n6', (9.5,11.0), 'e51', 'e42', 'e62', 'fInterior1', None, None, None, None),\n",
              "  ('e42', 'n5', (11.0,15.0), 'e41', 'e32', 'e52', 'fInterior1', None, None, None, None),\n",
              "  ('e32', 'n4', (13.0,15.0), 'e31', 'e22', 'e42', 'fInterior1', None, None, None, None),\n",
              "  ('e22', 'n3', (12.0,10.0), 'e21', 'e12', 'e32', 'fInterior1', None, None, None, None),\n",
              "  ('e12', 'n2', (13.0,3.0), 'e11', 'e02', 'e22', 'fInterior1', None, None, None, None)]]"
            ]
          },
          "metadata": {},
          "execution_count": 28
        }
      ],
      "source": [
        "listaListasFinal"
      ]
    },
    {
      "cell_type": "markdown",
      "metadata": {
        "id": "rM7Cvf60a09h"
      },
      "source": [
        "Lista de caras"
      ]
    },
    {
      "cell_type": "code",
      "execution_count": 29,
      "metadata": {
        "id": "MCkvHueE-W-x"
      },
      "outputs": [],
      "source": [
        "listaSemiaristas = []\n",
        "for i in range(0, len(listaListasFinal)):\n",
        "  for j in range(0, len(listaListasFinal[i])):\n",
        "    listaSemiaristas.append(listaListasFinal[i][j])\n",
        "listaSemiaristasDefinitiva = listaSemiaristas.copy()"
      ]
    },
    {
      "cell_type": "code",
      "execution_count": 30,
      "metadata": {
        "colab": {
          "base_uri": "https://localhost:8080/"
        },
        "id": "WIDQDZ7yFQ8z",
        "outputId": "428bc463-7067-43f3-f58d-1c1753adfdc3"
      },
      "outputs": [
        {
          "output_type": "execute_result",
          "data": {
            "text/plain": [
              "[('e121', 'fExterior0'), ('e112', 'fInterior1')]"
            ]
          },
          "metadata": {},
          "execution_count": 30
        }
      ],
      "source": [
        "caras"
      ]
    },
    {
      "cell_type": "code",
      "execution_count": 31,
      "metadata": {
        "colab": {
          "base_uri": "https://localhost:8080/"
        },
        "id": "8CWiIwMPhb5X",
        "outputId": "c9df025b-3cb0-4cf5-c8c1-3eaf33f9ed34"
      },
      "outputs": [
        {
          "output_type": "execute_result",
          "data": {
            "text/plain": [
              "[('e121', None, 'fExterior0'), ('e112', 'fInterior1', None)]"
            ]
          },
          "metadata": {},
          "execution_count": 31
        }
      ],
      "source": [
        "listaCaras = []\n",
        "for i in range(0, len(caras)):\n",
        "  if \"Exterior\" in caras[i][1]:\n",
        "    listaCaras.append(cara(caras[i][0], None, caras[i][1]))\n",
        "  if \"Interior\" in caras[i][1]:\n",
        "    listaCaras.append(cara(caras[i][0], caras[i][1], None))\n",
        "listaCaras"
      ]
    },
    {
      "cell_type": "markdown",
      "source": [
        "##Segundo Punto"
      ],
      "metadata": {
        "id": "XrKPb4KWoy7E"
      }
    },
    {
      "cell_type": "code",
      "source": [
        "listaNodos"
      ],
      "metadata": {
        "colab": {
          "base_uri": "https://localhost:8080/"
        },
        "id": "Ve0QSVjjo0_X",
        "outputId": "c03318c2-92ee-4fba-db14-0669d3c71f5f"
      },
      "execution_count": 32,
      "outputs": [
        {
          "output_type": "execute_result",
          "data": {
            "text/plain": [
              "[('n0', (10.0,-1.0), 'e01'),\n",
              " ('n1', (11.0,4.0), 'e11'),\n",
              " ('n2', (13.0,3.0), 'e21'),\n",
              " ('n3', (12.0,10.0), 'e31'),\n",
              " ('n4', (13.0,15.0), 'e41'),\n",
              " ('n5', (11.0,15.0), 'e51'),\n",
              " ('n6', (9.5,11.0), 'e61'),\n",
              " ('n7', (10.0,6.0), 'e71'),\n",
              " ('n8', (7.0,12.0), 'e81'),\n",
              " ('n9', (5.0,12.0), 'e91'),\n",
              " ('n10', (4.0,2.5), 'e101'),\n",
              " ('n11', (3.0,4.0), 'e111'),\n",
              " ('n12', (2.0,-4.0), 'e121'),\n",
              " ('n13', (4.0,-4.0), 'e131'),\n",
              " ('n14', (6.0,3.0), 'e141'),\n",
              " ('n15', (7.0,-3.0), 'e151'),\n",
              " ('n16', (8.0,6.0), 'e161'),\n",
              " ('n17', (9.0,-1.0), 'e171')]"
            ]
          },
          "metadata": {},
          "execution_count": 32
        }
      ]
    },
    {
      "cell_type": "code",
      "source": [
        "listaFinal"
      ],
      "metadata": {
        "colab": {
          "base_uri": "https://localhost:8080/"
        },
        "id": "urSGwdC1o4WP",
        "outputId": "4f83f608-155b-4328-d549-bcebaa57d613"
      },
      "execution_count": 33,
      "outputs": [
        {
          "output_type": "execute_result",
          "data": {
            "text/plain": [
              "[('e01', 'n0', (10.0,-1.0), 'e02', 'e11', 'e171', 'fExterior0', None, None, None, None),\n",
              " ('e11', 'n1', (11.0,4.0), 'e12', 'e21', 'e01', 'fExterior0', None, None, None, None),\n",
              " ('e21', 'n2', (13.0,3.0), 'e22', 'e31', 'e11', 'fExterior0', None, None, None, None),\n",
              " ('e31', 'n3', (12.0,10.0), 'e32', 'e41', 'e21', 'fExterior0', None, None, None, None),\n",
              " ('e41', 'n4', (13.0,15.0), 'e42', 'e51', 'e31', 'fExterior0', None, None, None, None),\n",
              " ('e51', 'n5', (11.0,15.0), 'e52', 'e61', 'e41', 'fExterior0', None, None, None, None),\n",
              " ('e61', 'n6', (9.5,11.0), 'e62', 'e71', 'e51', 'fExterior0', None, None, None, None),\n",
              " ('e71', 'n7', (10.0,6.0), 'e72', 'e81', 'e61', 'fExterior0', None, None, None, None),\n",
              " ('e81', 'n8', (7.0,12.0), 'e82', 'e91', 'e71', 'fExterior0', None, None, None, None),\n",
              " ('e91', 'n9', (5.0,12.0), 'e92', 'e101', 'e81', 'fExterior0', None, None, None, None),\n",
              " ('e101', 'n10', (4.0,2.5), 'e102', 'e111', 'e91', 'fExterior0', None, None, None, None),\n",
              " ('e111', 'n11', (3.0,4.0), 'e112', 'e121', 'e101', 'fExterior0', None, None, None, None),\n",
              " ('e121', 'n12', (2.0,-4.0), 'e122', 'e131', 'e111', 'fExterior0', None, None, None, None),\n",
              " ('e131', 'n13', (4.0,-4.0), 'e132', 'e141', 'e121', 'fExterior0', None, None, None, None),\n",
              " ('e141', 'n14', (6.0,3.0), 'e142', 'e151', 'e131', 'fExterior0', None, None, None, None),\n",
              " ('e151', 'n15', (7.0,-3.0), 'e152', 'e161', 'e141', 'fExterior0', None, None, None, None),\n",
              " ('e161', 'n16', (8.0,6.0), 'e162', 'e171', 'e151', 'fExterior0', None, None, None, None),\n",
              " ('e171', 'n17', (9.0,-1.0), 'e172', 'e01', 'e161', 'fExterior0', None, None, None, None),\n",
              " ('e02', 'n1', (11.0,4.0), 'e01', 'e172', 'e12', 'fInterior1', None, None, None, None),\n",
              " ('e172', 'n0', (10.0,-1.0), 'e171', 'e162', 'e02', 'fInterior1', None, None, None, None),\n",
              " ('e162', 'n17', (9.0,-1.0), 'e161', 'e152', 'e172', 'fInterior1', None, None, None, None),\n",
              " ('e152', 'n16', (8.0,6.0), 'e151', 'e142', 'e162', 'fInterior1', None, None, None, None),\n",
              " ('e142', 'n15', (7.0,-3.0), 'e141', 'e132', 'e152', 'fInterior1', None, None, None, None),\n",
              " ('e132', 'n14', (6.0,3.0), 'e131', 'e122', 'e142', 'fInterior1', None, None, None, None),\n",
              " ('e122', 'n13', (4.0,-4.0), 'e121', 'e112', 'e132', 'fInterior1', None, None, None, None),\n",
              " ('e112', 'n12', (2.0,-4.0), 'e111', 'e102', 'e122', 'fInterior1', None, None, None, None),\n",
              " ('e102', 'n11', (3.0,4.0), 'e101', 'e92', 'e112', 'fInterior1', None, None, None, None),\n",
              " ('e92', 'n10', (4.0,2.5), 'e91', 'e82', 'e102', 'fInterior1', None, None, None, None),\n",
              " ('e82', 'n9', (5.0,12.0), 'e81', 'e72', 'e92', 'fInterior1', None, None, None, None),\n",
              " ('e72', 'n8', (7.0,12.0), 'e71', 'e62', 'e82', 'fInterior1', None, None, None, None),\n",
              " ('e62', 'n7', (10.0,6.0), 'e61', 'e52', 'e72', 'fInterior1', None, None, None, None),\n",
              " ('e52', 'n6', (9.5,11.0), 'e51', 'e42', 'e62', 'fInterior1', None, None, None, None),\n",
              " ('e42', 'n5', (11.0,15.0), 'e41', 'e32', 'e52', 'fInterior1', None, None, None, None),\n",
              " ('e32', 'n4', (13.0,15.0), 'e31', 'e22', 'e42', 'fInterior1', None, None, None, None),\n",
              " ('e22', 'n3', (12.0,10.0), 'e21', 'e12', 'e32', 'fInterior1', None, None, None, None),\n",
              " ('e12', 'n2', (13.0,3.0), 'e11', 'e02', 'e22', 'fInterior1', None, None, None, None)]"
            ]
          },
          "metadata": {},
          "execution_count": 33
        }
      ]
    },
    {
      "cell_type": "code",
      "source": [
        "listaCaras"
      ],
      "metadata": {
        "colab": {
          "base_uri": "https://localhost:8080/"
        },
        "id": "KdhMCXeTo2ou",
        "outputId": "ef05e8ea-ec16-49e0-93d8-e6bc48f9c8be"
      },
      "execution_count": 34,
      "outputs": [
        {
          "output_type": "execute_result",
          "data": {
            "text/plain": [
              "[('e121', None, 'fExterior0'), ('e112', 'fInterior1', None)]"
            ]
          },
          "metadata": {},
          "execution_count": 34
        }
      ]
    },
    {
      "cell_type": "markdown",
      "metadata": {
        "id": "5gPRJshj8-mf"
      },
      "source": [
        "##A continuación si tomo un polígono ordenado de manera antihoraria se clasifican sus vértices (terminado)"
      ]
    },
    {
      "cell_type": "code",
      "execution_count": 35,
      "metadata": {
        "id": "TBzIO_MvGaCD"
      },
      "outputs": [],
      "source": [
        "class punto:\n",
        "    def __init__(self, x1, y1):\n",
        "        self.x = x1\n",
        "        self.y = y1\n",
        "    def __str__(self):\n",
        "        return ('('+str(self.x)+','+str(self.y)+')')\n",
        "    def __repr__(self):\n",
        "        return self.__str__()\n",
        "def productoCruz2D(p0, p1, p2):\n",
        "  det = ((p1.x-p0.x)*(p2.y-p0.y))-((p2.x-p0.x)*(p1.y-p0.y))\n",
        "  if(det<0):\n",
        "    return(\"h\")\n",
        "  elif(det>0):\n",
        "    return(\"ah\")\n",
        "  else:\n",
        "    print(\"colineales\")"
      ]
    },
    {
      "cell_type": "code",
      "execution_count": 36,
      "metadata": {
        "id": "L_TyVWJqGltJ"
      },
      "outputs": [],
      "source": [
        "#listaPuntos = [punto(5,1), punto(8,3), punto(5,-2), punto(2,2), punto(-1, -1), punto(1,5)]\n",
        "#listaPuntos = [punto(1,1), punto(-1,1), punto(-1,-1), punto(1,-1)]\n",
        "#listaPuntos = [punto(2,2), punto(-2, 1), punto(-2, -1), punto(2, -1)]\n",
        "#listaPuntos = [ punto(-1,1), punto(-1.2,5), punto(-2,4), punto(-3, 5), punto(-4.5 ,3.5), punto(-3.5, 2), punto(-3, -0.5), punto(-5,1.5), punto(-7, -3), punto(-6,-5), punto(-4,-4), punto(-3,-4.5), punto(-3.5,-2), punto(-0.3, -3),punto(0,0)]"
      ]
    },
    {
      "cell_type": "code",
      "execution_count": 37,
      "metadata": {
        "id": "HfFlYeHcIWej"
      },
      "outputs": [],
      "source": [
        "def relacionDeOrden(punto1, punto2):\n",
        "  if (punto1.y<punto2.y or (punto1.y == punto2.y and punto1.x>punto2.x)):\n",
        "    return True\n",
        "  else:\n",
        "    return False\n",
        "#recordar no se ha implementado aun colinealidad entre puntos\n",
        "#recordar que lo hago asumiendo que el ultimo elemento de la lista va con el primero\n",
        "def clasificarPuntos(listaPuntos):\n",
        "  clasificacionPuntos = []\n",
        "  for i in range(0, len(listaPuntos)):\n",
        "\n",
        "    p0 = listaPuntos[i-2]\n",
        "    p1 = listaPuntos[i-1]\n",
        "    p2 = listaPuntos[i]\n",
        "    tmp = productoCruz2D(p0, p1, p2)\n",
        "    if (relacionDeOrden(p0,p1) and relacionDeOrden(p1, p2)) or (relacionDeOrden(p1,p0) and relacionDeOrden(p2, p1)): #si p1 es menos que p0 y p1 es mayor que p2 o visceversa\n",
        "      clasificacionPuntos.append((p1, \"regular\"))\n",
        "    elif (relacionDeOrden(p2,p1) and relacionDeOrden(p0, p1)):\n",
        "      if tmp==(\"ah\"):\n",
        "        clasificacionPuntos.append((p1, \"inicio\"))\n",
        "      else:\n",
        "        clasificacionPuntos.append((p1, \"division\"))\n",
        "    elif(relacionDeOrden(p1,p2) and relacionDeOrden(p1,p0)):\n",
        "      if tmp==(\"ah\"):\n",
        "        clasificacionPuntos.append((p1, \"fin\"))\n",
        "      else:\n",
        "        clasificacionPuntos.append((p1, \"union\"))\n",
        "  return clasificacionPuntos"
      ]
    },
    {
      "cell_type": "code",
      "execution_count": 38,
      "metadata": {
        "colab": {
          "base_uri": "https://localhost:8080/"
        },
        "id": "IeMc5EL_OqAi",
        "outputId": "0efb6bc7-695f-4787-840e-6e1c77124338"
      },
      "outputs": [
        {
          "output_type": "execute_result",
          "data": {
            "text/plain": [
              "[((9.0,-1.0), 'regular'),\n",
              " ((10.0,-1.0), 'fin'),\n",
              " ((11.0,4.0), 'division'),\n",
              " ((13.0,3.0), 'fin'),\n",
              " ((12.0,10.0), 'regular'),\n",
              " ((13.0,15.0), 'regular'),\n",
              " ((11.0,15.0), 'inicio'),\n",
              " ((9.5,11.0), 'regular'),\n",
              " ((10.0,6.0), 'union'),\n",
              " ((7.0,12.0), 'regular'),\n",
              " ((5.0,12.0), 'inicio'),\n",
              " ((4.0,2.5), 'union'),\n",
              " ((3.0,4.0), 'inicio'),\n",
              " ((2.0,-4.0), 'regular'),\n",
              " ((4.0,-4.0), 'fin'),\n",
              " ((6.0,3.0), 'division'),\n",
              " ((7.0,-3.0), 'fin'),\n",
              " ((8.0,6.0), 'division')]"
            ]
          },
          "metadata": {},
          "execution_count": 38
        }
      ],
      "source": [
        "\n",
        "clasificarPuntos(listaPuntos)"
      ]
    },
    {
      "cell_type": "markdown",
      "metadata": {
        "id": "YYI_cJIAJEYb"
      },
      "source": [
        "##A continuación si, trazamos una diagonal vamos a actualizar la lista de aristas doblemente conectadas (terminado)"
      ]
    },
    {
      "cell_type": "code",
      "execution_count": 39,
      "metadata": {
        "colab": {
          "base_uri": "https://localhost:8080/"
        },
        "id": "f9F8TnEqGq5r",
        "outputId": "01407481-5c63-4c78-91a8-b6ba2760bdbf"
      },
      "outputs": [
        {
          "output_type": "execute_result",
          "data": {
            "text/plain": [
              "[('e01', 'n0', (10.0,-1.0), 'e02', 'e11', 'e171', 'fExterior0', None, None, None, None),\n",
              " ('e11', 'n1', (11.0,4.0), 'e12', 'e21', 'e01', 'fExterior0', None, None, None, None),\n",
              " ('e21', 'n2', (13.0,3.0), 'e22', 'e31', 'e11', 'fExterior0', None, None, None, None),\n",
              " ('e31', 'n3', (12.0,10.0), 'e32', 'e41', 'e21', 'fExterior0', None, None, None, None),\n",
              " ('e41', 'n4', (13.0,15.0), 'e42', 'e51', 'e31', 'fExterior0', None, None, None, None),\n",
              " ('e51', 'n5', (11.0,15.0), 'e52', 'e61', 'e41', 'fExterior0', None, None, None, None),\n",
              " ('e61', 'n6', (9.5,11.0), 'e62', 'e71', 'e51', 'fExterior0', None, None, None, None),\n",
              " ('e71', 'n7', (10.0,6.0), 'e72', 'e81', 'e61', 'fExterior0', None, None, None, None),\n",
              " ('e81', 'n8', (7.0,12.0), 'e82', 'e91', 'e71', 'fExterior0', None, None, None, None),\n",
              " ('e91', 'n9', (5.0,12.0), 'e92', 'e101', 'e81', 'fExterior0', None, None, None, None),\n",
              " ('e101', 'n10', (4.0,2.5), 'e102', 'e111', 'e91', 'fExterior0', None, None, None, None),\n",
              " ('e111', 'n11', (3.0,4.0), 'e112', 'e121', 'e101', 'fExterior0', None, None, None, None),\n",
              " ('e121', 'n12', (2.0,-4.0), 'e122', 'e131', 'e111', 'fExterior0', None, None, None, None),\n",
              " ('e131', 'n13', (4.0,-4.0), 'e132', 'e141', 'e121', 'fExterior0', None, None, None, None),\n",
              " ('e141', 'n14', (6.0,3.0), 'e142', 'e151', 'e131', 'fExterior0', None, None, None, None),\n",
              " ('e151', 'n15', (7.0,-3.0), 'e152', 'e161', 'e141', 'fExterior0', None, None, None, None),\n",
              " ('e161', 'n16', (8.0,6.0), 'e162', 'e171', 'e151', 'fExterior0', None, None, None, None),\n",
              " ('e171', 'n17', (9.0,-1.0), 'e172', 'e01', 'e161', 'fExterior0', None, None, None, None),\n",
              " ('e02', 'n1', (11.0,4.0), 'e01', 'e172', 'e12', 'fInterior1', None, None, None, None),\n",
              " ('e172', 'n0', (10.0,-1.0), 'e171', 'e162', 'e02', 'fInterior1', None, None, None, None),\n",
              " ('e162', 'n17', (9.0,-1.0), 'e161', 'e152', 'e172', 'fInterior1', None, None, None, None),\n",
              " ('e152', 'n16', (8.0,6.0), 'e151', 'e142', 'e162', 'fInterior1', None, None, None, None),\n",
              " ('e142', 'n15', (7.0,-3.0), 'e141', 'e132', 'e152', 'fInterior1', None, None, None, None),\n",
              " ('e132', 'n14', (6.0,3.0), 'e131', 'e122', 'e142', 'fInterior1', None, None, None, None),\n",
              " ('e122', 'n13', (4.0,-4.0), 'e121', 'e112', 'e132', 'fInterior1', None, None, None, None),\n",
              " ('e112', 'n12', (2.0,-4.0), 'e111', 'e102', 'e122', 'fInterior1', None, None, None, None),\n",
              " ('e102', 'n11', (3.0,4.0), 'e101', 'e92', 'e112', 'fInterior1', None, None, None, None),\n",
              " ('e92', 'n10', (4.0,2.5), 'e91', 'e82', 'e102', 'fInterior1', None, None, None, None),\n",
              " ('e82', 'n9', (5.0,12.0), 'e81', 'e72', 'e92', 'fInterior1', None, None, None, None),\n",
              " ('e72', 'n8', (7.0,12.0), 'e71', 'e62', 'e82', 'fInterior1', None, None, None, None),\n",
              " ('e62', 'n7', (10.0,6.0), 'e61', 'e52', 'e72', 'fInterior1', None, None, None, None),\n",
              " ('e52', 'n6', (9.5,11.0), 'e51', 'e42', 'e62', 'fInterior1', None, None, None, None),\n",
              " ('e42', 'n5', (11.0,15.0), 'e41', 'e32', 'e52', 'fInterior1', None, None, None, None),\n",
              " ('e32', 'n4', (13.0,15.0), 'e31', 'e22', 'e42', 'fInterior1', None, None, None, None),\n",
              " ('e22', 'n3', (12.0,10.0), 'e21', 'e12', 'e32', 'fInterior1', None, None, None, None),\n",
              " ('e12', 'n2', (13.0,3.0), 'e11', 'e02', 'e22', 'fInterior1', None, None, None, None)]"
            ]
          },
          "metadata": {},
          "execution_count": 39
        }
      ],
      "source": [
        "listaSemiaristas"
      ]
    },
    {
      "cell_type": "code",
      "execution_count": 40,
      "metadata": {
        "colab": {
          "base_uri": "https://localhost:8080/",
          "height": 0
        },
        "id": "WQCIMCEBLxAu",
        "outputId": "88d63efc-c1f4-4e6a-cee2-362cf861fa34"
      },
      "outputs": [
        {
          "output_type": "execute_result",
          "data": {
            "text/plain": [
              "'n0'"
            ],
            "application/vnd.google.colaboratory.intrinsic+json": {
              "type": "string"
            }
          },
          "metadata": {},
          "execution_count": 40
        }
      ],
      "source": [
        "listaSemiaristas[0].origen"
      ]
    },
    {
      "cell_type": "code",
      "execution_count": 41,
      "metadata": {
        "colab": {
          "base_uri": "https://localhost:8080/"
        },
        "id": "k4FlgF1hGwqv",
        "outputId": "57048593-e2dd-4cf5-daa9-c9d89a8e86a5"
      },
      "outputs": [
        {
          "output_type": "execute_result",
          "data": {
            "text/plain": [
              "[('e121', None, 'fExterior0'), ('e112', 'fInterior1', None)]"
            ]
          },
          "metadata": {},
          "execution_count": 41
        }
      ],
      "source": [
        "listaCaras"
      ]
    },
    {
      "cell_type": "code",
      "execution_count": 42,
      "metadata": {
        "colab": {
          "base_uri": "https://localhost:8080/"
        },
        "id": "soChMq7uGyGU",
        "outputId": "3a8f8558-2483-476c-8a2f-047c14dab76f"
      },
      "outputs": [
        {
          "output_type": "execute_result",
          "data": {
            "text/plain": [
              "[('n0', (10.0,-1.0), 'e01'),\n",
              " ('n1', (11.0,4.0), 'e11'),\n",
              " ('n2', (13.0,3.0), 'e21'),\n",
              " ('n3', (12.0,10.0), 'e31'),\n",
              " ('n4', (13.0,15.0), 'e41'),\n",
              " ('n5', (11.0,15.0), 'e51'),\n",
              " ('n6', (9.5,11.0), 'e61'),\n",
              " ('n7', (10.0,6.0), 'e71'),\n",
              " ('n8', (7.0,12.0), 'e81'),\n",
              " ('n9', (5.0,12.0), 'e91'),\n",
              " ('n10', (4.0,2.5), 'e101'),\n",
              " ('n11', (3.0,4.0), 'e111'),\n",
              " ('n12', (2.0,-4.0), 'e121'),\n",
              " ('n13', (4.0,-4.0), 'e131'),\n",
              " ('n14', (6.0,3.0), 'e141'),\n",
              " ('n15', (7.0,-3.0), 'e151'),\n",
              " ('n16', (8.0,6.0), 'e161'),\n",
              " ('n17', (9.0,-1.0), 'e171')]"
            ]
          },
          "metadata": {},
          "execution_count": 42
        }
      ],
      "source": [
        "listaNodos"
      ]
    },
    {
      "cell_type": "code",
      "execution_count": 43,
      "metadata": {
        "id": "OKoS03x6yMOW"
      },
      "outputs": [],
      "source": [
        "#esta funcion toma una lista de semiaristas que tengan aristas de la forma \"ek\" para cambiar k por un numero\n",
        "def actualizarNumero(listaSemiaristas):\n",
        "  numeroMax = int(listaSemiaristas[0].nombre[1:-1])\n",
        "  for i in listaSemiaristas:\n",
        "    if (i.nombre[1:-1]) != \"k\":\n",
        "      if int(i.nombre[1:-1]) > numeroMax or numeroMax == None:\n",
        "\n",
        "        numeroMax = int(i.nombre[1:-1])\n",
        "  numeroMax = numeroMax + 1\n",
        "  for i in listaSemiaristas:\n",
        "    if i.nombre == \"ek1\":\n",
        "      i.nombre = \"e\"+str(numeroMax)+\"1\"\n",
        "\n",
        "    if i.nombre == \"ek2\":\n",
        "      i.nombre = \"e\"+str(numeroMax)+\"2\"\n",
        "\n",
        "    if i.siguiente == \"ek1\":\n",
        "      i.siguiente = \"e\"+str(numeroMax)+\"1\"\n",
        "    if i.siguiente == \"ek2\":\n",
        "      i.siguiente = \"e\"+str(numeroMax)+\"2\"\n",
        "    if i.previo == \"ek1\":\n",
        "      i.previo = \"e\"+str(numeroMax)+\"1\"\n",
        "    if i.previo == \"ek2\":\n",
        "      i.previo = \"e\"+str(numeroMax)+\"2\"\n",
        "    if i.gemelo == \"ek1\":\n",
        "      i.gemelo = \"e\"+str(numeroMax)+\"1\"\n",
        "    if i.gemelo == \"ek2\":\n",
        "      i.gemelo = \"e\"+str(numeroMax)+\"2\"\n",
        "\n",
        "  return listaSemiaristas"
      ]
    },
    {
      "cell_type": "code",
      "execution_count": 44,
      "metadata": {
        "id": "9q_yp_jMzl6y"
      },
      "outputs": [],
      "source": [
        "def Next(semiaristaActual, listaSemiaristas):\n",
        "  #devuelvo indice\n",
        "  siguiente = semiaristaActual.siguiente\n",
        "  for i in range(0, len(listaSemiaristas)):\n",
        "      if listaSemiaristas[i].nombre == siguiente:\n",
        "        return i\n",
        "def Prev(semiaristaActual, listaSemiaristas):\n",
        "  #devuelve indice\n",
        "  previo = semiaristaActual.previo\n",
        "  for i in range(0, len(listaSemiaristas)):\n",
        "      if listaSemiaristas[i].nombre == previo:\n",
        "        return i"
      ]
    },
    {
      "cell_type": "code",
      "execution_count": 45,
      "metadata": {
        "id": "_3cy0STKGWgK"
      },
      "outputs": [],
      "source": [
        "#Recordar que tengo las semiaristas ordenadas donde las primeras son frontera\n",
        "#exterior\n",
        "def agregarDiagonal(listaSemiaristas, listaCaras, diagonal):\n",
        "  #diagonal deberia ser una tupla de puntos que se agregara a la nueva lista de\n",
        "  #aristas\n",
        "  #print(\"imprimiendoSemiaristas\")\n",
        "  #for i in listaSemiaristas:\n",
        "\n",
        "    #print(i)\n",
        "\n",
        "  lista = listaSemiaristas.copy()\n",
        "  semiaristaNueva1 = semiArista('ek2', diagonal[0].origen, diagonal[0].coordenadas,\n",
        "                                twin('ek2'), None, None, None)\n",
        "  semiaristaNueva2 = semiArista('ek1', diagonal[1].origen, diagonal[1].coordenadas,\n",
        "                                twin('ek1'), None, None, None)\n",
        "  semiaristasOrigen1 = []\n",
        "  semiaristasOrigen2 = []\n",
        "  for i in listaSemiaristas:\n",
        "    if semiaristaNueva1.origen == i.origen:\n",
        "      semiaristasOrigen1.append(i)\n",
        "    if semiaristaNueva2.origen == i.origen:\n",
        "      semiaristasOrigen2.append(i)\n",
        "  #print(\"imprimiendo origen 1\")\n",
        "  #print(semiaristasOrigen1)\n",
        "  #print(\"imprimiendo origen 2\")\n",
        "  #print(semiaristasOrigen2)\n",
        "  semiarista1Try = [item for item in semiaristasOrigen1]\n",
        "  semiarista2Try = [item for item in semiaristasOrigen2]\n",
        "  semiaristasNuevo = []\n",
        "  semiaristasNuevo = semiaristasOrigen1+semiaristasOrigen2\n",
        "  for i in semiarista1Try:\n",
        "    semiaristasNuevo.append(i)\n",
        "   # print(\"Added to semiaristasOrigen1:\", i)\n",
        "  for i in semiarista2Try:\n",
        "    semiaristasNuevo.append(i)\n",
        "   # print(\"Added to semiaristasOrigen2:\", i)\n",
        " # print(\"imprimiendo todas\")\n",
        " # print(\"semiaristasNuevo\")\n",
        " # print(\"imprimiendo semiaristas nuevo\")\n",
        "\n",
        "  for i in semiaristasNuevo:\n",
        "    i\n",
        "  semiaristasFinal = []\n",
        "  count = 0\n",
        "  #print('imprimiendo diagonal')\n",
        "  #print(diagonal)\n",
        "  for i in semiaristasNuevo:\n",
        "    if 'Exterior' in i.caraIncidente:\n",
        "      semiaristasFinal.append(i)\n",
        "      count = count + 1\n",
        "  caraExterior = semiaristasFinal[0].caraIncidente\n",
        "  for i in listaSemiaristas:\n",
        "    if caraExterior == i.caraIncidente:\n",
        "      #print(\"encre\")\n",
        "      semiaristasFinal.append(i)\n",
        "  semiaristasFinal = semiaristasFinal[count:]\n",
        "\n",
        "  count2 = 0\n",
        "  #for i in semiaristasFinal:\n",
        "    #print (i)\n",
        "  for i in semiaristasFinal:\n",
        "\n",
        "    if i.origen == diagonal[0].origen:\n",
        "      semiaristaOrigenVa = i\n",
        "      break\n",
        "    count2 = count2+1\n",
        "  count3 = 0\n",
        "  for i in semiaristasFinal:\n",
        "    if i.origen == diagonal[1].origen:\n",
        "      semiaristaOrigenVb = i\n",
        "      #print(\"AAAAAAAA\")\n",
        "      break\n",
        "    count3 = count3+1\n",
        "  #print(\"BBB\")\n",
        "  previoVa = Prev(semiaristaOrigenVa, semiaristasFinal)\n",
        "\n",
        "  semiaristasFinal[previoVa].siguiente = 'ek2'\n",
        "\n",
        "\n",
        "  previoVb = Prev(semiaristaOrigenVb, semiaristasFinal)\n",
        "  semiaristasFinal[previoVb].siguiente = 'ek1'\n",
        "\n",
        "  semiaristaNueva1.previo = semiaristaOrigenVa.previo\n",
        "  semiaristaNueva2.previo = semiaristaOrigenVb.previo\n",
        "\n",
        "  semiaristaNueva1.siguiente = semiaristaOrigenVb.nombre\n",
        "  semiaristaNueva2.siguiente = semiaristaOrigenVa.nombre\n",
        "\n",
        "  semiaristasFinal[count2].previo = 'ek1'\n",
        "  semiaristasFinal[count3].previo = 'ek2'\n",
        "\n",
        "\n",
        "\n",
        "  semiaristasFinal.append(semiaristaNueva2)\n",
        "  semiaristasFinal.append(semiaristaNueva1)\n",
        "  for i in range(0, len(listaCaras)):\n",
        "    if listaCaras[i].incidenteInterior == caraExterior:\n",
        "      listaCaras.pop(i)\n",
        "      break\n",
        "\n",
        "  listaFinal = []\n",
        "  listaListasFinal = []\n",
        "  listaSemiarista = semiaristasFinal.copy()\n",
        "  while len(listaSemiarista) != 0:\n",
        "    tmp = recorrerPoligono(semiaristasFinal)\n",
        "    listaSemiarista = tmp[0]\n",
        "    listaListasFinal.append(tmp[1])\n",
        "    listaFinal = listaFinal + tmp[1]\n",
        "  numeroCaras = len(listaCaras)\n",
        "  caras = []\n",
        "  listaRetornar = []\n",
        "  for i in range (0 ,len(listaListasFinal)):\n",
        "    listaCaras.append(cara(listaListasFinal[i][0].nombre, None, \"fExterior\"+str(i+1+numeroCaras)))\n",
        "    for j in listaListasFinal[i]:\n",
        "      j.caraIncidente = \"fExterior\"+str(i+1+numeroCaras)\n",
        "  listaFinal = []\n",
        "  for i in range (0 ,len(listaListasFinal)):\n",
        "    for j in listaListasFinal[i]:\n",
        "      listaFinal.append(j)\n",
        "  for i in range(0, len(listaFinal)):\n",
        "    for j in range(0, len(listaSemiaristas)):\n",
        "      if listaFinal[i].nombre == listaSemiaristas[j].nombre:\n",
        "        lista[j].coordenadas = listaFinal[i].coordenadas\n",
        "        lista[j].origen = listaFinal[i].origen\n",
        "        lista[j].gemelo = listaFinal[i].gemelo\n",
        "        lista[j].siguiente = listaFinal[i].siguiente\n",
        "        lista[j].previo = listaFinal[i].previo\n",
        "        lista[j].caraIncidente = listaFinal[i].caraIncidente\n",
        "        break\n",
        "  for i in listaFinal:\n",
        "    if i.nombre == \"ek1\":\n",
        "      lista.append(i)\n",
        "    if i.nombre == \"ek2\":\n",
        "      lista.append(i)\n",
        "  listaSemiaristasActualizada = actualizarNumero(lista)\n",
        "  #for i in listaSemiaristasActualizada:\n",
        "    #print(i)\n",
        "  #fexterior significa que es frontera exterior de una cara\n",
        "  #A continuacion se presenta el resultado de las listas de aristas\n",
        "  #doblemente conectadas con el ejemplo de la imagen que esta en el\n",
        "  #quiz\n",
        "  listaFinal = actualizarNumero(listaFinal)\n",
        "  return listaSemiaristasActualizada, listaCaras\n",
        "\n",
        "#listaFinal, listaCaras = agregarDiagonal(listaSemiaristas, listaCaras, (listaSemiaristas[0], listaSemiaristas[-2]))\n"
      ]
    },
    {
      "cell_type": "code",
      "execution_count": 46,
      "metadata": {
        "id": "SY3GrSwaRjf7"
      },
      "outputs": [],
      "source": [
        "#for i in listaFinal:\n",
        "  #print(i)"
      ]
    },
    {
      "cell_type": "markdown",
      "metadata": {
        "id": "LTqz4qJoTTBh"
      },
      "source": [
        "##Divisiones Y-Monotonas"
      ]
    },
    {
      "cell_type": "code",
      "execution_count": 47,
      "metadata": {
        "id": "ZKj7uDwOC6xh"
      },
      "outputs": [],
      "source": [
        "def Next(semiaristaActual, listaSemiaristas):\n",
        "  #devuelvo indice\n",
        "  siguiente = semiaristaActual.siguiente\n",
        "  for i in range(0, len(listaSemiaristas)):\n",
        "      if listaSemiaristas[i].nombre == siguiente:\n",
        "        return i\n",
        "def Prev(semiaristaActual, listaSemiaristas):\n",
        "  #devuelve indice\n",
        "  previo = semiaristaActual.previo\n",
        "  for i in range(0, len(listaSemiaristas)):\n",
        "      if listaSemiaristas[i].nombre == previo:\n",
        "        return i\n",
        "  #devuelve indice\n",
        "def encontrarSemiaristaSemiarista(nodo, listaSemiaristas):\n",
        "  for i in range (0,len(listaSemiaristas)):\n",
        "    #print(\"a\")\n",
        "    #print(listaSemiaristas[i].origen, nodo.nombre)\n",
        "    if listaSemiaristas[i].origen == nodo.nombre:\n",
        "        return i\n",
        "def encontrarSemiarista(semiarista, listaSemiaristas):\n",
        "  for i in range (0,len(listaSemiaristas)):\n",
        "    #print(\"a\")\n",
        "    #print(listaSemiaristas[i].origen, semiarista.nombre)\n",
        "    if listaSemiaristas[i].nombre == semiarista.nombre:\n",
        "        return i"
      ]
    },
    {
      "cell_type": "code",
      "execution_count": 48,
      "metadata": {
        "id": "0uhgNB1Fh4DN"
      },
      "outputs": [],
      "source": [
        "class segmento:\n",
        "    def __init__(self, p1, p2):\n",
        "        self.pInicial = p1\n",
        "        self.pFinal = p2\n",
        "    def __str__(self):\n",
        "        return ('('+str(self.pInicial)+','+str(self.pFinal)+')')\n",
        "    def __repr__(self):\n",
        "        return str(self)"
      ]
    },
    {
      "cell_type": "code",
      "execution_count": 49,
      "metadata": {
        "colab": {
          "base_uri": "https://localhost:8080/",
          "height": 0
        },
        "id": "Wubmm775ichR",
        "outputId": "cabf5049-5470-446a-8709-b749b9b2a64a"
      },
      "outputs": [
        {
          "output_type": "execute_result",
          "data": {
            "text/plain": [
              "'id?\\ndef encontrarElementoIzquierda(root, nodoObjetivo):\\n    if root is None:\\n        return None\\n\\n    nodoActual = root\\n    nodoAnterior = None\\n\\n    while nodoActual is not None and nodoActual.data.coordenadas.x != nodoObjetivo.coordenadas.x and nodoActual.data.coordenadas.y != nodoObjetivo.coordenadas.y:\\n        nodoAnterior = nodoActual\\n        if nodoObjetivo.coordenadas.y > root.data.coordenadas.y or (nodoObjetivo.coordenadas.y == root.data.coordenadas.y and nodoObjetivo.coordenadas.x < root.data.coordenadas.x):\\n            nodoActual = nodoActual.left\\n        else:\\n            nodoActual = nodoActual.right\\n\\n    if nodoActual is None:\\n        return None\\n    else:\\n        if nodoAnterior is not None:\\n            return nodoAnterior.data\\n        else:\\n            return None\\n'"
            ],
            "application/vnd.google.colaboratory.intrinsic+json": {
              "type": "string"
            }
          },
          "metadata": {},
          "execution_count": 49
        }
      ],
      "source": [
        "class Node:\n",
        "  def __init__(self, data):\n",
        "    self.data = data\n",
        "    self.left = None\n",
        "    self.right = None\n",
        "    self.leaf = None\n",
        "def insertBST2Dim(root, node):\n",
        "\n",
        "    if node.data.coordenadas.y > root.data.coordenadas.y or (node.data.coordenadas.y == root.data.coordenadas.y and node.data.coordenadas.x < root.data.coordenadas.x):\n",
        "        if root.left is None:\n",
        "          root.left = node\n",
        "        else:\n",
        "          insertBST2Dim(root.left, node)\n",
        "    else:\n",
        "        if root.right is None:\n",
        "            root.right = node\n",
        "        else:\n",
        "            insertBST2Dim(root.right, node)\n",
        "\n",
        "\n",
        "\n",
        "def actualizarHelper(root, semiaristaNombre, helperSemiarista):\n",
        "  #nombre de la semiarista y el helper que le vamos a poner\n",
        "  #semiaristaNombre (string)\n",
        "  #root root de un arbol (nodo)\n",
        "  #helperSemiarista coordenada (punto)\n",
        "  if (root == None):\n",
        "      return False\n",
        "  if (root.data.nombre == semiaristaNombre):\n",
        "      root.data.helper = helperSemiarista\n",
        "  izquierda = actualizarHelper(root.left, semiaristaNombre, helperSemiarista)\n",
        "  derecha = actualizarHelper(root.right, semiaristaNombre, helperSemiarista)\n",
        "  if izquierda == False:\n",
        "    return derecha\n",
        "  else:\n",
        "    return izquierda\n",
        "\n",
        "\n",
        "def inOrder(root):\n",
        "  inOrderArr = []\n",
        "  if root.left is not None:\n",
        "    leftinOrderArr = inOrder(root.left)\n",
        "    inOrderArr.extend(leftinOrderArr)\n",
        "  inOrderArr.append(root.data)\n",
        "  if root.right is not None:\n",
        "    rightinOrderArr = inOrder(root.right)\n",
        "    inOrderArr.extend(rightinOrderArr)\n",
        "  return inOrderArr\n",
        "\n",
        "def encontrarHelper(node, helper):\n",
        "  #retorna la semiarista\n",
        "  if (node == None):\n",
        "      return False\n",
        "  if (node.data.coordenadas.x == helper.x and node.data.coordenadas.y == helper.y):\n",
        "      return node.data\n",
        "  izquierda = encontrarHelper(node.left, helper)\n",
        "  derecha = encontrarHelper(node.right, helper)\n",
        "  if izquierda == False:\n",
        "    return derecha\n",
        "  else:\n",
        "    return izquierda\n",
        "\n",
        "\n",
        "\n",
        "#este codigo para borrar nodos fue tomado de\n",
        "#https://www.geeksforgeeks.org/deletion-in-binary-search-tree/\n",
        "#y fue adaptado para un arbol de semiaristas\n",
        "def deleteNode(root, k):\n",
        "  if root is None:\n",
        "      return root\n",
        "  if k.coordenadas.y > root.data.coordenadas.y or (k.coordenadas.y == root.data.coordenadas.y and k.coordenadas.x < root.data.coordenadas.x):\n",
        "      root.left = deleteNode(root.left, k)\n",
        "      return root\n",
        "  elif k.coordenadas.y < root.data.coordenadas.y or (k.coordenadas.y == root.data.coordenadas.y and k.coordenadas.x > root.data.coordenadas.x):\n",
        "      #print(\"b\")\n",
        "      root.right = deleteNode(root.right, k)\n",
        "      return root\n",
        "  if root.left is None:\n",
        "      #print(\"c\")\n",
        "      temp = root.right\n",
        "      del root\n",
        "      return temp\n",
        "  elif root.right is None:\n",
        "      #print(\"d\")\n",
        "      temp = root.left\n",
        "      del root\n",
        "      return temp\n",
        "\n",
        "\n",
        "  else:\n",
        "      #print(\"e\")\n",
        "      succParent = root\n",
        "\n",
        "\n",
        "      succ = root.right\n",
        "      while succ.left is not None:\n",
        "          succParent = succ\n",
        "          succ = succ.left\n",
        "\n",
        "\n",
        "      if (succParent.data.coordenadas.x != root.data.coordenadas.x) and (succParent.data.coordenadas.y != root.data.coordenadas.y):\n",
        "          succParent.left = succ.right\n",
        "      else:\n",
        "          succParent.right = succ.right\n",
        "\n",
        "      root.data = succ.data\n",
        "\n",
        "      del succ\n",
        "      return root\n",
        "\"\"\"\n",
        "def encontrarElementoIzquierda(root, target):\n",
        "    current = root\n",
        "    left_leaf = None\n",
        "\n",
        "    while current:\n",
        "        if target.coordenadas.y < current.data.coordenadas.y or (target.coordenadas.y == current.data.coordenadas.y and target.coordenadas.x < current.data.coordenadas.x):\n",
        "            left_leaf = current  # Guarda el nodo actual como la hoja izquierda\n",
        "            current = current.left  # Muevete hacia la izquierda\n",
        "        else:\n",
        "            current = current.right  # Muevete hacia la derecha\n",
        "\n",
        "    return left_leaf\n",
        "\"\"\"\n",
        "def encontrarElementoIzquierda(root, target):\n",
        "  lista = inOrder(root)\n",
        "  if len(lista)==1:\n",
        "    return root.data\n",
        "  for i in range(0, len(lista)-1):\n",
        "    condicion1 = lista[i+1].coordenadas.y<target.coordenadas.y and lista[i].coordenadas.y>target.coordenadas.y\n",
        "    #condicion2 = lista[i+1].coordenadas.y==target.coordenadas.y and lista[i].coordenadas.y>target.coordenadas.y\n",
        "    condicion2 = lista[i+1].coordenadas.y==target.coordenadas.y and lista[i+1].coordenadas.x>target.coordenadas.x and lista[i].coordenadas.y>target.coordenadas.y\n",
        "\n",
        "    condicion3 = lista[i+1].coordenadas.y<target.coordenadas.y and lista[i].coordenadas.x<target.coordenadas.x and lista[i].coordenadas.y==target.coordenadas.y\n",
        "    if condicion1 or condicion2 or condicion3:\n",
        "      return lista[i]\n",
        "  return lista[-1]\n",
        "\n",
        "\"\"\"id?\n",
        "def encontrarElementoIzquierda(root, nodoObjetivo):\n",
        "    if root is None:\n",
        "        return None\n",
        "\n",
        "    nodoActual = root\n",
        "    nodoAnterior = None\n",
        "\n",
        "    while nodoActual is not None and nodoActual.data.coordenadas.x != nodoObjetivo.coordenadas.x and nodoActual.data.coordenadas.y != nodoObjetivo.coordenadas.y:\n",
        "        nodoAnterior = nodoActual\n",
        "        if nodoObjetivo.coordenadas.y > root.data.coordenadas.y or (nodoObjetivo.coordenadas.y == root.data.coordenadas.y and nodoObjetivo.coordenadas.x < root.data.coordenadas.x):\n",
        "            nodoActual = nodoActual.left\n",
        "        else:\n",
        "            nodoActual = nodoActual.right\n",
        "\n",
        "    if nodoActual is None:\n",
        "        return None\n",
        "    else:\n",
        "        if nodoAnterior is not None:\n",
        "            return nodoAnterior.data\n",
        "        else:\n",
        "            return None\n",
        "\"\"\""
      ]
    },
    {
      "cell_type": "code",
      "execution_count": 50,
      "metadata": {
        "colab": {
          "base_uri": "https://localhost:8080/",
          "height": 0
        },
        "id": "1_h4ODaCoYr2",
        "outputId": "2a51b7b9-ca4a-4748-d882-550f0b9d194e"
      },
      "outputs": [
        {
          "output_type": "execute_result",
          "data": {
            "text/plain": [
              "'\\nxc = a.copy()\\nroot = Node(a[0])\\nxc.pop(0)\\nwhile len(xc):\\n  insertBST2Dim(root, Node(xc[0]))\\n  xc.pop(0)\\ncolaOrdenada = inOrder(root)\\n'"
            ],
            "application/vnd.google.colaboratory.intrinsic+json": {
              "type": "string"
            }
          },
          "metadata": {},
          "execution_count": 50
        }
      ],
      "source": [
        "\"\"\"\n",
        "xc = a.copy()\n",
        "root = Node(a[0])\n",
        "xc.pop(0)\n",
        "while len(xc):\n",
        "  insertBST2Dim(root, Node(xc[0]))\n",
        "  xc.pop(0)\n",
        "colaOrdenada = inOrder(root)\n",
        "\"\"\""
      ]
    },
    {
      "cell_type": "code",
      "execution_count": 51,
      "metadata": {
        "id": "JiZZJE0aowsq"
      },
      "outputs": [],
      "source": [
        "#p=deleteNode(root, a[0])"
      ]
    },
    {
      "cell_type": "code",
      "execution_count": 52,
      "metadata": {
        "id": "0bKrJVnnpU0g"
      },
      "outputs": [],
      "source": [
        "#print(a[0])"
      ]
    },
    {
      "cell_type": "code",
      "execution_count": 53,
      "metadata": {
        "id": "PQWTDAtcoshb"
      },
      "outputs": [],
      "source": [
        "#z = inOrder(root)"
      ]
    },
    {
      "cell_type": "code",
      "execution_count": 54,
      "metadata": {
        "id": "xMOZa5ZpxoIv"
      },
      "outputs": [],
      "source": [
        "#z"
      ]
    },
    {
      "cell_type": "code",
      "execution_count": 55,
      "metadata": {
        "id": "gfg_rbzuPAAz"
      },
      "outputs": [],
      "source": [
        "#for i in z:\n",
        "  #print(i)"
      ]
    },
    {
      "cell_type": "code",
      "execution_count": 56,
      "metadata": {
        "id": "Xbawy3hwxdJG"
      },
      "outputs": [],
      "source": [
        "#encontrarElementoIzquierda(root, z[2])"
      ]
    },
    {
      "cell_type": "code",
      "execution_count": 57,
      "metadata": {
        "id": "7f-Rhx0XV5EY"
      },
      "outputs": [],
      "source": [
        "#actualizarHelper(p, z[5].nombre, z[0].coordenadas)"
      ]
    },
    {
      "cell_type": "code",
      "execution_count": 58,
      "metadata": {
        "id": "3k--axfLmLXv"
      },
      "outputs": [],
      "source": [
        "#z = inOrder(p)"
      ]
    },
    {
      "cell_type": "code",
      "execution_count": 59,
      "metadata": {
        "id": "F7e7gEVTmNJF"
      },
      "outputs": [],
      "source": [
        "#z[5].helper"
      ]
    },
    {
      "cell_type": "code",
      "execution_count": 60,
      "metadata": {
        "id": "j-4DK1rNmUIe"
      },
      "outputs": [],
      "source": [
        "#z[0].coordenadas"
      ]
    },
    {
      "cell_type": "code",
      "execution_count": 61,
      "metadata": {
        "id": "bW-tyGK3mg4y"
      },
      "outputs": [],
      "source": [
        "#encontrarHelper(p, punto(-1.2,5))"
      ]
    },
    {
      "cell_type": "code",
      "execution_count": 62,
      "metadata": {
        "id": "GWLoay8uo_NL"
      },
      "outputs": [],
      "source": [
        "\n",
        "#len(colaOrdenada)"
      ]
    },
    {
      "cell_type": "code",
      "execution_count": 63,
      "metadata": {
        "colab": {
          "base_uri": "https://localhost:8080/",
          "height": 0
        },
        "id": "9haBlKzGUHDQ",
        "outputId": "199e4f00-a9f6-4976-bf99-718b0161bc2d"
      },
      "outputs": [
        {
          "output_type": "execute_result",
          "data": {
            "text/plain": [
              "'\\ndef divisionesYMonotonas(listaSemiaristasPoligono, listaVertices):\\n  #TODO(?): QUITAR ACTUALIZAR HELPERS CON ARBOLES\\n  #SOLO ACTUALIZQA\\n  poligonoAntiHorario = recorrerPoligono(listaSemiaristasPoligono)[1]\\n  puntosAClasificar = []\\n  for i in poligonoAntiHorario:\\n    puntosAClasificar.append(i.coordenadas)\\n  clasificacionPuntos = clasificarPuntos(puntosAClasificar)\\n  #print(len(poligonoAntiHorario))\\n  #print(len(clasificacionPuntos))\\n  #for i in range(0, len(poligonoAntiHorario)):\\n    #print(poligonoAntiHorario[i])\\n  #for i in range(0, len(clasificacionPuntos)):\\n    #print(clasificacionPuntos[i])\\n  for j in range(0, len(poligonoAntiHorario)):\\n    #print(j)\\n    poligonoAntiHorario[j-1].clasificacionOrigen = clasificacionPuntos[j][1]\\n  #implementar derecha e izquierda\\n  for i in range(0, len(poligonoAntiHorario)):\\n    if poligonoAntiHorario[i].clasificacionOrigen == \"regular\":\\n      if poligonoAntiHorario[i].coordenadas.y > poligonoAntiHorario[i-1].coordenadas.y or (poligonoAntiHorario[i].coordenadas.y == poligonoAntiHorario[i-1].coordenadas.y and poligonoAntiHorario[i].coordenadas.x < poligonoAntiHorario[i-1].coordenadas.x):\\n        poligonoAntiHorario[i].poligonoLado = \"izquierda\"\\n      else:\\n        poligonoAntiHorario[i].poligonoLado = \"derecha\"\\n  print(poligonoAntiHorario)\\n  #creacion de la cola Q\\n  xc = listaNodos.copy()\\n  root = Node(xc[0])\\n  xc.pop(0)\\n  while len(xc):\\n    insertBST2Dim(root, Node(xc[0]))\\n    xc.pop(0)\\n  colaOrdenada = inOrder(root)\\n  arbol = Node(None)\\n  tmp = None\\n  #return colaOrdenada\\n  diagonales = []\\n  #print(\"colaOrdenada\")\\n  for i in colaOrdenada:\\n    print(i)\\n  while len(colaOrdenada) != 0:\\n    verticeAManipular = colaOrdenada[0]\\n    indice = encontrarSemiaristaSemiarista(verticeAManipular, poligonoAntiHorario)\\n    elementoAManipular = poligonoAntiHorario[indice]\\n    colaOrdenada.pop(0)\\n    #################################         INICIO\\n    if elementoAManipular.clasificacionOrigen == \"inicio\":\\n      poligonoAntiHorario[indice].helper = elementoAManipular.coordenadas\\n      elementoAManipular.helper = elementoAManipular.coordenadas\\n      if arbol.data == None:\\n        arbol.data = elementoAManipular\\n      else:\\n        insertBST2Dim(arbol, Node(elementoAManipular))\\n    #############################    FIN\\n    elif elementoAManipular.clasificacionOrigen == \"fin\":\\n      tmp =  poligonoAntiHorario[Prev(elementoAManipular, poligonoAntiHorario)]\\n      helperTmp = encontrarHelper(poligonoAntiHorario, tmp.helper)\\n      if helperTmp.clasificacionOrigen == \"union\":\\n        diagonales.append((helperTmp, elementoAManipular))\\n      arbol = deleteNode(arbol, tmp)\\n    ############################# UNION\\n    elif elementoAManipular.clasificacionOrigen == \"union\":\\n      tmp =  poligonoAntiHorario[Prev(elementoAManipular, poligonoAntiHorario)]\\n      helperTmp = encontrarHelper(poligonoAntiHorario, tmp.helper)\\n      if helperTmp.clasificacionOrigen == \"union\":\\n        diagonales.append((helperTmp, elementoAManipular))\\n      arbol = deleteNode(arbol, tmp)\\n      elementoIzquierdo = encontrarElementoIzquierda(arbol, elementoAManipular)\\n      helper = encontrarHelper(poligonoAntiHorario, elementoIzquierdo.helper)\\n      indiceIzquierdo = encontrarSemiarista(elementoIzquierdo, poligonoAntiHorario)\\n      poligonoAntiHorario[indiceIzquierdo].helper = elementoAManipular.coordenadas\\n      if helper.clasificacionOrigen == \"union\":\\n        diagonales.append((elementoAManipular, helper))\\n      #actualizar helper\\n\\n      #actualizarHelper(arbol, elementoIzquierdo.nombre, elementoAManipular.coordenadas)\\n    ################################# DIVISION\\n    elif elementoAManipular.clasificacionOrigen == \"division\":\\n      elementoIzquierdo = encontrarElementoIzquierda(arbol, elementoAManipular)\\n      helperTmp = encontrarHelper(poligonoAntiHorario, elementoIzquierdo.helper)\\n      diagonales.append((helperTmp, elementoAManipular))\\n      #actualizarHelper(arbol, elementoIzquierdo.nombre, elementoAManipular.coordenadas)\\n      #print(\"aaaa\", verticeAManipular, poligonoAntiHorario)\\n      indice = encontrarSemiaristaSemiarista(verticeAManipular, poligonoAntiHorario)\\n      poligonoAntiHorario[indice].helper = elementoAManipular.coordenadas\\n      indiceIzquierdo = encontrarSemiarista(elementoIzquierdo, poligonoAntiHorario)\\n\\n      #aqui error\\n\\n      poligonoAntiHorario[indiceIzquierdo].helper = elementoAManipular.coordenadas\\n      elementoAManipular.helper = elementoAManipular.coordenadas\\n      insertBST2Dim(arbol, Node(elementoAManipular))\\n\\n\\n\\n\\n    ################################    REGULAR\\n\\n    elif elementoAManipular.clasificacionOrigen == \"regular\":\\n      if elementoAManipular.poligonoLado == \"derecha\":\\n        #print(\"aaaaa\")\\n        #print(inOrder(arbol))\\n        #print(\"BBBBBBBBBB\", inOrder(arbol))\\n        tmp =  poligonoAntiHorario[Prev(elementoAManipular, poligonoAntiHorario)]\\n        #print(\"anterior\", tmp)\\n        helperTmp = encontrarHelper(poligonoAntiHorario, tmp.helper)\\n        #print(\"x\",helperTmp)\\n        if helperTmp.clasificacionOrigen == \"union\":\\n          diagonales.append((elementoAManipular, helperTmp))\\n\\n        arbol = deleteNode(arbol, tmp)\\n      #print(\"test\")\\n\\n        elementoAManipular.helper = elementoAManipular.coordenadas\\n        if arbol == None:\\n\\n          arbol = Node(elementoAManipular)\\n        elif arbol.data == None:\\n          arbol.data = elementoAManipular\\n        else:\\n          insertBST2Dim(arbol, Node(elementoAManipular))\\n    elif elementoAManipular.poligonoLado == \"izquierda\":\\n      print(\"izquierdaaa\")\\n      print(elementoAManipular)\\n      print(inOrder(arbol))\\n      elementoIzquierdo = encontrarElementoIzquierda(arbol, elementoAManipular)\\n      print(\"izquierdopooooo\")\\n      print(elementoIzquierdo)\\n      #error por aqui prob\\n      helper = encontrarHelper(poligonoAntiHorario, elementoIzquierdo.helper)\\n      if helper.clasificacionOrigen == \"union\":\\n        diagonales.append((elementoAManipular, helper))\\n      #actualizarHelper(arbol, elementoIzquierdo.nombre, elementoAManipular.coordenadas)\\n      indiceIzquierdo = encontrarSemiarista(elementoIzquierdo, poligonoAntiHorario)\\n      poligonoAntiHorario[indiceIzquierdo].helper = elementoAManipular.coordenadas\\n    else:\\n      print(\"quemondddddddddddddddddddddddda\")\\n  #error con esto, si por ejemplo tengo vi va asociada con una arista\\n\\n    #print(\"tmp\", tmp)\\n    print(\"diag\",diagonales)\\n  return diagonales\\n'"
            ],
            "application/vnd.google.colaboratory.intrinsic+json": {
              "type": "string"
            }
          },
          "metadata": {},
          "execution_count": 63
        }
      ],
      "source": [
        "\"\"\"\n",
        "def divisionesYMonotonas(listaSemiaristasPoligono, listaVertices):\n",
        "  #TODO(?): QUITAR ACTUALIZAR HELPERS CON ARBOLES\n",
        "  #SOLO ACTUALIZQA\n",
        "  poligonoAntiHorario = recorrerPoligono(listaSemiaristasPoligono)[1]\n",
        "  puntosAClasificar = []\n",
        "  for i in poligonoAntiHorario:\n",
        "    puntosAClasificar.append(i.coordenadas)\n",
        "  clasificacionPuntos = clasificarPuntos(puntosAClasificar)\n",
        "  #print(len(poligonoAntiHorario))\n",
        "  #print(len(clasificacionPuntos))\n",
        "  #for i in range(0, len(poligonoAntiHorario)):\n",
        "    #print(poligonoAntiHorario[i])\n",
        "  #for i in range(0, len(clasificacionPuntos)):\n",
        "    #print(clasificacionPuntos[i])\n",
        "  for j in range(0, len(poligonoAntiHorario)):\n",
        "    #print(j)\n",
        "    poligonoAntiHorario[j-1].clasificacionOrigen = clasificacionPuntos[j][1]\n",
        "  #implementar derecha e izquierda\n",
        "  for i in range(0, len(poligonoAntiHorario)):\n",
        "    if poligonoAntiHorario[i].clasificacionOrigen == \"regular\":\n",
        "      if poligonoAntiHorario[i].coordenadas.y > poligonoAntiHorario[i-1].coordenadas.y or (poligonoAntiHorario[i].coordenadas.y == poligonoAntiHorario[i-1].coordenadas.y and poligonoAntiHorario[i].coordenadas.x < poligonoAntiHorario[i-1].coordenadas.x):\n",
        "        poligonoAntiHorario[i].poligonoLado = \"izquierda\"\n",
        "      else:\n",
        "        poligonoAntiHorario[i].poligonoLado = \"derecha\"\n",
        "  print(poligonoAntiHorario)\n",
        "  #creacion de la cola Q\n",
        "  xc = listaNodos.copy()\n",
        "  root = Node(xc[0])\n",
        "  xc.pop(0)\n",
        "  while len(xc):\n",
        "    insertBST2Dim(root, Node(xc[0]))\n",
        "    xc.pop(0)\n",
        "  colaOrdenada = inOrder(root)\n",
        "  arbol = Node(None)\n",
        "  tmp = None\n",
        "  #return colaOrdenada\n",
        "  diagonales = []\n",
        "  #print(\"colaOrdenada\")\n",
        "  for i in colaOrdenada:\n",
        "    print(i)\n",
        "  while len(colaOrdenada) != 0:\n",
        "    verticeAManipular = colaOrdenada[0]\n",
        "    indice = encontrarSemiaristaSemiarista(verticeAManipular, poligonoAntiHorario)\n",
        "    elementoAManipular = poligonoAntiHorario[indice]\n",
        "    colaOrdenada.pop(0)\n",
        "    #################################         INICIO\n",
        "    if elementoAManipular.clasificacionOrigen == \"inicio\":\n",
        "      poligonoAntiHorario[indice].helper = elementoAManipular.coordenadas\n",
        "      elementoAManipular.helper = elementoAManipular.coordenadas\n",
        "      if arbol.data == None:\n",
        "        arbol.data = elementoAManipular\n",
        "      else:\n",
        "        insertBST2Dim(arbol, Node(elementoAManipular))\n",
        "    #############################    FIN\n",
        "    elif elementoAManipular.clasificacionOrigen == \"fin\":\n",
        "      tmp =  poligonoAntiHorario[Prev(elementoAManipular, poligonoAntiHorario)]\n",
        "      helperTmp = encontrarHelper(poligonoAntiHorario, tmp.helper)\n",
        "      if helperTmp.clasificacionOrigen == \"union\":\n",
        "        diagonales.append((helperTmp, elementoAManipular))\n",
        "      arbol = deleteNode(arbol, tmp)\n",
        "    ############################# UNION\n",
        "    elif elementoAManipular.clasificacionOrigen == \"union\":\n",
        "      tmp =  poligonoAntiHorario[Prev(elementoAManipular, poligonoAntiHorario)]\n",
        "      helperTmp = encontrarHelper(poligonoAntiHorario, tmp.helper)\n",
        "      if helperTmp.clasificacionOrigen == \"union\":\n",
        "        diagonales.append((helperTmp, elementoAManipular))\n",
        "      arbol = deleteNode(arbol, tmp)\n",
        "      elementoIzquierdo = encontrarElementoIzquierda(arbol, elementoAManipular)\n",
        "      helper = encontrarHelper(poligonoAntiHorario, elementoIzquierdo.helper)\n",
        "      indiceIzquierdo = encontrarSemiarista(elementoIzquierdo, poligonoAntiHorario)\n",
        "      poligonoAntiHorario[indiceIzquierdo].helper = elementoAManipular.coordenadas\n",
        "      if helper.clasificacionOrigen == \"union\":\n",
        "        diagonales.append((elementoAManipular, helper))\n",
        "      #actualizar helper\n",
        "\n",
        "      #actualizarHelper(arbol, elementoIzquierdo.nombre, elementoAManipular.coordenadas)\n",
        "    ################################# DIVISION\n",
        "    elif elementoAManipular.clasificacionOrigen == \"division\":\n",
        "      elementoIzquierdo = encontrarElementoIzquierda(arbol, elementoAManipular)\n",
        "      helperTmp = encontrarHelper(poligonoAntiHorario, elementoIzquierdo.helper)\n",
        "      diagonales.append((helperTmp, elementoAManipular))\n",
        "      #actualizarHelper(arbol, elementoIzquierdo.nombre, elementoAManipular.coordenadas)\n",
        "      #print(\"aaaa\", verticeAManipular, poligonoAntiHorario)\n",
        "      indice = encontrarSemiaristaSemiarista(verticeAManipular, poligonoAntiHorario)\n",
        "      poligonoAntiHorario[indice].helper = elementoAManipular.coordenadas\n",
        "      indiceIzquierdo = encontrarSemiarista(elementoIzquierdo, poligonoAntiHorario)\n",
        "\n",
        "      #aqui error\n",
        "\n",
        "      poligonoAntiHorario[indiceIzquierdo].helper = elementoAManipular.coordenadas\n",
        "      elementoAManipular.helper = elementoAManipular.coordenadas\n",
        "      insertBST2Dim(arbol, Node(elementoAManipular))\n",
        "\n",
        "\n",
        "\n",
        "\n",
        "    ################################    REGULAR\n",
        "\n",
        "    elif elementoAManipular.clasificacionOrigen == \"regular\":\n",
        "      if elementoAManipular.poligonoLado == \"derecha\":\n",
        "        #print(\"aaaaa\")\n",
        "        #print(inOrder(arbol))\n",
        "        #print(\"BBBBBBBBBB\", inOrder(arbol))\n",
        "        tmp =  poligonoAntiHorario[Prev(elementoAManipular, poligonoAntiHorario)]\n",
        "        #print(\"anterior\", tmp)\n",
        "        helperTmp = encontrarHelper(poligonoAntiHorario, tmp.helper)\n",
        "        #print(\"x\",helperTmp)\n",
        "        if helperTmp.clasificacionOrigen == \"union\":\n",
        "          diagonales.append((elementoAManipular, helperTmp))\n",
        "\n",
        "        arbol = deleteNode(arbol, tmp)\n",
        "      #print(\"test\")\n",
        "\n",
        "        elementoAManipular.helper = elementoAManipular.coordenadas\n",
        "        if arbol == None:\n",
        "\n",
        "          arbol = Node(elementoAManipular)\n",
        "        elif arbol.data == None:\n",
        "          arbol.data = elementoAManipular\n",
        "        else:\n",
        "          insertBST2Dim(arbol, Node(elementoAManipular))\n",
        "    elif elementoAManipular.poligonoLado == \"izquierda\":\n",
        "      print(\"izquierdaaa\")\n",
        "      print(elementoAManipular)\n",
        "      print(inOrder(arbol))\n",
        "      elementoIzquierdo = encontrarElementoIzquierda(arbol, elementoAManipular)\n",
        "      print(\"izquierdopooooo\")\n",
        "      print(elementoIzquierdo)\n",
        "      #error por aqui prob\n",
        "      helper = encontrarHelper(poligonoAntiHorario, elementoIzquierdo.helper)\n",
        "      if helper.clasificacionOrigen == \"union\":\n",
        "        diagonales.append((elementoAManipular, helper))\n",
        "      #actualizarHelper(arbol, elementoIzquierdo.nombre, elementoAManipular.coordenadas)\n",
        "      indiceIzquierdo = encontrarSemiarista(elementoIzquierdo, poligonoAntiHorario)\n",
        "      poligonoAntiHorario[indiceIzquierdo].helper = elementoAManipular.coordenadas\n",
        "    else:\n",
        "      print(\"quemondddddddddddddddddddddddda\")\n",
        "  #error con esto, si por ejemplo tengo vi va asociada con una arista\n",
        "\n",
        "    #print(\"tmp\", tmp)\n",
        "    print(\"diag\",diagonales)\n",
        "  return diagonales\n",
        "\"\"\""
      ]
    },
    {
      "cell_type": "markdown",
      "source": [
        "##Punto 3"
      ],
      "metadata": {
        "id": "vjcXq-ZJpAAo"
      }
    },
    {
      "cell_type": "code",
      "execution_count": 64,
      "metadata": {
        "id": "_sK4P9Z2EptC"
      },
      "outputs": [],
      "source": [
        "#EL ALGORITMO NO FUNCIONA, PARA LA TRIANGULACION SE HIZO YMONOTONOS A MANO\n",
        "def divisionesYMonotonas(listaSemiaristasPoligono, listaVertices):\n",
        "  poligonoAntiHorario = recorrerPoligono(listaSemiaristasPoligono)[1]\n",
        "  puntosAClasificar = []\n",
        "  for i in poligonoAntiHorario:\n",
        "    puntosAClasificar.append(i.coordenadas)\n",
        "  clasificacionPuntos = clasificarPuntos(puntosAClasificar)\n",
        "  for j in range(0, len(poligonoAntiHorario)):\n",
        "    poligonoAntiHorario[j-1].clasificacionOrigen = clasificacionPuntos[j][1]\n",
        "  for i in range(0, len(poligonoAntiHorario)):\n",
        "    if poligonoAntiHorario[i].clasificacionOrigen == \"regular\":\n",
        "      if poligonoAntiHorario[i].coordenadas.y > poligonoAntiHorario[i-1].coordenadas.y or (poligonoAntiHorario[i].coordenadas.y == poligonoAntiHorario[i-1].coordenadas.y and poligonoAntiHorario[i].coordenadas.x < poligonoAntiHorario[i-1].coordenadas.x):\n",
        "        poligonoAntiHorario[i].poligonoLado = \"izquierda\"\n",
        "      else:\n",
        "        poligonoAntiHorario[i].poligonoLado = \"derecha\"\n",
        "  xc = listaNodos.copy()\n",
        "  root = Node(xc[0])\n",
        "  xc.pop(0)\n",
        "  while len(xc):\n",
        "    insertBST2Dim(root, Node(xc[0]))\n",
        "    xc.pop(0)\n",
        "  colaOrdenada = inOrder(root)\n",
        "  arbol = Node(None)\n",
        "  tmp = None\n",
        "  #return colaOrdenada\n",
        "  diagonales = []\n",
        "  #print(\"colaOrdenada\")\n",
        "  for i in colaOrdenada:\n",
        "    print(i)\n",
        "  count = 0\n",
        "\n",
        "  while len(colaOrdenada) != 0:\n",
        "    verticeAManipular = colaOrdenada[0]\n",
        "    indice = encontrarSemiaristaSemiarista(verticeAManipular, poligonoAntiHorario)\n",
        "    elementoAManipular = poligonoAntiHorario[indice]\n",
        "    colaOrdenada.pop(0)\n",
        "    print(\"iteracion \" + str(count))\n",
        "    print(\"elem\",elementoAManipular)\n",
        "    print(\"arbol en iteracion \" + str(count))\n",
        "    print(inOrder(arbol))\n",
        "\n",
        "\n",
        "    #################################         INICIO\n",
        "    if elementoAManipular.clasificacionOrigen == \"inicio\":\n",
        "        elementoAManipular.helper = elementoAManipular.coordenadas\n",
        "        print(\"a\")\n",
        "        if arbol.data != None:\n",
        "          insertBST2Dim(arbol, Node(elementoAManipular))\n",
        "        elif arbol.data == None:\n",
        "          arbol = Node(elementoAManipular)\n",
        "        print(\"elem\",elementoAManipular)\n",
        "\n",
        "        #actualizarHelper(arbol, elementoAManipular.nombre, elementoAManipular.coordenadas)\n",
        "    #############################    FIN\n",
        "    elif elementoAManipular.clasificacionOrigen == \"fin\":\n",
        "      elementoAnterior =  poligonoAntiHorario[Prev(elementoAManipular, poligonoAntiHorario)]\n",
        "      helperAnterior = encontrarHelper(arbol, elementoAnterior.helper)\n",
        "      if helperAnterior.clasificacionOrigen == \"union\":\n",
        "        diagonales.append(elementoAManipular, helperAnterior)\n",
        "      arbol = deleteNode(arbol, elementoAnterior)\n",
        "    ################################# DIVISION\n",
        "    elif elementoAManipular.clasificacionOrigen == \"division\":\n",
        "      elementoIzquierdo = encontrarElementoIzquierda(arbol, elementoAManipular)\n",
        "      helperIzquierdo = encontrarHelper(arbol, elementoIzquierdo.helper)\n",
        "      diagonales.append((elementoAManipular, helperIzquierdo))\n",
        "      elementoAManipular.helper = elementoAManipular.coordenadas\n",
        "      insertBST2Dim(arbol, Node(elementoAManipular))\n",
        "\n",
        "      #actualizarHelper(arbol, elementoAManipular, elementoAManipular.coordenadas)\n",
        "    ############################# UNION\n",
        "    elif elementoAManipular.clasificacionOrigen == \"union\":\n",
        "      elementoAnterior =  poligonoAntiHorario[Prev(elementoAManipular, poligonoAntiHorario)]\n",
        "      helperAnterior = encontrarHelper(arbol, elementoAnterior.helper)\n",
        "      if helperAnterior.clasificacionOrigen == \"union\":\n",
        "        diagonales.append((elementoAManipular,helperAnterior))\n",
        "      arbol = deleteNode(arbol, elementoAnterior)\n",
        "      elementoIzquierdo = encontrarElementoIzquierda(arbol, elementoAManipular)\n",
        "      print(\"elementoIzquierdo caso union\", elementoIzquierdo)\n",
        "      helperIzquierdo = encontrarHelper(arbol, elementoIzquierdo.helper)\n",
        "      elementoIzquierdo.helper = elementoAManipular.coordenadas\n",
        "      if helperIzquierdo.clasificacionOrigen == \"union\":\n",
        "        diagonales.append((elementoAManipular, helperIzquierdo))\n",
        "      arbol = deleteNode(arbol, elementoIzquierdo)\n",
        "      insertBST2Dim(arbol, elementoIzquierdo)\n",
        "      actualizarHelper(arbol, elementoIzquierdo, elementoAManipular.coordenadas)\n",
        "    ################################    REGULAR\n",
        "\n",
        "    elif elementoAManipular.clasificacionOrigen == \"regular\":\n",
        "      if elementoAManipular.poligonoLado == \"derecha\":\n",
        "        elementoAnterior =  poligonoAntiHorario[Prev(elementoAManipular, poligonoAntiHorario)]\n",
        "        print(\"elemento Anterior\", elementoAnterior)\n",
        "        helperAnterior = encontrarHelper(arbol, elementoAnterior.helper)\n",
        "        if helperAnterior.clasificacionOrigen == \"union\":\n",
        "          diagonales.append((elementoAManipular,helperAnterior))\n",
        "        print(\"casoregular derecha arbol\", inOrder(arbol))\n",
        "        arbol = deleteNode(arbol, elementoAnterior)\n",
        "        elementoAManipular.helper = elementoAManipular.coordenadas\n",
        "\n",
        "\n",
        "        if arbol != None:\n",
        "          insertBST2Dim(arbol, Node(elementoAManipular))\n",
        "        else:\n",
        "          arbol = Node(elementoAManipular)\n",
        "        #actualizarHelper(arbol, elementoAManipular, elementoAManipular.coordenadas)\n",
        "\n",
        "        print(\"inorder arbol regular\", inOrder(arbol))\n",
        "      elif elementoAManipular.poligonoLado == \"izquierda\":\n",
        "        print(\"Caso union izquierda\", \"elem manipular\")\n",
        "        print(elementoAManipular)\n",
        "        print(inOrder(arbol))\n",
        "        elementoIzquierdo = encontrarElementoIzquierda(arbol, elementoAManipular)\n",
        "        print(\"elem izquierdo\",elementoIzquierdo)\n",
        "        helperIzquierdo = encontrarHelper(arbol, elementoIzquierdo.helper)\n",
        "        if helperIzquierdo.clasificacionOrigen == \"union\":\n",
        "          diagonales.append((elementoAManipular, helperIzquierdo))\n",
        "        print(\"siuuu\")\n",
        "\n",
        "        arbol = deleteNode(arbol, elementoIzquierdo)\n",
        "        elementoIzquierdo.helper = elementoAManipular.coordenadas\n",
        "        if arbol!=None:\n",
        "          insertBST2Dim(arbol, Node(elementoIzquierdo))\n",
        "\n",
        "        else:\n",
        "          arbol = Node(elementoIzquierdo)\n",
        "\n",
        "\n",
        "       # actualizarHelper(arbol, elementoIzquierdo, elementoAManipular.coordenadas)\n",
        "\n",
        "      else:\n",
        "        print(\"!!!!!!!!!!!!!!\")\n",
        "    count = count+1\n",
        "\n",
        "\n",
        "  return diagonales\n"
      ]
    },
    {
      "cell_type": "code",
      "source": [
        "#listaSemiaristasPoligono = listaFinal.copy()\n",
        "#a=divisionesYMonotonas(listaSemiaristasPoligono, listaNodos)"
      ],
      "metadata": {
        "id": "WZBVb49rw74O"
      },
      "execution_count": 65,
      "outputs": []
    },
    {
      "cell_type": "code",
      "execution_count": 66,
      "metadata": {
        "id": "3woD6O1lcR4M"
      },
      "outputs": [],
      "source": [
        "def actualizarListaYMonotona(listaSemiaristas, listaCaras, listaDiagonales):\n",
        "  nuevaListaSemiaristas = [item for item in listaSemiaristas]\n",
        "  nuevaListaCaras = [item for item in listaCaras]\n",
        "\n",
        "  for i in range(0, len(listaDiagonales)):\n",
        "    nuevaListaSemiaristas, nuevaListaCaras = agregarDiagonal(nuevaListaSemiaristas, nuevaListaCaras, listaDiagonales[i])\n",
        "  return nuevaListaSemiaristas, nuevaListaCaras"
      ]
    },
    {
      "cell_type": "markdown",
      "source": [
        "Se hizo y monotonos a mano porque mi algoritmo no funcionaba"
      ],
      "metadata": {
        "id": "qd0Fuk1rh4_L"
      }
    },
    {
      "cell_type": "code",
      "execution_count": 67,
      "metadata": {
        "id": "_081WjgBTkuV"
      },
      "outputs": [],
      "source": [
        "#y monotonos a mano\n",
        "a = ((listaFinal[7], listaFinal[1]), (listaFinal[16], listaFinal[8]), (listaFinal[14], listaFinal[16]), (listaFinal[12], listaFinal[10]))\n",
        "#listaActualizadaYMonotona, listaCarasActualizadaYMonotona = actualizarListaYMonotona(listaFinal, listaCaras, a)"
      ]
    },
    {
      "cell_type": "code",
      "execution_count": 68,
      "metadata": {
        "id": "OBlsKSAIdshm"
      },
      "outputs": [],
      "source": [
        "listaActualizadaYMonotona, listaCarasActualizadaYMonotona = actualizarListaYMonotona(listaSemiaristas, listaCaras, a)"
      ]
    },
    {
      "cell_type": "code",
      "execution_count": 69,
      "metadata": {
        "id": "ehkTcaLQesgN",
        "colab": {
          "base_uri": "https://localhost:8080/"
        },
        "outputId": "21bd3962-9d3e-4200-ddbf-717658939e45"
      },
      "outputs": [
        {
          "output_type": "execute_result",
          "data": {
            "text/plain": [
              "[('e01', 'n0', (10.0,-1.0), 'e02', 'e181', 'e171', 'fExterior3', None, None, None, None),\n",
              " ('e11', 'n1', (11.0,4.0), 'e12', 'e21', 'e182', 'fExterior3', None, None, None, None),\n",
              " ('e21', 'n2', (13.0,3.0), 'e22', 'e31', 'e11', 'fExterior3', None, None, None, None),\n",
              " ('e31', 'n3', (12.0,10.0), 'e32', 'e41', 'e21', 'fExterior3', None, None, None, None),\n",
              " ('e41', 'n4', (13.0,15.0), 'e42', 'e51', 'e31', 'fExterior3', None, None, None, None),\n",
              " ('e51', 'n5', (11.0,15.0), 'e52', 'e61', 'e41', 'fExterior3', None, None, None, None),\n",
              " ('e61', 'n6', (9.5,11.0), 'e62', 'e182', 'e51', 'fExterior3', None, None, None, None),\n",
              " ('e71', 'n7', (10.0,6.0), 'e72', 'e191', 'e181', 'fExterior3', None, None, None, None),\n",
              " ('e81', 'n8', (7.0,12.0), 'e82', 'e91', 'e192', 'fExterior5', None, None, None, None),\n",
              " ('e91', 'n9', (5.0,12.0), 'e92', 'e211', 'e81', 'fExterior5', None, None, None, None),\n",
              " ('e101', 'n10', (4.0,2.5), 'e102', 'e111', 'e212', 'fExterior6', None, None, None, None),\n",
              " ('e111', 'n11', (3.0,4.0), 'e112', 'e212', 'e101', 'fExterior6', None, None, None, None),\n",
              " ('e121', 'n12', (2.0,-4.0), 'e122', 'e131', 'e211', 'fExterior5', None, None, None, None),\n",
              " ('e131', 'n13', (4.0,-4.0), 'e132', 'e202', 'e121', 'fExterior5', None, None, None, None),\n",
              " ('e141', 'n14', (6.0,3.0), 'e142', 'e151', 'e201', 'fExterior5', None, None, None, None),\n",
              " ('e151', 'n15', (7.0,-3.0), 'e152', 'e201', 'e141', 'fExterior5', None, None, None, None),\n",
              " ('e161', 'n16', (8.0,6.0), 'e162', 'e171', 'e191', 'fExterior3', None, None, None, None),\n",
              " ('e171', 'n17', (9.0,-1.0), 'e172', 'e01', 'e161', 'fExterior3', None, None, None, None),\n",
              " ('e02', 'n1', (11.0,4.0), 'e01', 'e172', 'e12', 'fInterior1', None, None, None, None),\n",
              " ('e172', 'n0', (10.0,-1.0), 'e171', 'e162', 'e02', 'fInterior1', None, None, None, None),\n",
              " ('e162', 'n17', (9.0,-1.0), 'e161', 'e152', 'e172', 'fInterior1', None, None, None, None),\n",
              " ('e152', 'n16', (8.0,6.0), 'e151', 'e142', 'e162', 'fInterior1', None, None, None, None),\n",
              " ('e142', 'n15', (7.0,-3.0), 'e141', 'e132', 'e152', 'fInterior1', None, None, None, None),\n",
              " ('e132', 'n14', (6.0,3.0), 'e131', 'e122', 'e142', 'fInterior1', None, None, None, None),\n",
              " ('e122', 'n13', (4.0,-4.0), 'e121', 'e112', 'e132', 'fInterior1', None, None, None, None),\n",
              " ('e112', 'n12', (2.0,-4.0), 'e111', 'e102', 'e122', 'fInterior1', None, None, None, None),\n",
              " ('e102', 'n11', (3.0,4.0), 'e101', 'e92', 'e112', 'fInterior1', None, None, None, None),\n",
              " ('e92', 'n10', (4.0,2.5), 'e91', 'e82', 'e102', 'fInterior1', None, None, None, None),\n",
              " ('e82', 'n9', (5.0,12.0), 'e81', 'e72', 'e92', 'fInterior1', None, None, None, None),\n",
              " ('e72', 'n8', (7.0,12.0), 'e71', 'e62', 'e82', 'fInterior1', None, None, None, None),\n",
              " ('e62', 'n7', (10.0,6.0), 'e61', 'e52', 'e72', 'fInterior1', None, None, None, None),\n",
              " ('e52', 'n6', (9.5,11.0), 'e51', 'e42', 'e62', 'fInterior1', None, None, None, None),\n",
              " ('e42', 'n5', (11.0,15.0), 'e41', 'e32', 'e52', 'fInterior1', None, None, None, None),\n",
              " ('e32', 'n4', (13.0,15.0), 'e31', 'e22', 'e42', 'fInterior1', None, None, None, None),\n",
              " ('e22', 'n3', (12.0,10.0), 'e21', 'e12', 'e32', 'fInterior1', None, None, None, None),\n",
              " ('e12', 'n2', (13.0,3.0), 'e11', 'e02', 'e22', 'fInterior1', None, None, None, None),\n",
              " ('e181', 'n1', (11.0,4.0), 'e182', 'e71', 'e01', 'fExterior3', None, None, None, None),\n",
              " ('e182', 'n7', (10.0,6.0), 'e181', 'e11', 'e61', 'fExterior3', None, None, None, None),\n",
              " ('e191', 'n8', (7.0,12.0), 'e192', 'e161', 'e71', 'fExterior3', None, None, None, None),\n",
              " ('e192', 'n16', (8.0,6.0), 'e191', 'e81', 'e202', 'fExterior5', None, None, None, None),\n",
              " ('e202', 'n14', (6.0,3.0), 'e201', 'e192', 'e131', 'fExterior5', None, None, None, None),\n",
              " ('e201', 'n16', (8.0,6.0), 'e202', 'e141', 'e151', 'fExterior5', None, None, None, None),\n",
              " ('e211', 'n10', (4.0,2.5), 'e212', 'e121', 'e91', 'fExterior5', None, None, None, None),\n",
              " ('e212', 'n12', (2.0,-4.0), 'e211', 'e101', 'e111', 'fExterior6', None, None, None, None)]"
            ]
          },
          "metadata": {},
          "execution_count": 69
        }
      ],
      "source": [
        "listaActualizadaYMonotona"
      ]
    },
    {
      "cell_type": "code",
      "execution_count": 70,
      "metadata": {
        "id": "1qqYgPqDhWD1"
      },
      "outputs": [],
      "source": [
        "def obtenerPoligonos(listaa):\n",
        "  listaFinal = []\n",
        "  listaListasFinal = []\n",
        "  while len(listaa) != 0:\n",
        "    tmp = recorrerPoligono(listaa)\n",
        "    listaa = tmp[0]\n",
        "    listaListasFinal.append(tmp[1])\n",
        "    listaFinal = listaFinal + tmp[1]\n",
        "  for i in range(0, len(listaListasFinal)):\n",
        "    if 'Interior' in listaListasFinal[i][0].caraIncidente:\n",
        "      listaListasFinal.pop(i)\n",
        "  return listaListasFinal"
      ]
    },
    {
      "cell_type": "code",
      "execution_count": 71,
      "metadata": {
        "id": "pd5tefA9isWk"
      },
      "outputs": [],
      "source": [
        "listaPoligonosYMonotonos = listaActualizadaYMonotona.copy()\n",
        "yMonotonosFinal = obtenerPoligonos(listaPoligonosYMonotonos)"
      ]
    },
    {
      "cell_type": "code",
      "execution_count": 72,
      "metadata": {
        "id": "wJYZoKq3kSYM"
      },
      "outputs": [],
      "source": [
        "\n",
        "def encontrarMasAlto(poligonoYMonotono):\n",
        "  masAlto = poligonoYMonotono[0]\n",
        "  for i in range(0, len(poligonoYMonotono)):\n",
        "    if masAlto.coordenadas.y<poligonoYMonotono[i].coordenadas.y or (masAlto.coordenadas.y==poligonoYMonotono[i].coordenadas.y and masAlto.coordenadas.x > poligonoYMonotono[i].coordenadas.x):\n",
        "      masAlto = poligonoYMonotono[i]\n",
        "  return masAlto\n",
        "\n",
        "def encontrarMasBajo(poligonoYMonotono):\n",
        "  masBajo = poligonoYMonotono[0]\n",
        "  for i in range(0, len(poligonoYMonotono)):\n",
        "    if not(masBajo.coordenadas.y<poligonoYMonotono[i].coordenadas.y or (masBajo.coordenadas.y==poligonoYMonotono[i].coordenadas.y and masBajo.coordenadas.x > poligonoYMonotono[i].coordenadas.x)):\n",
        "      masBajo = poligonoYMonotono[i]\n",
        "  return masBajo"
      ]
    },
    {
      "cell_type": "code",
      "execution_count": 73,
      "metadata": {
        "id": "I5DElO4nnwci"
      },
      "outputs": [],
      "source": [
        "def recorrerDerecha(listaSemiaristas):\n",
        "  actual = encontrarMasAlto(listaSemiaristas)\n",
        "  masBaja = encontrarMasBajo(listaSemiaristas)\n",
        "  while actual.nombre != masBaja.nombre:\n",
        "    actual = Prev(actual, listaSemiaristas)\n",
        "    if listaSemiaristas[actual].nombre != masBaja.nombre:\n",
        "      listaSemiaristas[actual].poligonoLado = \"d\"\n",
        "    actual =  listaSemiaristas[actual]\n",
        "  return listaSemiaristas\n",
        "def recorrerIzquierda(listaSemiaristas):\n",
        "  actual = encontrarMasAlto(listaSemiaristas)\n",
        "  masBaja = encontrarMasBajo(listaSemiaristas)\n",
        "  while actual.nombre != masBaja.nombre:\n",
        "    actual = Next(actual, listaSemiaristas)\n",
        "    if listaSemiaristas[actual].nombre != masBaja.nombre:\n",
        "      listaSemiaristas[actual].poligonoLado = \"i\"\n",
        "    actual =  listaSemiaristas[actual]\n",
        "  return listaSemiaristas\n"
      ]
    },
    {
      "cell_type": "markdown",
      "source": [
        "##Punto 4"
      ],
      "metadata": {
        "id": "N9zXGPQjwkPb"
      }
    },
    {
      "cell_type": "code",
      "execution_count": 74,
      "metadata": {
        "id": "2O0bwVKJEuqX"
      },
      "outputs": [],
      "source": [
        "def triangularYMonotonos(poligonoYMonotono):\n",
        "  recorrerDerecha(poligonoYMonotono)\n",
        "  recorrerIzquierda(poligonoYMonotono)\n",
        "  masAlto = encontrarMasAlto(poligonoYMonotono)\n",
        "  xc = poligonoYMonotono.copy()\n",
        "  root = Node(xc[0])\n",
        "  xc.pop(0)\n",
        "  while len(xc):\n",
        "    insertBST2Dim(root, Node(xc[0]))\n",
        "    xc.pop(0)\n",
        "  colaOrdenada = inOrder(root)\n",
        "  stack = [colaOrdenada[0], colaOrdenada[1]]\n",
        "  diagonales = []\n",
        "  for j in range(2, len(colaOrdenada)-1):\n",
        "    #do if uj and the vertex on top of S are on different chains\n",
        "    print(diagonales)\n",
        "    if colaOrdenada[j].poligonoLado != stack[-1].poligonoLado:\n",
        "      while stack:\n",
        "\n",
        "        if len(stack)!=1:\n",
        "          print(\"diagonal anadida\")\n",
        "          diagonales.append((colaOrdenada[j], stack[-1]))\n",
        "          print((colaOrdenada[j], stack[-1]))\n",
        "          stack.pop()\n",
        "          print(len(stack))\n",
        "\n",
        "\n",
        "        else:\n",
        "          stack.pop()\n",
        "\n",
        "\n",
        "      stack.append(colaOrdenada[j-1])\n",
        "      stack.append(colaOrdenada[j])\n",
        "    else:\n",
        "      previo = stack[-1]\n",
        "      stack.pop()\n",
        "      giroBool = True\n",
        "      while stack and giroBool:\n",
        "\n",
        "        tipoGiro = productoCruz2D(stack[-1].coordenadas, previo.coordenadas, colaOrdenada[j].coordenadas)\n",
        "        giroBool = False\n",
        "        if colaOrdenada[j].poligonoLado == \"i\":\n",
        "          if tipoGiro == \"ah\":\n",
        "            giroBool = True\n",
        "        if colaOrdenada[j].poligonoLado == \"d\":\n",
        "          if tipoGiro == \"h\":\n",
        "            giroBool = True\n",
        "        diagonales.append((stack[-1], colaOrdenada[j]))\n",
        "        previo = stack[-1]\n",
        "        stack.pop()\n",
        "      stack.append(previo)\n",
        "      stack.append(colaOrdenada[j])\n",
        "\n",
        "  stack.pop()\n",
        "  stack.pop(0)\n",
        "  for i in range(0, len(stack)):\n",
        "    diagonales.append((colaOrdenada[-1], stack[i]))\n",
        "\n",
        "  return diagonales"
      ]
    },
    {
      "cell_type": "code",
      "source": [
        "listaListasDiagonales = []\n",
        "for i in yMonotonosFinal:\n",
        "  listaListasDiagonales.append(triangularYMonotonos(i))"
      ],
      "metadata": {
        "colab": {
          "base_uri": "https://localhost:8080/"
        },
        "id": "cjf8K9PimoM9",
        "outputId": "01d6ac76-8447-427e-88cc-c325485325df"
      },
      "execution_count": 75,
      "outputs": [
        {
          "output_type": "stream",
          "name": "stdout",
          "text": [
            "[]\n",
            "diagonal anadida\n",
            "(('e71', 'n7', (10.0,6.0), 'e72', 'e191', 'e181', 'fExterior3', None, None, 'd', None), ('e161', 'n16', (8.0,6.0), 'e162', 'e171', 'e191', 'fExterior3', None, None, 'i', None))\n",
            "1\n",
            "[(('e71', 'n7', (10.0,6.0), 'e72', 'e191', 'e181', 'fExterior3', None, None, 'd', None), ('e161', 'n16', (8.0,6.0), 'e162', 'e171', 'e191', 'fExterior3', None, None, 'i', None))]\n",
            "[(('e71', 'n7', (10.0,6.0), 'e72', 'e191', 'e181', 'fExterior3', None, None, 'd', None), ('e161', 'n16', (8.0,6.0), 'e162', 'e171', 'e191', 'fExterior3', None, None, 'i', None)), (('e161', 'n16', (8.0,6.0), 'e162', 'e171', 'e191', 'fExterior3', None, None, 'i', None), ('e181', 'n1', (11.0,4.0), 'e182', 'e71', 'e01', 'fExterior3', None, None, 'd', None))]\n",
            "diagonal anadida\n",
            "(('e171', 'n17', (9.0,-1.0), 'e172', 'e01', 'e161', 'fExterior3', None, None, 'i', None), ('e181', 'n1', (11.0,4.0), 'e182', 'e71', 'e01', 'fExterior3', None, None, 'd', None))\n",
            "1\n",
            "[]\n",
            "diagonal anadida\n",
            "(('e61', 'n6', (9.5,11.0), 'e62', 'e182', 'e51', 'fExterior3', None, None, 'i', None), ('e41', 'n4', (13.0,15.0), 'e42', 'e51', 'e31', 'fExterior3', None, None, 'd', None))\n",
            "1\n",
            "[(('e61', 'n6', (9.5,11.0), 'e62', 'e182', 'e51', 'fExterior3', None, None, 'i', None), ('e41', 'n4', (13.0,15.0), 'e42', 'e51', 'e31', 'fExterior3', None, None, 'd', None))]\n",
            "diagonal anadida\n",
            "(('e31', 'n3', (12.0,10.0), 'e32', 'e41', 'e21', 'fExterior3', None, None, 'd', None), ('e61', 'n6', (9.5,11.0), 'e62', 'e182', 'e51', 'fExterior3', None, None, 'i', None))\n",
            "1\n",
            "[(('e61', 'n6', (9.5,11.0), 'e62', 'e182', 'e51', 'fExterior3', None, None, 'i', None), ('e41', 'n4', (13.0,15.0), 'e42', 'e51', 'e31', 'fExterior3', None, None, 'd', None)), (('e31', 'n3', (12.0,10.0), 'e32', 'e41', 'e21', 'fExterior3', None, None, 'd', None), ('e61', 'n6', (9.5,11.0), 'e62', 'e182', 'e51', 'fExterior3', None, None, 'i', None))]\n",
            "diagonal anadida\n",
            "(('e182', 'n7', (10.0,6.0), 'e181', 'e11', 'e61', 'fExterior3', None, None, 'i', None), ('e31', 'n3', (12.0,10.0), 'e32', 'e41', 'e21', 'fExterior3', None, None, 'd', None))\n",
            "1\n",
            "[(('e61', 'n6', (9.5,11.0), 'e62', 'e182', 'e51', 'fExterior3', None, None, 'i', None), ('e41', 'n4', (13.0,15.0), 'e42', 'e51', 'e31', 'fExterior3', None, None, 'd', None)), (('e31', 'n3', (12.0,10.0), 'e32', 'e41', 'e21', 'fExterior3', None, None, 'd', None), ('e61', 'n6', (9.5,11.0), 'e62', 'e182', 'e51', 'fExterior3', None, None, 'i', None)), (('e182', 'n7', (10.0,6.0), 'e181', 'e11', 'e61', 'fExterior3', None, None, 'i', None), ('e31', 'n3', (12.0,10.0), 'e32', 'e41', 'e21', 'fExterior3', None, None, 'd', None))]\n",
            "[]\n",
            "[(('e91', 'n9', (5.0,12.0), 'e92', 'e211', 'e81', 'fExterior5', None, None, None, None), ('e192', 'n16', (8.0,6.0), 'e191', 'e81', 'e202', 'fExterior5', None, None, 'd', None))]\n",
            "[(('e91', 'n9', (5.0,12.0), 'e92', 'e211', 'e81', 'fExterior5', None, None, None, None), ('e192', 'n16', (8.0,6.0), 'e191', 'e81', 'e202', 'fExterior5', None, None, 'd', None)), (('e91', 'n9', (5.0,12.0), 'e92', 'e211', 'e81', 'fExterior5', None, None, None, None), ('e202', 'n14', (6.0,3.0), 'e201', 'e192', 'e131', 'fExterior5', None, None, 'd', None))]\n",
            "diagonal anadida\n",
            "(('e211', 'n10', (4.0,2.5), 'e212', 'e121', 'e91', 'fExterior5', None, None, 'i', None), ('e202', 'n14', (6.0,3.0), 'e201', 'e192', 'e131', 'fExterior5', None, None, 'd', None))\n",
            "1\n",
            "[(('e91', 'n9', (5.0,12.0), 'e92', 'e211', 'e81', 'fExterior5', None, None, None, None), ('e192', 'n16', (8.0,6.0), 'e191', 'e81', 'e202', 'fExterior5', None, None, 'd', None)), (('e91', 'n9', (5.0,12.0), 'e92', 'e211', 'e81', 'fExterior5', None, None, None, None), ('e202', 'n14', (6.0,3.0), 'e201', 'e192', 'e131', 'fExterior5', None, None, 'd', None)), (('e211', 'n10', (4.0,2.5), 'e212', 'e121', 'e91', 'fExterior5', None, None, 'i', None), ('e202', 'n14', (6.0,3.0), 'e201', 'e192', 'e131', 'fExterior5', None, None, 'd', None))]\n"
          ]
        }
      ]
    },
    {
      "cell_type": "markdown",
      "source": [
        "Se ponen todos los triangulos en una lista"
      ],
      "metadata": {
        "id": "Mb7OWMHByHig"
      }
    },
    {
      "cell_type": "code",
      "execution_count": 76,
      "metadata": {
        "id": "yzISWwSSdLke",
        "colab": {
          "base_uri": "https://localhost:8080/"
        },
        "outputId": "76b09f92-c123-403b-833b-c1949d2cc6ea"
      },
      "outputs": [
        {
          "output_type": "execute_result",
          "data": {
            "text/plain": [
              "[(('e71', 'n7', (10.0,6.0), 'e72', 'e191', 'e181', 'fExterior3', None, None, 'd', None),\n",
              "  ('e161', 'n16', (8.0,6.0), 'e162', 'e171', 'e191', 'fExterior3', None, None, 'i', None)),\n",
              " (('e161', 'n16', (8.0,6.0), 'e162', 'e171', 'e191', 'fExterior3', None, None, 'i', None),\n",
              "  ('e181', 'n1', (11.0,4.0), 'e182', 'e71', 'e01', 'fExterior3', None, None, 'd', None)),\n",
              " (('e171', 'n17', (9.0,-1.0), 'e172', 'e01', 'e161', 'fExterior3', None, None, 'i', None),\n",
              "  ('e181', 'n1', (11.0,4.0), 'e182', 'e71', 'e01', 'fExterior3', None, None, 'd', None)),\n",
              " (('e61', 'n6', (9.5,11.0), 'e62', 'e182', 'e51', 'fExterior3', None, None, 'i', None),\n",
              "  ('e41', 'n4', (13.0,15.0), 'e42', 'e51', 'e31', 'fExterior3', None, None, 'd', None)),\n",
              " (('e31', 'n3', (12.0,10.0), 'e32', 'e41', 'e21', 'fExterior3', None, None, 'd', None),\n",
              "  ('e61', 'n6', (9.5,11.0), 'e62', 'e182', 'e51', 'fExterior3', None, None, 'i', None)),\n",
              " (('e182', 'n7', (10.0,6.0), 'e181', 'e11', 'e61', 'fExterior3', None, None, 'i', None),\n",
              "  ('e31', 'n3', (12.0,10.0), 'e32', 'e41', 'e21', 'fExterior3', None, None, 'd', None)),\n",
              " (('e31', 'n3', (12.0,10.0), 'e32', 'e41', 'e21', 'fExterior3', None, None, 'd', None),\n",
              "  ('e11', 'n1', (11.0,4.0), 'e12', 'e21', 'e182', 'fExterior3', None, None, 'i', None)),\n",
              " (('e91', 'n9', (5.0,12.0), 'e92', 'e211', 'e81', 'fExterior5', None, None, None, None),\n",
              "  ('e192', 'n16', (8.0,6.0), 'e191', 'e81', 'e202', 'fExterior5', None, None, 'd', None)),\n",
              " (('e91', 'n9', (5.0,12.0), 'e92', 'e211', 'e81', 'fExterior5', None, None, None, None),\n",
              "  ('e202', 'n14', (6.0,3.0), 'e201', 'e192', 'e131', 'fExterior5', None, None, 'd', None)),\n",
              " (('e211', 'n10', (4.0,2.5), 'e212', 'e121', 'e91', 'fExterior5', None, None, 'i', None),\n",
              "  ('e202', 'n14', (6.0,3.0), 'e201', 'e192', 'e131', 'fExterior5', None, None, 'd', None)),\n",
              " (('e202', 'n14', (6.0,3.0), 'e201', 'e192', 'e131', 'fExterior5', None, None, 'd', None),\n",
              "  ('e121', 'n12', (2.0,-4.0), 'e122', 'e131', 'e211', 'fExterior5', None, None, 'i', None))]"
            ]
          },
          "metadata": {},
          "execution_count": 76
        }
      ],
      "source": [
        "diagonalesTriangulos = []\n",
        "for i in range(0, len(listaListasDiagonales)):\n",
        "  if len(listaListasDiagonales[i])!=0:\n",
        "      for j in range(0, len(listaListasDiagonales[i])):\n",
        "        diagonalesTriangulos.append(listaListasDiagonales[i][j])\n",
        "diagonalesTriangulos"
      ]
    },
    {
      "cell_type": "markdown",
      "source": [
        "Por alguna razon que no entiendo, hay una de las diagonales de la triagunlacion que , cuando trato de agregar dos  listas que tienen elementos, la nueva lista es vacia, ademas en algunos casos debo cambiar el orden de las diagonales, asi que anadire las diagonales a mano, para actualizar la lista de semiaristas doblemente conectadas"
      ],
      "metadata": {
        "id": "Zn6_NpVP3iD-"
      }
    },
    {
      "cell_type": "code",
      "source": [
        "diagonalesTriangulos[9]= (diagonalesTriangulos[9][1], diagonalesTriangulos[9][0])\n",
        "diagonalesTriangulos[7]= (diagonalesTriangulos[7][1], diagonalesTriangulos[7][0])\n",
        "test0, test1 = agregarDiagonal(listaActualizadaYMonotona, listaCaras, diagonalesTriangulos[9])\n",
        "test2, test3 = agregarDiagonal(test0, test1, diagonalesTriangulos[7])\n",
        "test4, test5 = agregarDiagonal(test2, test3, diagonalesTriangulos[8])\n",
        "test6, test7 = agregarDiagonal(test4, test5, diagonalesTriangulos[2])\n",
        "test8, test9 = agregarDiagonal(test6, test7, diagonalesTriangulos[3])\n",
        "test10, test11 = agregarDiagonal(test8, test9, diagonalesTriangulos[5])\n",
        "test12, test13 = agregarDiagonal(test10, test11, diagonalesTriangulos[1])\n",
        "test14, test15 = agregarDiagonal(test12, test13, diagonalesTriangulos[6])\n",
        "test16, test17 = agregarDiagonal(test14, test15, diagonalesTriangulos[4])\n",
        "test18, test19 = agregarDiagonal(test16, test17, diagonalesTriangulos[0])\n",
        "test20, test21 = agregarDiagonal(test18, test19, diagonalesTriangulos[10])\n"
      ],
      "metadata": {
        "id": "g0Vnvlja11lk"
      },
      "execution_count": 77,
      "outputs": []
    },
    {
      "cell_type": "code",
      "source": [
        "def getVecinos(listaSemiaristas, semiarista):\n",
        "  siguientes = []\n",
        "  for i in listaSemiaristas:\n",
        "    if i.coordenadas.x == semiarista.coordenadas.x and i.coordenadas.y == semiarista.coordenadas.y:\n",
        "      siguientes.append(i.siguiente)\n",
        "      siguientes.append(i.previo)\n",
        "  return siguientes\n"
      ],
      "metadata": {
        "id": "6mVyH6ar_3OC"
      },
      "execution_count": 78,
      "outputs": []
    },
    {
      "cell_type": "code",
      "source": [
        "def encontrarSemiaristaa(listaSemiaristass, semiarista):\n",
        "  #semiarista string\n",
        "  for i in range(0,len(listaSemiaristass)):\n",
        "    if listaSemiaristass[i].nombre == semiarista:\n",
        "      return i\n"
      ],
      "metadata": {
        "id": "FR9vKspAF4Ka"
      },
      "execution_count": 79,
      "outputs": []
    },
    {
      "cell_type": "code",
      "source": [
        "test20"
      ],
      "metadata": {
        "colab": {
          "base_uri": "https://localhost:8080/"
        },
        "id": "KxyBlDFLnaXr",
        "outputId": "e032ba57-5e25-4c79-f08e-506be987ebdc"
      },
      "execution_count": 80,
      "outputs": [
        {
          "output_type": "execute_result",
          "data": {
            "text/plain": [
              "[('e01', 'n0', (10.0,-1.0), 'e02', 'e291', 'e171', 'fExterior11', None, None, None, None),\n",
              " ('e11', 'n1', (11.0,4.0), 'e12', 'e21', 'e282', 'fExterior13', None, None, 'i', None),\n",
              " ('e21', 'n2', (13.0,3.0), 'e22', 'e271', 'e11', 'fExterior13', None, None, None, None),\n",
              " ('e31', 'n3', (12.0,10.0), 'e32', 'e261', 'e301', 'fExterior12', None, None, 'd', None),\n",
              " ('e41', 'n4', (13.0,15.0), 'e42', 'e51', 'e262', 'fExterior6', None, None, 'd', None),\n",
              " ('e51', 'n5', (11.0,15.0), 'e52', 'e262', 'e41', 'fExterior6', None, None, None, None),\n",
              " ('e61', 'n6', (9.5,11.0), 'e62', 'e182', 'e302', 'fExterior11', None, None, 'i', None),\n",
              " ('e71', 'n7', (10.0,6.0), 'e72', 'e191', 'e311', 'fExterior14', None, None, 'd', None),\n",
              " ('e81', 'n8', (7.0,12.0), 'e82', 'e231', 'e192', 'fExterior13', None, None, 'd', None),\n",
              " ('e91', 'n9', (5.0,12.0), 'e92', 'e221', 'e241', 'fExterior10', None, None, None, None),\n",
              " ('e101', 'n10', (4.0,2.5), 'e102', 'e111', 'e212', 'fExterior6', None, None, 'd', None),\n",
              " ('e111', 'n11', (3.0,4.0), 'e112', 'e212', 'e101', 'fExterior6', None, None, None, None),\n",
              " ('e121', 'n12', (2.0,-4.0), 'e122', 'e131', 'e322', 'fExterior14', None, None, 'i', None),\n",
              " ('e131', 'n13', (4.0,-4.0), 'e132', 'e202', 'e121', 'fExterior14', None, None, None, None),\n",
              " ('e141', 'n14', (6.0,3.0), 'e142', 'e151', 'e321', 'fExterior15', None, None, 'i', None),\n",
              " ('e151', 'n15', (7.0,-3.0), 'e152', 'e201', 'e141', 'fExterior15', None, None, None, None),\n",
              " ('e161', 'n16', (8.0,6.0), 'e162', 'e252', 'e281', 'fExterior13', None, None, 'i', None),\n",
              " ('e171', 'n17', (9.0,-1.0), 'e172', 'e01', 'e251', 'fExterior11', None, None, 'i', None),\n",
              " ('e02', 'n1', (11.0,4.0), 'e01', 'e172', 'e12', 'fInterior1', None, None, None, None),\n",
              " ('e172', 'n0', (10.0,-1.0), 'e171', 'e162', 'e02', 'fInterior1', None, None, None, None),\n",
              " ('e162', 'n17', (9.0,-1.0), 'e161', 'e152', 'e172', 'fInterior1', None, None, None, None),\n",
              " ('e152', 'n16', (8.0,6.0), 'e151', 'e142', 'e162', 'fInterior1', None, None, None, None),\n",
              " ('e142', 'n15', (7.0,-3.0), 'e141', 'e132', 'e152', 'fInterior1', None, None, None, None),\n",
              " ('e132', 'n14', (6.0,3.0), 'e131', 'e122', 'e142', 'fInterior1', None, None, None, None),\n",
              " ('e122', 'n13', (4.0,-4.0), 'e121', 'e112', 'e132', 'fInterior1', None, None, None, None),\n",
              " ('e112', 'n12', (2.0,-4.0), 'e111', 'e102', 'e122', 'fInterior1', None, None, None, None),\n",
              " ('e102', 'n11', (3.0,4.0), 'e101', 'e92', 'e112', 'fInterior1', None, None, None, None),\n",
              " ('e92', 'n10', (4.0,2.5), 'e91', 'e82', 'e102', 'fInterior1', None, None, None, None),\n",
              " ('e82', 'n9', (5.0,12.0), 'e81', 'e72', 'e92', 'fInterior1', None, None, None, None),\n",
              " ('e72', 'n8', (7.0,12.0), 'e71', 'e62', 'e82', 'fInterior1', None, None, None, None),\n",
              " ('e62', 'n7', (10.0,6.0), 'e61', 'e52', 'e72', 'fInterior1', None, None, None, None),\n",
              " ('e52', 'n6', (9.5,11.0), 'e51', 'e42', 'e62', 'fInterior1', None, None, None, None),\n",
              " ('e42', 'n5', (11.0,15.0), 'e41', 'e32', 'e52', 'fInterior1', None, None, None, None),\n",
              " ('e32', 'n4', (13.0,15.0), 'e31', 'e22', 'e42', 'fInterior1', None, None, None, None),\n",
              " ('e22', 'n3', (12.0,10.0), 'e21', 'e12', 'e32', 'fInterior1', None, None, None, None),\n",
              " ('e12', 'n2', (13.0,3.0), 'e11', 'e02', 'e22', 'fInterior1', None, None, None, None),\n",
              " ('e181', 'n1', (11.0,4.0), 'e182', 'e272', 'e292', 'fExterior11', None, None, 'd', None),\n",
              " ('e182', 'n7', (10.0,6.0), 'e181', 'e251', 'e61', 'fExterior11', None, None, 'i', None),\n",
              " ('e191', 'n8', (7.0,12.0), 'e192', 'e232', 'e71', 'fExterior14', None, None, None, None),\n",
              " ('e192', 'n16', (8.0,6.0), 'e191', 'e81', 'e312', 'fExterior13', None, None, 'd', None),\n",
              " ('e202', 'n14', (6.0,3.0), 'e201', 'e311', 'e131', 'fExterior14', None, None, 'd', None),\n",
              " ('e201', 'n16', (8.0,6.0), 'e202', 'e222', 'e151', 'fExterior15', None, None, None, None),\n",
              " ('e211', 'n10', (4.0,2.5), 'e212', 'e321', 'e222', 'fExterior15', None, None, 'i', None),\n",
              " ('e212', 'n12', (2.0,-4.0), 'e211', 'e101', 'e111', 'fExterior6', None, None, None, None),\n",
              " ('e221', 'n10', (4.0,2.5), 'e222', 'e241', 'e91', 'fExterior10', None, None, None, None),\n",
              " ('e222', 'n14', (6.0,3.0), 'e221', 'e211', 'e201', 'fExterior15', None, None, None, None),\n",
              " ('e232', 'n16', (8.0,6.0), 'e231', 'e242', 'e191', 'fExterior14', None, None, None, None),\n",
              " ('e231', 'n9', (5.0,12.0), 'e232', 'e282', 'e81', 'fExterior13', None, None, None, None),\n",
              " ('e242', 'n9', (5.0,12.0), 'e241', 'e322', 'e232', 'fExterior14', None, None, None, None),\n",
              " ('e241', 'n14', (6.0,3.0), 'e242', 'e91', 'e221', 'fExterior10', None, None, None, None),\n",
              " ('e252', 'n17', (9.0,-1.0), 'e251', 'e281', 'e161', 'fExterior13', None, None, None, None),\n",
              " ('e251', 'n1', (11.0,4.0), 'e252', 'e171', 'e182', 'fExterior11', None, None, None, None),\n",
              " ('e261', 'n4', (13.0,15.0), 'e262', 'e301', 'e31', 'fExterior12', None, None, None, None),\n",
              " ('e262', 'n6', (9.5,11.0), 'e261', 'e41', 'e51', 'fExterior6', None, None, None, None),\n",
              " ('e272', 'n7', (10.0,6.0), 'e271', 'e292', 'e181', 'fExterior11', None, None, None, None),\n",
              " ('e271', 'n3', (12.0,10.0), 'e272', 'e312', 'e21', 'fExterior13', None, None, None, None),\n",
              " ('e282', 'n16', (8.0,6.0), 'e281', 'e11', 'e231', 'fExterior13', None, None, None, None),\n",
              " ('e281', 'n1', (11.0,4.0), 'e282', 'e161', 'e252', 'fExterior13', None, None, None, None),\n",
              " ('e291', 'n1', (11.0,4.0), 'e292', 'e302', 'e01', 'fExterior11', None, None, None, None),\n",
              " ('e292', 'n3', (12.0,10.0), 'e291', 'e181', 'e272', 'fExterior11', None, None, None, None),\n",
              " ('e302', 'n3', (12.0,10.0), 'e301', 'e61', 'e291', 'fExterior11', None, None, None, None),\n",
              " ('e301', 'n6', (9.5,11.0), 'e302', 'e31', 'e261', 'fExterior12', None, None, None, None),\n",
              " ('e312', 'n7', (10.0,6.0), 'e311', 'e192', 'e271', 'fExterior13', None, None, None, None),\n",
              " ('e311', 'n16', (8.0,6.0), 'e312', 'e71', 'e202', 'fExterior14', None, None, None, None),\n",
              " ('e322', 'n14', (6.0,3.0), 'e321', 'e121', 'e242', 'fExterior14', None, None, None, None),\n",
              " ('e321', 'n12', (2.0,-4.0), 'e322', 'e141', 'e211', 'fExterior15', None, None, None, None)]"
            ]
          },
          "metadata": {},
          "execution_count": 80
        }
      ]
    },
    {
      "cell_type": "code",
      "source": [
        "lineas = []\n",
        "for i in test20:\n",
        "  siguiente = i.siguiente\n",
        "  lineas.append((test20[encontrarSemiaristaa(test20, siguiente)].coordenadas, i.coordenadas))"
      ],
      "metadata": {
        "id": "cY0wfVdkpTfG"
      },
      "execution_count": 81,
      "outputs": []
    },
    {
      "cell_type": "code",
      "source": [
        "plt.figure()\n",
        "for segment in lineas:\n",
        "    x_values = [punto.x for punto in segment]\n",
        "    y_values = [punto.y for punto in segment]\n",
        "    plt.plot(x_values, y_values, marker='o', linestyle='-', linewidth=1, zorder=1)\n",
        "plt.xlabel('X-axis')\n",
        "plt.ylabel('Y-axis')\n",
        "plt.title('Segments of the Polygon')\n",
        "plt.grid(True)"
      ],
      "metadata": {
        "colab": {
          "base_uri": "https://localhost:8080/",
          "height": 0
        },
        "id": "doCqccPcpQQ6",
        "outputId": "8e87782c-6586-4d31-8a35-1fcc5e64b5a2"
      },
      "execution_count": 82,
      "outputs": [
        {
          "output_type": "display_data",
          "data": {
            "text/plain": [
              "<Figure size 640x480 with 1 Axes>"
            ],
            "image/png": "[encoded data removed]"
          },
          "metadata": {}
        }
      ]
    },
    {
      "cell_type": "markdown",
      "source": [
        "##Punto5"
      ],
      "metadata": {
        "id": "-Mr1uXDYvxsV"
      }
    },
    {
      "cell_type": "code",
      "source": [
        "def tresColoracion(listaTresColorada):\n",
        "\n",
        "  for i in listaTresColorada:\n",
        "    print(i)\n",
        "    if i.color == None:\n",
        "      vecinosI = getVecinos(listaTresColorada, i)\n",
        "      green = True\n",
        "      red = True\n",
        "      blue = True\n",
        "      for j in vecinosI:\n",
        "\n",
        "        vecino = listaTresColorada[encontrarSemiaristaa(listaTresColorada, j)]\n",
        "\n",
        "        for k in listaTresColorada:\n",
        "          if k.coordenadas.x == vecino.coordenadas.x and k.coordenadas.y == vecino.coordenadas.y:\n",
        "            if vecino.color == \"red\":\n",
        "              red = False\n",
        "            if vecino.color == \"blue\":\n",
        "              blue = False\n",
        "            if vecino.color == \"green\":\n",
        "              green = False\n",
        "    else:\n",
        "      continue\n",
        "\n",
        "    if red:\n",
        "      i.color = \"red\"\n",
        "      for j in listaTresColorada:\n",
        "        if j.coordenadas.x == i.coordenadas.x and j.coordenadas.y == i.coordenadas.y:\n",
        "          j.color = \"red\"\n",
        "      continue\n",
        "    if blue:\n",
        "      i.color = \"blue\"\n",
        "      for j in listaTresColorada:\n",
        "        if j.coordenadas.x == i.coordenadas.x and j.coordenadas.y == i.coordenadas.y:\n",
        "          j.color = \"blue\"\n",
        "      continue\n",
        "    if green:\n",
        "      i.color = \"green\"\n",
        "      for j in listaTresColorada:\n",
        "        if j.coordenadas.x == i.coordenadas.x and j.coordenadas.y == i.coordenadas.y:\n",
        "          j.color = \"green\"\n",
        "      continue\n",
        "\n",
        "\n",
        "  return listaTresColorada\n",
        "\n",
        "\n",
        "\n"
      ],
      "metadata": {
        "id": "hQpdcAChBxrj"
      },
      "execution_count": 83,
      "outputs": []
    },
    {
      "cell_type": "code",
      "source": [
        "\n",
        "tmp = test20[0]\n",
        "test20[0]=test20[16]\n",
        "test20[16] = tmp\n",
        "\n",
        "tmp3 =test20[1]\n",
        "test20[1]=test20[14]\n",
        "test20[14]=tmp3\n",
        "\n",
        "tmp2 = test20[2]\n",
        "test20[2]=test20[14]\n",
        "test20[14]=tmp2\n",
        "adda = tresColoracion(test20)\n",
        "\n",
        "\n",
        "tmp3=test20[3]\n",
        "test20[3]=test20[7]\n",
        "test20[7]=tmp3"
      ],
      "metadata": {
        "colab": {
          "base_uri": "https://localhost:8080/"
        },
        "id": "OvzE4CNknt64",
        "outputId": "4d482cb8-f215-4da9-8417-a83c69d9378f"
      },
      "execution_count": 84,
      "outputs": [
        {
          "output_type": "stream",
          "name": "stdout",
          "text": [
            "('e161', 'n16', (8.0,6.0), 'e162', 'e252', 'e281', 'fExterior13', None, None, 'i', None)\n",
            "('e141', 'n14', (6.0,3.0), 'e142', 'e151', 'e321', 'fExterior15', None, None, 'i', None)\n",
            "('e11', 'n1', (11.0,4.0), 'e12', 'e21', 'e282', 'fExterior13', None, None, 'i', None)\n",
            "('e31', 'n3', (12.0,10.0), 'e32', 'e261', 'e301', 'fExterior12', None, None, 'd', None)\n",
            "('e41', 'n4', (13.0,15.0), 'e42', 'e51', 'e262', 'fExterior6', None, None, 'd', None)\n",
            "('e51', 'n5', (11.0,15.0), 'e52', 'e262', 'e41', 'fExterior6', None, None, None, None)\n",
            "('e61', 'n6', (9.5,11.0), 'e62', 'e182', 'e302', 'fExterior11', None, None, 'i', None)\n",
            "('e71', 'n7', (10.0,6.0), 'e72', 'e191', 'e311', 'fExterior14', None, None, 'd', None)\n",
            "('e81', 'n8', (7.0,12.0), 'e82', 'e231', 'e192', 'fExterior13', None, None, 'd', None)\n",
            "('e91', 'n9', (5.0,12.0), 'e92', 'e221', 'e241', 'fExterior10', None, None, None, None)\n",
            "('e101', 'n10', (4.0,2.5), 'e102', 'e111', 'e212', 'fExterior6', None, None, 'd', None)\n",
            "('e111', 'n11', (3.0,4.0), 'e112', 'e212', 'e101', 'fExterior6', None, None, None, None)\n",
            "('e121', 'n12', (2.0,-4.0), 'e122', 'e131', 'e322', 'fExterior14', None, None, 'i', None)\n",
            "('e131', 'n13', (4.0,-4.0), 'e132', 'e202', 'e121', 'fExterior14', None, None, None, None)\n",
            "('e21', 'n2', (13.0,3.0), 'e22', 'e271', 'e11', 'fExterior13', None, None, None, None)\n",
            "('e151', 'n15', (7.0,-3.0), 'e152', 'e201', 'e141', 'fExterior15', None, None, None, None)\n",
            "('e01', 'n0', (10.0,-1.0), 'e02', 'e291', 'e171', 'fExterior11', None, None, None, None)\n",
            "('e171', 'n17', (9.0,-1.0), 'e172', 'e01', 'e251', 'fExterior11', None, None, 'i', None)\n",
            "('e02', 'n1', (11.0,4.0), 'e01', 'e172', 'e12', 'fInterior1', None, None, None, 'blue')\n",
            "('e172', 'n0', (10.0,-1.0), 'e171', 'e162', 'e02', 'fInterior1', None, None, None, 'red')\n",
            "('e162', 'n17', (9.0,-1.0), 'e161', 'e152', 'e172', 'fInterior1', None, None, None, 'green')\n",
            "('e152', 'n16', (8.0,6.0), 'e151', 'e142', 'e162', 'fInterior1', None, None, None, 'red')\n",
            "('e142', 'n15', (7.0,-3.0), 'e141', 'e132', 'e152', 'fInterior1', None, None, None, 'green')\n",
            "('e132', 'n14', (6.0,3.0), 'e131', 'e122', 'e142', 'fInterior1', None, None, None, 'blue')\n",
            "('e122', 'n13', (4.0,-4.0), 'e121', 'e112', 'e132', 'fInterior1', None, None, None, 'red')\n",
            "('e112', 'n12', (2.0,-4.0), 'e111', 'e102', 'e122', 'fInterior1', None, None, None, 'green')\n",
            "('e102', 'n11', (3.0,4.0), 'e101', 'e92', 'e112', 'fInterior1', None, None, None, 'blue')\n",
            "('e92', 'n10', (4.0,2.5), 'e91', 'e82', 'e102', 'fInterior1', None, None, None, 'red')\n",
            "('e82', 'n9', (5.0,12.0), 'e81', 'e72', 'e92', 'fInterior1', None, None, None, 'green')\n",
            "('e72', 'n8', (7.0,12.0), 'e71', 'e62', 'e82', 'fInterior1', None, None, None, 'blue')\n",
            "('e62', 'n7', (10.0,6.0), 'e61', 'e52', 'e72', 'fInterior1', None, None, None, None)\n",
            "('e52', 'n6', (9.5,11.0), 'e51', 'e42', 'e62', 'fInterior1', None, None, None, 'green')\n",
            "('e42', 'n5', (11.0,15.0), 'e41', 'e32', 'e52', 'fInterior1', None, None, None, 'red')\n",
            "('e32', 'n4', (13.0,15.0), 'e31', 'e22', 'e42', 'fInterior1', None, None, None, 'blue')\n",
            "('e22', 'n3', (12.0,10.0), 'e21', 'e12', 'e32', 'fInterior1', None, None, None, 'red')\n",
            "('e12', 'n2', (13.0,3.0), 'e11', 'e02', 'e22', 'fInterior1', None, None, None, 'green')\n",
            "('e181', 'n1', (11.0,4.0), 'e182', 'e272', 'e292', 'fExterior11', None, None, 'd', 'blue')\n",
            "('e182', 'n7', (10.0,6.0), 'e181', 'e251', 'e61', 'fExterior11', None, None, 'i', None)\n",
            "('e191', 'n8', (7.0,12.0), 'e192', 'e232', 'e71', 'fExterior14', None, None, None, 'blue')\n",
            "('e192', 'n16', (8.0,6.0), 'e191', 'e81', 'e312', 'fExterior13', None, None, 'd', 'red')\n",
            "('e202', 'n14', (6.0,3.0), 'e201', 'e311', 'e131', 'fExterior14', None, None, 'd', 'blue')\n",
            "('e201', 'n16', (8.0,6.0), 'e202', 'e222', 'e151', 'fExterior15', None, None, None, 'red')\n",
            "('e211', 'n10', (4.0,2.5), 'e212', 'e321', 'e222', 'fExterior15', None, None, 'i', 'red')\n",
            "('e212', 'n12', (2.0,-4.0), 'e211', 'e101', 'e111', 'fExterior6', None, None, None, 'green')\n",
            "('e221', 'n10', (4.0,2.5), 'e222', 'e241', 'e91', 'fExterior10', None, None, None, 'red')\n",
            "('e222', 'n14', (6.0,3.0), 'e221', 'e211', 'e201', 'fExterior15', None, None, None, 'blue')\n",
            "('e232', 'n16', (8.0,6.0), 'e231', 'e242', 'e191', 'fExterior14', None, None, None, 'red')\n",
            "('e231', 'n9', (5.0,12.0), 'e232', 'e282', 'e81', 'fExterior13', None, None, None, 'green')\n",
            "('e242', 'n9', (5.0,12.0), 'e241', 'e322', 'e232', 'fExterior14', None, None, None, 'green')\n",
            "('e241', 'n14', (6.0,3.0), 'e242', 'e91', 'e221', 'fExterior10', None, None, None, 'blue')\n",
            "('e252', 'n17', (9.0,-1.0), 'e251', 'e281', 'e161', 'fExterior13', None, None, None, 'green')\n",
            "('e251', 'n1', (11.0,4.0), 'e252', 'e171', 'e182', 'fExterior11', None, None, None, 'blue')\n",
            "('e261', 'n4', (13.0,15.0), 'e262', 'e301', 'e31', 'fExterior12', None, None, None, 'blue')\n",
            "('e262', 'n6', (9.5,11.0), 'e261', 'e41', 'e51', 'fExterior6', None, None, None, 'green')\n",
            "('e272', 'n7', (10.0,6.0), 'e271', 'e292', 'e181', 'fExterior11', None, None, None, None)\n",
            "('e271', 'n3', (12.0,10.0), 'e272', 'e312', 'e21', 'fExterior13', None, None, None, 'red')\n",
            "('e282', 'n16', (8.0,6.0), 'e281', 'e11', 'e231', 'fExterior13', None, None, None, 'red')\n",
            "('e281', 'n1', (11.0,4.0), 'e282', 'e161', 'e252', 'fExterior13', None, None, None, 'blue')\n",
            "('e291', 'n1', (11.0,4.0), 'e292', 'e302', 'e01', 'fExterior11', None, None, None, 'blue')\n",
            "('e292', 'n3', (12.0,10.0), 'e291', 'e181', 'e272', 'fExterior11', None, None, None, 'red')\n",
            "('e302', 'n3', (12.0,10.0), 'e301', 'e61', 'e291', 'fExterior11', None, None, None, 'red')\n",
            "('e301', 'n6', (9.5,11.0), 'e302', 'e31', 'e261', 'fExterior12', None, None, None, 'green')\n",
            "('e312', 'n7', (10.0,6.0), 'e311', 'e192', 'e271', 'fExterior13', None, None, None, None)\n",
            "('e311', 'n16', (8.0,6.0), 'e312', 'e71', 'e202', 'fExterior14', None, None, None, 'red')\n",
            "('e322', 'n14', (6.0,3.0), 'e321', 'e121', 'e242', 'fExterior14', None, None, None, 'blue')\n",
            "('e321', 'n12', (2.0,-4.0), 'e322', 'e141', 'e211', 'fExterior15', None, None, None, 'green')\n"
          ]
        }
      ]
    },
    {
      "cell_type": "code",
      "source": [
        "lineas = []\n",
        "for i in test20:\n",
        "  siguiente = i.siguiente\n",
        "  lineas.append((test20[encontrarSemiaristaa(test20, siguiente)].coordenadas, i.coordenadas))"
      ],
      "metadata": {
        "id": "pb7sKtTTeII8"
      },
      "execution_count": 85,
      "outputs": []
    },
    {
      "cell_type": "code",
      "source": [
        "test20"
      ],
      "metadata": {
        "colab": {
          "base_uri": "https://localhost:8080/"
        },
        "id": "TtIC14InsIaT",
        "outputId": "3d585076-d63a-440a-e1da-6145cc93c55b"
      },
      "execution_count": 86,
      "outputs": [
        {
          "output_type": "execute_result",
          "data": {
            "text/plain": [
              "[('e161', 'n16', (8.0,6.0), 'e162', 'e252', 'e281', 'fExterior13', None, None, 'i', 'red'),\n",
              " ('e141', 'n14', (6.0,3.0), 'e142', 'e151', 'e321', 'fExterior15', None, None, 'i', 'blue'),\n",
              " ('e11', 'n1', (11.0,4.0), 'e12', 'e21', 'e282', 'fExterior13', None, None, 'i', 'blue'),\n",
              " ('e71', 'n7', (10.0,6.0), 'e72', 'e191', 'e311', 'fExterior14', None, None, 'd', None),\n",
              " ('e41', 'n4', (13.0,15.0), 'e42', 'e51', 'e262', 'fExterior6', None, None, 'd', 'blue'),\n",
              " ('e51', 'n5', (11.0,15.0), 'e52', 'e262', 'e41', 'fExterior6', None, None, None, 'red'),\n",
              " ('e61', 'n6', (9.5,11.0), 'e62', 'e182', 'e302', 'fExterior11', None, None, 'i', 'green'),\n",
              " ('e31', 'n3', (12.0,10.0), 'e32', 'e261', 'e301', 'fExterior12', None, None, 'd', 'red'),\n",
              " ('e81', 'n8', (7.0,12.0), 'e82', 'e231', 'e192', 'fExterior13', None, None, 'd', 'blue'),\n",
              " ('e91', 'n9', (5.0,12.0), 'e92', 'e221', 'e241', 'fExterior10', None, None, None, 'green'),\n",
              " ('e101', 'n10', (4.0,2.5), 'e102', 'e111', 'e212', 'fExterior6', None, None, 'd', 'red'),\n",
              " ('e111', 'n11', (3.0,4.0), 'e112', 'e212', 'e101', 'fExterior6', None, None, None, 'blue'),\n",
              " ('e121', 'n12', (2.0,-4.0), 'e122', 'e131', 'e322', 'fExterior14', None, None, 'i', 'green'),\n",
              " ('e131', 'n13', (4.0,-4.0), 'e132', 'e202', 'e121', 'fExterior14', None, None, None, 'red'),\n",
              " ('e21', 'n2', (13.0,3.0), 'e22', 'e271', 'e11', 'fExterior13', None, None, None, 'green'),\n",
              " ('e151', 'n15', (7.0,-3.0), 'e152', 'e201', 'e141', 'fExterior15', None, None, None, 'green'),\n",
              " ('e01', 'n0', (10.0,-1.0), 'e02', 'e291', 'e171', 'fExterior11', None, None, None, 'red'),\n",
              " ('e171', 'n17', (9.0,-1.0), 'e172', 'e01', 'e251', 'fExterior11', None, None, 'i', 'green'),\n",
              " ('e02', 'n1', (11.0,4.0), 'e01', 'e172', 'e12', 'fInterior1', None, None, None, 'blue'),\n",
              " ('e172', 'n0', (10.0,-1.0), 'e171', 'e162', 'e02', 'fInterior1', None, None, None, 'red'),\n",
              " ('e162', 'n17', (9.0,-1.0), 'e161', 'e152', 'e172', 'fInterior1', None, None, None, 'green'),\n",
              " ('e152', 'n16', (8.0,6.0), 'e151', 'e142', 'e162', 'fInterior1', None, None, None, 'red'),\n",
              " ('e142', 'n15', (7.0,-3.0), 'e141', 'e132', 'e152', 'fInterior1', None, None, None, 'green'),\n",
              " ('e132', 'n14', (6.0,3.0), 'e131', 'e122', 'e142', 'fInterior1', None, None, None, 'blue'),\n",
              " ('e122', 'n13', (4.0,-4.0), 'e121', 'e112', 'e132', 'fInterior1', None, None, None, 'red'),\n",
              " ('e112', 'n12', (2.0,-4.0), 'e111', 'e102', 'e122', 'fInterior1', None, None, None, 'green'),\n",
              " ('e102', 'n11', (3.0,4.0), 'e101', 'e92', 'e112', 'fInterior1', None, None, None, 'blue'),\n",
              " ('e92', 'n10', (4.0,2.5), 'e91', 'e82', 'e102', 'fInterior1', None, None, None, 'red'),\n",
              " ('e82', 'n9', (5.0,12.0), 'e81', 'e72', 'e92', 'fInterior1', None, None, None, 'green'),\n",
              " ('e72', 'n8', (7.0,12.0), 'e71', 'e62', 'e82', 'fInterior1', None, None, None, 'blue'),\n",
              " ('e62', 'n7', (10.0,6.0), 'e61', 'e52', 'e72', 'fInterior1', None, None, None, None),\n",
              " ('e52', 'n6', (9.5,11.0), 'e51', 'e42', 'e62', 'fInterior1', None, None, None, 'green'),\n",
              " ('e42', 'n5', (11.0,15.0), 'e41', 'e32', 'e52', 'fInterior1', None, None, None, 'red'),\n",
              " ('e32', 'n4', (13.0,15.0), 'e31', 'e22', 'e42', 'fInterior1', None, None, None, 'blue'),\n",
              " ('e22', 'n3', (12.0,10.0), 'e21', 'e12', 'e32', 'fInterior1', None, None, None, 'red'),\n",
              " ('e12', 'n2', (13.0,3.0), 'e11', 'e02', 'e22', 'fInterior1', None, None, None, 'green'),\n",
              " ('e181', 'n1', (11.0,4.0), 'e182', 'e272', 'e292', 'fExterior11', None, None, 'd', 'blue'),\n",
              " ('e182', 'n7', (10.0,6.0), 'e181', 'e251', 'e61', 'fExterior11', None, None, 'i', None),\n",
              " ('e191', 'n8', (7.0,12.0), 'e192', 'e232', 'e71', 'fExterior14', None, None, None, 'blue'),\n",
              " ('e192', 'n16', (8.0,6.0), 'e191', 'e81', 'e312', 'fExterior13', None, None, 'd', 'red'),\n",
              " ('e202', 'n14', (6.0,3.0), 'e201', 'e311', 'e131', 'fExterior14', None, None, 'd', 'blue'),\n",
              " ('e201', 'n16', (8.0,6.0), 'e202', 'e222', 'e151', 'fExterior15', None, None, None, 'red'),\n",
              " ('e211', 'n10', (4.0,2.5), 'e212', 'e321', 'e222', 'fExterior15', None, None, 'i', 'red'),\n",
              " ('e212', 'n12', (2.0,-4.0), 'e211', 'e101', 'e111', 'fExterior6', None, None, None, 'green'),\n",
              " ('e221', 'n10', (4.0,2.5), 'e222', 'e241', 'e91', 'fExterior10', None, None, None, 'red'),\n",
              " ('e222', 'n14', (6.0,3.0), 'e221', 'e211', 'e201', 'fExterior15', None, None, None, 'blue'),\n",
              " ('e232', 'n16', (8.0,6.0), 'e231', 'e242', 'e191', 'fExterior14', None, None, None, 'red'),\n",
              " ('e231', 'n9', (5.0,12.0), 'e232', 'e282', 'e81', 'fExterior13', None, None, None, 'green'),\n",
              " ('e242', 'n9', (5.0,12.0), 'e241', 'e322', 'e232', 'fExterior14', None, None, None, 'green'),\n",
              " ('e241', 'n14', (6.0,3.0), 'e242', 'e91', 'e221', 'fExterior10', None, None, None, 'blue'),\n",
              " ('e252', 'n17', (9.0,-1.0), 'e251', 'e281', 'e161', 'fExterior13', None, None, None, 'green'),\n",
              " ('e251', 'n1', (11.0,4.0), 'e252', 'e171', 'e182', 'fExterior11', None, None, None, 'blue'),\n",
              " ('e261', 'n4', (13.0,15.0), 'e262', 'e301', 'e31', 'fExterior12', None, None, None, 'blue'),\n",
              " ('e262', 'n6', (9.5,11.0), 'e261', 'e41', 'e51', 'fExterior6', None, None, None, 'green'),\n",
              " ('e272', 'n7', (10.0,6.0), 'e271', 'e292', 'e181', 'fExterior11', None, None, None, None),\n",
              " ('e271', 'n3', (12.0,10.0), 'e272', 'e312', 'e21', 'fExterior13', None, None, None, 'red'),\n",
              " ('e282', 'n16', (8.0,6.0), 'e281', 'e11', 'e231', 'fExterior13', None, None, None, 'red'),\n",
              " ('e281', 'n1', (11.0,4.0), 'e282', 'e161', 'e252', 'fExterior13', None, None, None, 'blue'),\n",
              " ('e291', 'n1', (11.0,4.0), 'e292', 'e302', 'e01', 'fExterior11', None, None, None, 'blue'),\n",
              " ('e292', 'n3', (12.0,10.0), 'e291', 'e181', 'e272', 'fExterior11', None, None, None, 'red'),\n",
              " ('e302', 'n3', (12.0,10.0), 'e301', 'e61', 'e291', 'fExterior11', None, None, None, 'red'),\n",
              " ('e301', 'n6', (9.5,11.0), 'e302', 'e31', 'e261', 'fExterior12', None, None, None, 'green'),\n",
              " ('e312', 'n7', (10.0,6.0), 'e311', 'e192', 'e271', 'fExterior13', None, None, None, None),\n",
              " ('e311', 'n16', (8.0,6.0), 'e312', 'e71', 'e202', 'fExterior14', None, None, None, 'red'),\n",
              " ('e322', 'n14', (6.0,3.0), 'e321', 'e121', 'e242', 'fExterior14', None, None, None, 'blue'),\n",
              " ('e321', 'n12', (2.0,-4.0), 'e322', 'e141', 'e211', 'fExterior15', None, None, None, 'green')]"
            ]
          },
          "metadata": {},
          "execution_count": 86
        }
      ]
    },
    {
      "cell_type": "code",
      "source": [
        "\n",
        "plt.figure()\n",
        "for segment in lineas:\n",
        "    x_values = [punto.x for punto in segment]\n",
        "    y_values = [punto.y for punto in segment]\n",
        "    plt.plot(x_values, y_values, marker='o', linestyle='-', linewidth=1, zorder=1)\n",
        "plt.xlabel('X-axis')\n",
        "plt.ylabel('Y-axis')\n",
        "plt.title('Segments of the Polygon')\n",
        "plt.grid(True)\n",
        "\n",
        "\n",
        "for i in adda:\n",
        "    plt.scatter(i.coordenadas.x, i.coordenadas.y, color=i.color, zorder=2)\n",
        "\n",
        "plt.show()"
      ],
      "metadata": {
        "colab": {
          "base_uri": "https://localhost:8080/",
          "height": 472
        },
        "id": "3HL8x4SCeoGf",
        "outputId": "8c2ea189-3088-4986-bd6d-949071da0a55"
      },
      "execution_count": 87,
      "outputs": [
        {
          "output_type": "display_data",
          "data": {
            "text/plain": [
              "<Figure size 640x480 with 1 Axes>"
            ],
            "image/png": "[encoded data removed]"
          },
          "metadata": {}
        }
      ]
    },
    {
      "cell_type": "markdown",
      "source": [
        "Se puede ver que el color que menos se repite es el azul, luego con 5 camaras se puede vigilar la galeria"
      ],
      "metadata": {
        "id": "YhLQobtDubjL"
      }
    }
  ],
  "metadata": {
    "colab": {
      "collapsed_sections": [
        "kPsok7wP6zVJ",
        "1kDl_5bA6sEy",
        "5gPRJshj8-mf",
        "YYI_cJIAJEYb"
      ],
      "provenance": []
    },
    "kernelspec": {
      "display_name": "Python 3",
      "name": "python3"
    },
    "language_info": {
      "name": "python"
    }
  },
  "nbformat": 4,
  "nbformat_minor": 0
}